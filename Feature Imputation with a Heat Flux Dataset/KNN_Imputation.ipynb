{
 "cells": [
  {
   "cell_type": "code",
   "execution_count": 1,
   "id": "bafd86e1",
   "metadata": {},
   "outputs": [],
   "source": [
    "import pandas as pd\n",
    "import numpy as np"
   ]
  },
  {
   "cell_type": "code",
   "execution_count": 7,
   "id": "a98327a8",
   "metadata": {},
   "outputs": [
    {
     "data": {
      "text/html": [
       "<div>\n",
       "<style scoped>\n",
       "    .dataframe tbody tr th:only-of-type {\n",
       "        vertical-align: middle;\n",
       "    }\n",
       "\n",
       "    .dataframe tbody tr th {\n",
       "        vertical-align: top;\n",
       "    }\n",
       "\n",
       "    .dataframe thead th {\n",
       "        text-align: right;\n",
       "    }\n",
       "</style>\n",
       "<table border=\"1\" class=\"dataframe\">\n",
       "  <thead>\n",
       "    <tr style=\"text-align: right;\">\n",
       "      <th></th>\n",
       "      <th>id</th>\n",
       "      <th>author</th>\n",
       "      <th>geometry</th>\n",
       "      <th>pressure [MPa]</th>\n",
       "      <th>mass_flux [kg/m2-s]</th>\n",
       "      <th>x_e_out [-]</th>\n",
       "      <th>D_e [mm]</th>\n",
       "      <th>D_h [mm]</th>\n",
       "      <th>length [mm]</th>\n",
       "      <th>chf_exp [MW/m2]</th>\n",
       "    </tr>\n",
       "  </thead>\n",
       "  <tbody>\n",
       "    <tr>\n",
       "      <th>0</th>\n",
       "      <td>0</td>\n",
       "      <td>Thompson</td>\n",
       "      <td>tube</td>\n",
       "      <td>7.00</td>\n",
       "      <td>3770.0</td>\n",
       "      <td>0.1754</td>\n",
       "      <td>NaN</td>\n",
       "      <td>10.8</td>\n",
       "      <td>432.0</td>\n",
       "      <td>3.6</td>\n",
       "    </tr>\n",
       "    <tr>\n",
       "      <th>1</th>\n",
       "      <td>1</td>\n",
       "      <td>Thompson</td>\n",
       "      <td>tube</td>\n",
       "      <td>NaN</td>\n",
       "      <td>6049.0</td>\n",
       "      <td>-0.0416</td>\n",
       "      <td>10.3</td>\n",
       "      <td>10.3</td>\n",
       "      <td>762.0</td>\n",
       "      <td>6.2</td>\n",
       "    </tr>\n",
       "    <tr>\n",
       "      <th>2</th>\n",
       "      <td>2</td>\n",
       "      <td>Thompson</td>\n",
       "      <td>NaN</td>\n",
       "      <td>13.79</td>\n",
       "      <td>2034.0</td>\n",
       "      <td>0.0335</td>\n",
       "      <td>7.7</td>\n",
       "      <td>7.7</td>\n",
       "      <td>457.0</td>\n",
       "      <td>2.5</td>\n",
       "    </tr>\n",
       "    <tr>\n",
       "      <th>3</th>\n",
       "      <td>3</td>\n",
       "      <td>Beus</td>\n",
       "      <td>annulus</td>\n",
       "      <td>13.79</td>\n",
       "      <td>3679.0</td>\n",
       "      <td>-0.0279</td>\n",
       "      <td>5.6</td>\n",
       "      <td>15.2</td>\n",
       "      <td>2134.0</td>\n",
       "      <td>3.0</td>\n",
       "    </tr>\n",
       "    <tr>\n",
       "      <th>4</th>\n",
       "      <td>5</td>\n",
       "      <td>NaN</td>\n",
       "      <td>NaN</td>\n",
       "      <td>17.24</td>\n",
       "      <td>3648.0</td>\n",
       "      <td>-0.0711</td>\n",
       "      <td>NaN</td>\n",
       "      <td>1.9</td>\n",
       "      <td>696.0</td>\n",
       "      <td>3.6</td>\n",
       "    </tr>\n",
       "  </tbody>\n",
       "</table>\n",
       "</div>"
      ],
      "text/plain": [
       "   id    author geometry  pressure [MPa]  mass_flux [kg/m2-s]  x_e_out [-]  \\\n",
       "0   0  Thompson     tube            7.00               3770.0       0.1754   \n",
       "1   1  Thompson     tube             NaN               6049.0      -0.0416   \n",
       "2   2  Thompson      NaN           13.79               2034.0       0.0335   \n",
       "3   3      Beus  annulus           13.79               3679.0      -0.0279   \n",
       "4   5       NaN      NaN           17.24               3648.0      -0.0711   \n",
       "\n",
       "   D_e [mm]  D_h [mm]  length [mm]  chf_exp [MW/m2]  \n",
       "0       NaN      10.8        432.0              3.6  \n",
       "1      10.3      10.3        762.0              6.2  \n",
       "2       7.7       7.7        457.0              2.5  \n",
       "3       5.6      15.2       2134.0              3.0  \n",
       "4       NaN       1.9        696.0              3.6  "
      ]
     },
     "execution_count": 7,
     "metadata": {},
     "output_type": "execute_result"
    }
   ],
   "source": [
    "train = pd.read_csv(\"data/train_combine.csv\")\n",
    "train.head()"
   ]
  },
  {
   "cell_type": "code",
   "execution_count": 20,
   "id": "ebfb3eb1",
   "metadata": {},
   "outputs": [],
   "source": [
    "y = train['x_e_out [-]']\n",
    "X = train.drop(columns=['id','x_e_out [-]'])\n",
    "X_copy = X"
   ]
  },
  {
   "cell_type": "code",
   "execution_count": 18,
   "id": "56abc81f",
   "metadata": {},
   "outputs": [
    {
     "data": {
      "text/html": [
       "<div>\n",
       "<style scoped>\n",
       "    .dataframe tbody tr th:only-of-type {\n",
       "        vertical-align: middle;\n",
       "    }\n",
       "\n",
       "    .dataframe tbody tr th {\n",
       "        vertical-align: top;\n",
       "    }\n",
       "\n",
       "    .dataframe thead th {\n",
       "        text-align: right;\n",
       "    }\n",
       "</style>\n",
       "<table border=\"1\" class=\"dataframe\">\n",
       "  <thead>\n",
       "    <tr style=\"text-align: right;\">\n",
       "      <th></th>\n",
       "      <th>author</th>\n",
       "      <th>geometry</th>\n",
       "      <th>pressure [MPa]</th>\n",
       "      <th>mass_flux [kg/m2-s]</th>\n",
       "      <th>D_e [mm]</th>\n",
       "      <th>D_h [mm]</th>\n",
       "      <th>length [mm]</th>\n",
       "      <th>chf_exp [MW/m2]</th>\n",
       "    </tr>\n",
       "  </thead>\n",
       "  <tbody>\n",
       "    <tr>\n",
       "      <th>0</th>\n",
       "      <td>Thompson</td>\n",
       "      <td>tube</td>\n",
       "      <td>7.00</td>\n",
       "      <td>3770.0</td>\n",
       "      <td>NaN</td>\n",
       "      <td>2.379546</td>\n",
       "      <td>6.068426</td>\n",
       "      <td>1.280934</td>\n",
       "    </tr>\n",
       "    <tr>\n",
       "      <th>1</th>\n",
       "      <td>Thompson</td>\n",
       "      <td>tube</td>\n",
       "      <td>NaN</td>\n",
       "      <td>6049.0</td>\n",
       "      <td>2.332144</td>\n",
       "      <td>2.332144</td>\n",
       "      <td>6.635947</td>\n",
       "      <td>1.824549</td>\n",
       "    </tr>\n",
       "    <tr>\n",
       "      <th>2</th>\n",
       "      <td>Thompson</td>\n",
       "      <td>NaN</td>\n",
       "      <td>13.79</td>\n",
       "      <td>2034.0</td>\n",
       "      <td>2.041220</td>\n",
       "      <td>2.041220</td>\n",
       "      <td>6.124683</td>\n",
       "      <td>0.916291</td>\n",
       "    </tr>\n",
       "    <tr>\n",
       "      <th>3</th>\n",
       "      <td>Beus</td>\n",
       "      <td>annulus</td>\n",
       "      <td>13.79</td>\n",
       "      <td>3679.0</td>\n",
       "      <td>1.722767</td>\n",
       "      <td>2.721295</td>\n",
       "      <td>7.665753</td>\n",
       "      <td>1.098612</td>\n",
       "    </tr>\n",
       "    <tr>\n",
       "      <th>4</th>\n",
       "      <td>NaN</td>\n",
       "      <td>NaN</td>\n",
       "      <td>17.24</td>\n",
       "      <td>3648.0</td>\n",
       "      <td>NaN</td>\n",
       "      <td>0.641854</td>\n",
       "      <td>6.545350</td>\n",
       "      <td>1.280934</td>\n",
       "    </tr>\n",
       "  </tbody>\n",
       "</table>\n",
       "</div>"
      ],
      "text/plain": [
       "     author geometry  pressure [MPa]  mass_flux [kg/m2-s]  D_e [mm]  D_h [mm]  \\\n",
       "0  Thompson     tube            7.00               3770.0       NaN  2.379546   \n",
       "1  Thompson     tube             NaN               6049.0  2.332144  2.332144   \n",
       "2  Thompson      NaN           13.79               2034.0  2.041220  2.041220   \n",
       "3      Beus  annulus           13.79               3679.0  1.722767  2.721295   \n",
       "4       NaN      NaN           17.24               3648.0       NaN  0.641854   \n",
       "\n",
       "   length [mm]  chf_exp [MW/m2]  \n",
       "0     6.068426         1.280934  \n",
       "1     6.635947         1.824549  \n",
       "2     6.124683         0.916291  \n",
       "3     7.665753         1.098612  \n",
       "4     6.545350         1.280934  "
      ]
     },
     "execution_count": 18,
     "metadata": {},
     "output_type": "execute_result"
    }
   ],
   "source": [
    "# def preprocess_data(df):\n",
    "#     df['chf_exp [MW/m2]'] = np.log(df['chf_exp [MW/m2]'])\n",
    "#     df['D_e [mm]'] = np.log(df['D_e [mm]'])\n",
    "#     df['D_h [mm]'] = np.log(df['D_h [mm]'])\n",
    "#     df['length [mm]'] = np.log(df['length [mm]'])\n",
    "#     return df\n",
    "\n",
    "# preprocess_data(X_copy)\n",
    "# X_copy.head()"
   ]
  },
  {
   "cell_type": "code",
   "execution_count": 21,
   "id": "cddca319",
   "metadata": {},
   "outputs": [
    {
     "data": {
      "text/html": [
       "<div>\n",
       "<style scoped>\n",
       "    .dataframe tbody tr th:only-of-type {\n",
       "        vertical-align: middle;\n",
       "    }\n",
       "\n",
       "    .dataframe tbody tr th {\n",
       "        vertical-align: top;\n",
       "    }\n",
       "\n",
       "    .dataframe thead th {\n",
       "        text-align: right;\n",
       "    }\n",
       "</style>\n",
       "<table border=\"1\" class=\"dataframe\">\n",
       "  <thead>\n",
       "    <tr style=\"text-align: right;\">\n",
       "      <th></th>\n",
       "      <th>author</th>\n",
       "      <th>geometry</th>\n",
       "      <th>pressure [MPa]</th>\n",
       "      <th>mass_flux [kg/m2-s]</th>\n",
       "      <th>D_e [mm]</th>\n",
       "      <th>D_h [mm]</th>\n",
       "      <th>length [mm]</th>\n",
       "      <th>chf_exp [MW/m2]</th>\n",
       "    </tr>\n",
       "  </thead>\n",
       "  <tbody>\n",
       "    <tr>\n",
       "      <th>0</th>\n",
       "      <td>Thompson</td>\n",
       "      <td>tube</td>\n",
       "      <td>7.00</td>\n",
       "      <td>3770.0</td>\n",
       "      <td>NaN</td>\n",
       "      <td>10.8</td>\n",
       "      <td>432.0</td>\n",
       "      <td>3.6</td>\n",
       "    </tr>\n",
       "    <tr>\n",
       "      <th>1</th>\n",
       "      <td>Thompson</td>\n",
       "      <td>tube</td>\n",
       "      <td>NaN</td>\n",
       "      <td>6049.0</td>\n",
       "      <td>10.3</td>\n",
       "      <td>10.3</td>\n",
       "      <td>762.0</td>\n",
       "      <td>6.2</td>\n",
       "    </tr>\n",
       "    <tr>\n",
       "      <th>2</th>\n",
       "      <td>Thompson</td>\n",
       "      <td>NaN</td>\n",
       "      <td>13.79</td>\n",
       "      <td>2034.0</td>\n",
       "      <td>7.7</td>\n",
       "      <td>7.7</td>\n",
       "      <td>457.0</td>\n",
       "      <td>2.5</td>\n",
       "    </tr>\n",
       "    <tr>\n",
       "      <th>3</th>\n",
       "      <td>Beus</td>\n",
       "      <td>annulus</td>\n",
       "      <td>13.79</td>\n",
       "      <td>3679.0</td>\n",
       "      <td>5.6</td>\n",
       "      <td>15.2</td>\n",
       "      <td>2134.0</td>\n",
       "      <td>3.0</td>\n",
       "    </tr>\n",
       "    <tr>\n",
       "      <th>4</th>\n",
       "      <td>NaN</td>\n",
       "      <td>NaN</td>\n",
       "      <td>17.24</td>\n",
       "      <td>3648.0</td>\n",
       "      <td>NaN</td>\n",
       "      <td>1.9</td>\n",
       "      <td>696.0</td>\n",
       "      <td>3.6</td>\n",
       "    </tr>\n",
       "  </tbody>\n",
       "</table>\n",
       "</div>"
      ],
      "text/plain": [
       "     author geometry  pressure [MPa]  mass_flux [kg/m2-s]  D_e [mm]  D_h [mm]  \\\n",
       "0  Thompson     tube            7.00               3770.0       NaN      10.8   \n",
       "1  Thompson     tube             NaN               6049.0      10.3      10.3   \n",
       "2  Thompson      NaN           13.79               2034.0       7.7       7.7   \n",
       "3      Beus  annulus           13.79               3679.0       5.6      15.2   \n",
       "4       NaN      NaN           17.24               3648.0       NaN       1.9   \n",
       "\n",
       "   length [mm]  chf_exp [MW/m2]  \n",
       "0        432.0              3.6  \n",
       "1        762.0              6.2  \n",
       "2        457.0              2.5  \n",
       "3       2134.0              3.0  \n",
       "4        696.0              3.6  "
      ]
     },
     "execution_count": 21,
     "metadata": {},
     "output_type": "execute_result"
    }
   ],
   "source": [
    "X.head()"
   ]
  },
  {
   "cell_type": "code",
   "execution_count": 22,
   "id": "0cc2316e",
   "metadata": {},
   "outputs": [],
   "source": [
    "from sklearn.impute import KNNImputer\n",
    "from sklearn.preprocessing import OneHotEncoder, StandardScaler\n",
    "from sklearn.pipeline import make_pipeline"
   ]
  },
  {
   "cell_type": "code",
   "execution_count": 23,
   "id": "1c1e542c",
   "metadata": {},
   "outputs": [],
   "source": [
    "# set up preprocessing for numeric columns\n",
    "imp_knn = KNNImputer(n_neighbors=20)\n",
    "scaler = StandardScaler()"
   ]
  },
  {
   "cell_type": "code",
   "execution_count": 24,
   "id": "b69dc5c4",
   "metadata": {},
   "outputs": [],
   "source": [
    "# set up preprocessing for categorical columns\n",
    "from sklearn.impute import SimpleImputer\n",
    "imp_constant = SimpleImputer(strategy='constant')\n",
    "ohe = OneHotEncoder(handle_unknown='ignore')"
   ]
  },
  {
   "cell_type": "code",
   "execution_count": 25,
   "id": "cf96e583",
   "metadata": {},
   "outputs": [],
   "source": [
    "from sklearn.compose import make_column_selector, make_column_transformer"
   ]
  },
  {
   "cell_type": "code",
   "execution_count": 26,
   "id": "c177d2c4",
   "metadata": {},
   "outputs": [],
   "source": [
    "# select columns by data type\n",
    "num_cols = make_column_selector(dtype_include='number')\n",
    "cat_cols = make_column_selector(dtype_exclude='number')"
   ]
  },
  {
   "cell_type": "code",
   "execution_count": 27,
   "id": "b648ab80",
   "metadata": {},
   "outputs": [],
   "source": [
    "preprocessor = make_column_transformer(\n",
    "    (make_pipeline(imp_knn, scaler), num_cols),\n",
    "    (make_pipeline(imp_constant, ohe), cat_cols))"
   ]
  },
  {
   "cell_type": "code",
   "execution_count": 42,
   "id": "20505e44",
   "metadata": {},
   "outputs": [],
   "source": [
    "import lightgbm as lgb\n",
    "lgbm = lgb.LGBMRegressor(n_estimators=125,random_state = 318) #0.0054248\n",
    "\n",
    "from catboost import CatBoostRegressor\n",
    "cb = CatBoostRegressor(n_estimators=1000,random_state = 318,verbose=0, objective='RMSE') #0.005509\n",
    "\n",
    "from sklearn.ensemble import GradientBoostingRegressor,HistGradientBoostingRegressor\n",
    "hgbr = HistGradientBoostingRegressor(max_iter=1000,random_state=318)\n",
    "gbr = GradientBoostingRegressor(n_estimators=750)\n",
    "\n",
    "import xgboost as xgb\n",
    "xgb = xgb.XGBRegressor(n_estimators=35,random_state = 318) #0.005579\n",
    "\n",
    "from sklearn.ensemble import VotingRegressor\n",
    "vr1 = VotingRegressor([('hgbr',hgbr),('lgbm',lgbm),('cb',cb)])\n",
    "vr2 = VotingRegressor([('hgbr',hgbr),('lgbm',lgbm),('cb',cb),('xgb',xgb)])\n",
    "vr3 = VotingRegressor([('hgbr',hgbr),('lgbm',lgbm),('cb',cb),('xgb',xgb),('gbr',gbr)])"
   ]
  },
  {
   "cell_type": "code",
   "execution_count": 29,
   "id": "76767c43",
   "metadata": {},
   "outputs": [],
   "source": [
    "pipe_lgbm = make_pipeline(preprocessor, lgbm)"
   ]
  },
  {
   "cell_type": "code",
   "execution_count": 30,
   "id": "07d8d45e",
   "metadata": {},
   "outputs": [
    {
     "data": {
      "text/plain": [
       "[('columntransformer',\n",
       "  ColumnTransformer(transformers=[('pipeline-1',\n",
       "                                   Pipeline(steps=[('knnimputer',\n",
       "                                                    KNNImputer(n_neighbors=20)),\n",
       "                                                   ('standardscaler',\n",
       "                                                    StandardScaler())]),\n",
       "                                   <sklearn.compose._column_transformer.make_column_selector object at 0x000001632CA33D90>),\n",
       "                                  ('pipeline-2',\n",
       "                                   Pipeline(steps=[('simpleimputer',\n",
       "                                                    SimpleImputer(strategy='constant')),\n",
       "                                                   ('onehotencoder',\n",
       "                                                    OneHotEncoder(handle_unknown='ignore'))]),\n",
       "                                   <sklearn.compose._column_transformer.make_column_selector object at 0x000001632CBB7FA0>)])),\n",
       " ('lgbmregressor', LGBMRegressor(n_estimators=125, random_state=318))]"
      ]
     },
     "execution_count": 30,
     "metadata": {},
     "output_type": "execute_result"
    }
   ],
   "source": [
    "pipe_lgbm.steps"
   ]
  },
  {
   "cell_type": "code",
   "execution_count": 31,
   "id": "5040d3b5",
   "metadata": {},
   "outputs": [
    {
     "data": {
      "text/plain": [
       "-0.005424763250453465"
      ]
     },
     "execution_count": 31,
     "metadata": {},
     "output_type": "execute_result"
    }
   ],
   "source": [
    "#baseline of lgbm\n",
    "from sklearn.model_selection import cross_val_score\n",
    "cross_val_score(pipe_lgbm, X, y, scoring='neg_mean_squared_error').mean()"
   ]
  },
  {
   "cell_type": "code",
   "execution_count": 32,
   "id": "8bb8249b",
   "metadata": {},
   "outputs": [],
   "source": [
    "pipe_cb = make_pipeline(preprocessor, cb)"
   ]
  },
  {
   "cell_type": "code",
   "execution_count": 33,
   "id": "29e9eb4e",
   "metadata": {},
   "outputs": [
    {
     "data": {
      "text/plain": [
       "-0.005484776429228461"
      ]
     },
     "execution_count": 33,
     "metadata": {},
     "output_type": "execute_result"
    }
   ],
   "source": [
    "cross_val_score(pipe_cb, X, y, scoring='neg_mean_squared_error').mean()"
   ]
  },
  {
   "cell_type": "code",
   "execution_count": 34,
   "id": "4e6a0f1e",
   "metadata": {},
   "outputs": [],
   "source": [
    "pipe_gbr = make_pipeline(preprocessor, gbr)"
   ]
  },
  {
   "cell_type": "code",
   "execution_count": 35,
   "id": "b1784b26",
   "metadata": {},
   "outputs": [
    {
     "data": {
      "text/plain": [
       "-0.005600213750946591"
      ]
     },
     "execution_count": 35,
     "metadata": {},
     "output_type": "execute_result"
    }
   ],
   "source": [
    "cross_val_score(pipe_gbr, X, y, scoring='neg_mean_squared_error').mean()"
   ]
  },
  {
   "cell_type": "code",
   "execution_count": 38,
   "id": "4ef21ad3",
   "metadata": {},
   "outputs": [],
   "source": [
    "pipe_hgbr = make_pipeline(preprocessor, hgbr)"
   ]
  },
  {
   "cell_type": "code",
   "execution_count": 39,
   "id": "31a27ca4",
   "metadata": {},
   "outputs": [
    {
     "data": {
      "text/plain": [
       "-0.005462047756620175"
      ]
     },
     "execution_count": 39,
     "metadata": {},
     "output_type": "execute_result"
    }
   ],
   "source": [
    "cross_val_score(pipe_hgbr, X, y, scoring='neg_mean_squared_error').mean()"
   ]
  },
  {
   "cell_type": "code",
   "execution_count": 40,
   "id": "8046584e",
   "metadata": {},
   "outputs": [],
   "source": [
    "pipe_xgb = make_pipeline(preprocessor, xgb)"
   ]
  },
  {
   "cell_type": "code",
   "execution_count": 41,
   "id": "de1c4e99",
   "metadata": {},
   "outputs": [
    {
     "data": {
      "text/plain": [
       "-0.005563941320603681"
      ]
     },
     "execution_count": 41,
     "metadata": {},
     "output_type": "execute_result"
    }
   ],
   "source": [
    "cross_val_score(pipe_xgb, X, y, scoring='neg_mean_squared_error').mean()"
   ]
  },
  {
   "cell_type": "code",
   "execution_count": 43,
   "id": "d008ea40",
   "metadata": {},
   "outputs": [],
   "source": [
    "pipe_vr1 = make_pipeline(preprocessor, vr1)"
   ]
  },
  {
   "cell_type": "code",
   "execution_count": 44,
   "id": "e186527b",
   "metadata": {},
   "outputs": [
    {
     "data": {
      "text/plain": [
       "-0.005403493046271321"
      ]
     },
     "execution_count": 44,
     "metadata": {},
     "output_type": "execute_result"
    }
   ],
   "source": [
    "cross_val_score(pipe_vr1, X, y, scoring='neg_mean_squared_error').mean()"
   ]
  },
  {
   "cell_type": "code",
   "execution_count": 45,
   "id": "7af130f9",
   "metadata": {},
   "outputs": [],
   "source": [
    "pipe_vr2 = make_pipeline(preprocessor, vr2)"
   ]
  },
  {
   "cell_type": "code",
   "execution_count": 46,
   "id": "0e088c7f",
   "metadata": {},
   "outputs": [
    {
     "data": {
      "text/plain": [
       "-0.005408567515407955"
      ]
     },
     "execution_count": 46,
     "metadata": {},
     "output_type": "execute_result"
    }
   ],
   "source": [
    "cross_val_score(pipe_vr2, X, y, scoring='neg_mean_squared_error').mean()"
   ]
  },
  {
   "cell_type": "code",
   "execution_count": 47,
   "id": "9d841770",
   "metadata": {},
   "outputs": [],
   "source": [
    "pipe_vr3 = make_pipeline(preprocessor, vr3)"
   ]
  },
  {
   "cell_type": "code",
   "execution_count": 48,
   "id": "eed55444",
   "metadata": {},
   "outputs": [
    {
     "data": {
      "text/plain": [
       "-0.0054142359458214055"
      ]
     },
     "execution_count": 48,
     "metadata": {},
     "output_type": "execute_result"
    }
   ],
   "source": [
    "cross_val_score(pipe_vr3, X, y, scoring='neg_mean_squared_error').mean()"
   ]
  },
  {
   "cell_type": "code",
   "execution_count": 49,
   "id": "c6c80dae",
   "metadata": {},
   "outputs": [
    {
     "name": "stdout",
     "output_type": "stream",
     "text": [
      "Wall time: 4min 37s\n"
     ]
    },
    {
     "data": {
      "text/plain": [
       "GridSearchCV(estimator=Pipeline(steps=[('columntransformer',\n",
       "                                        ColumnTransformer(transformers=[('pipeline-1',\n",
       "                                                                         Pipeline(steps=[('knnimputer',\n",
       "                                                                                          KNNImputer(n_neighbors=20)),\n",
       "                                                                                         ('standardscaler',\n",
       "                                                                                          StandardScaler())]),\n",
       "                                                                         <sklearn.compose._column_transformer.make_column_selector object at 0x000001632CA33D90>),\n",
       "                                                                        ('pipeline-2',\n",
       "                                                                         Pipeline(steps=[('simpleimputer',\n",
       "                                                                                          SimpleImputer(s...\n",
       "                                                                         <sklearn.compose._column_transformer.make_column_selector object at 0x000001632CBB7FA0>)])),\n",
       "                                       ('votingregressor',\n",
       "                                        VotingRegressor(estimators=[('hgbr',\n",
       "                                                                     HistGradientBoostingRegressor(max_iter=1000,\n",
       "                                                                                                   random_state=318)),\n",
       "                                                                    ('lgbm',\n",
       "                                                                     LGBMRegressor(n_estimators=125,\n",
       "                                                                                   random_state=318)),\n",
       "                                                                    ('cb',\n",
       "                                                                     <catboost.core.CatBoostRegressor object at 0x0000016332C25340>)]))]),\n",
       "             param_grid={'votingregressor__weights': [(1, 2, 1), (2, 1, 1),\n",
       "                                                      (1, 1, 2)]},\n",
       "             scoring='neg_mean_squared_error')"
      ]
     },
     "execution_count": 49,
     "metadata": {},
     "output_type": "execute_result"
    }
   ],
   "source": [
    "from sklearn.model_selection import GridSearchCV\n",
    "\n",
    "params1 = {}\n",
    "params1['votingregressor__weights'] = [(1,2,1),(2,1,1),(1,1,2)]\n",
    "\n",
    "grid1 = GridSearchCV(pipe_vr1, params1, scoring='neg_mean_squared_error')\n",
    "%time grid1.fit(X,y)"
   ]
  },
  {
   "cell_type": "code",
   "execution_count": 51,
   "id": "00533b21",
   "metadata": {},
   "outputs": [
    {
     "data": {
      "text/plain": [
       "{'votingregressor__weights': (1, 2, 1)}"
      ]
     },
     "execution_count": 51,
     "metadata": {},
     "output_type": "execute_result"
    }
   ],
   "source": [
    "grid1.best_params_"
   ]
  },
  {
   "cell_type": "code",
   "execution_count": 52,
   "id": "65dc14be",
   "metadata": {},
   "outputs": [
    {
     "data": {
      "text/plain": [
       "-0.0054014158855837605"
      ]
     },
     "execution_count": 52,
     "metadata": {},
     "output_type": "execute_result"
    }
   ],
   "source": [
    "grid1.best_score_"
   ]
  },
  {
   "cell_type": "markdown",
   "id": "61953352",
   "metadata": {},
   "source": [
    "- best one"
   ]
  },
  {
   "cell_type": "code",
   "execution_count": 50,
   "id": "a7764327",
   "metadata": {},
   "outputs": [
    {
     "name": "stdout",
     "output_type": "stream",
     "text": [
      "Wall time: 4min 42s\n"
     ]
    },
    {
     "data": {
      "text/plain": [
       "GridSearchCV(estimator=Pipeline(steps=[('columntransformer',\n",
       "                                        ColumnTransformer(transformers=[('pipeline-1',\n",
       "                                                                         Pipeline(steps=[('knnimputer',\n",
       "                                                                                          KNNImputer(n_neighbors=20)),\n",
       "                                                                                         ('standardscaler',\n",
       "                                                                                          StandardScaler())]),\n",
       "                                                                         <sklearn.compose._column_transformer.make_column_selector object at 0x000001632CA33D90>),\n",
       "                                                                        ('pipeline-2',\n",
       "                                                                         Pipeline(steps=[('simpleimputer',\n",
       "                                                                                          SimpleImputer(s...\n",
       "                                                                                  max_cat_threshold=None,\n",
       "                                                                                  max_cat_to_onehot=None,\n",
       "                                                                                  max_delta_step=None,\n",
       "                                                                                  max_depth=None,\n",
       "                                                                                  max_leaves=None,\n",
       "                                                                                  min_child_weight=None,\n",
       "                                                                                  missing=nan,\n",
       "                                                                                  monotone_constraints=None,\n",
       "                                                                                  n_estimators=35,\n",
       "                                                                                  n_jobs=None,\n",
       "                                                                                  num_parallel_tree=None,\n",
       "                                                                                  predictor=None,\n",
       "                                                                                  random_state=318, ...))]))]),\n",
       "             param_grid={'votingregressor__weights': [(1, 1, 2, 1),\n",
       "                                                      (2, 1, 1, 1),\n",
       "                                                      (1, 2, 1, 1)]},\n",
       "             scoring='neg_mean_squared_error')"
      ]
     },
     "execution_count": 50,
     "metadata": {},
     "output_type": "execute_result"
    }
   ],
   "source": [
    "from sklearn.model_selection import GridSearchCV\n",
    "\n",
    "params2 = {}\n",
    "params2['votingregressor__weights'] = [(1,1,2,1),(2,1,1,1),(1,2,1,1)]\n",
    "\n",
    "grid2 = GridSearchCV(pipe_vr2, params2, scoring='neg_mean_squared_error')\n",
    "%time grid2.fit(X,y)"
   ]
  },
  {
   "cell_type": "code",
   "execution_count": 53,
   "id": "7333d697",
   "metadata": {},
   "outputs": [
    {
     "data": {
      "text/plain": [
       "{'votingregressor__weights': (1, 2, 1, 1)}"
      ]
     },
     "execution_count": 53,
     "metadata": {},
     "output_type": "execute_result"
    }
   ],
   "source": [
    "grid2.best_params_"
   ]
  },
  {
   "cell_type": "code",
   "execution_count": 55,
   "id": "cb9e3f21",
   "metadata": {},
   "outputs": [
    {
     "data": {
      "text/plain": [
       "-0.005403721398422356"
      ]
     },
     "execution_count": 55,
     "metadata": {},
     "output_type": "execute_result"
    }
   ],
   "source": [
    "grid2.best_score_"
   ]
  },
  {
   "cell_type": "code",
   "execution_count": 56,
   "id": "72b61800",
   "metadata": {},
   "outputs": [],
   "source": [
    "#处理test值\n",
    "test = pd.read_csv('data/test.csv')\n",
    "X_test = test.drop(columns=['id','x_e_out [-]'])"
   ]
  },
  {
   "cell_type": "code",
   "execution_count": 57,
   "id": "bc8ac72f",
   "metadata": {},
   "outputs": [],
   "source": [
    "result = grid1.predict(X_test)"
   ]
  },
  {
   "cell_type": "code",
   "execution_count": 58,
   "id": "b1fa986f",
   "metadata": {},
   "outputs": [
    {
     "data": {
      "text/plain": [
       "array([-0.01228115, -0.09907373, -0.04192901, ...,  0.02717357,\n",
       "       -0.02206083, -0.01444748])"
      ]
     },
     "execution_count": 58,
     "metadata": {},
     "output_type": "execute_result"
    }
   ],
   "source": [
    "result"
   ]
  },
  {
   "cell_type": "code",
   "execution_count": 59,
   "id": "0d099181",
   "metadata": {},
   "outputs": [],
   "source": [
    "pd.DataFrame({'id':test.id, 'x_e_out [-]':result}).set_index('id').to_csv('sub_combine_knn_impute_vr.csv')"
   ]
  },
  {
   "cell_type": "code",
   "execution_count": null,
   "id": "1c773131",
   "metadata": {},
   "outputs": [],
   "source": [
    "- 0.75136"
   ]
  }
 ],
 "metadata": {
  "kernelspec": {
   "display_name": "Python 3 (ipykernel)",
   "language": "python",
   "name": "python3"
  },
  "language_info": {
   "codemirror_mode": {
    "name": "ipython",
    "version": 3
   },
   "file_extension": ".py",
   "mimetype": "text/x-python",
   "name": "python",
   "nbconvert_exporter": "python",
   "pygments_lexer": "ipython3",
   "version": "3.9.7"
  }
 },
 "nbformat": 4,
 "nbformat_minor": 5
}
