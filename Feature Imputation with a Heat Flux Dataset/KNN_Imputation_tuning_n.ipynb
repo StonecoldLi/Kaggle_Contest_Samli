{
 "cells": [
  {
   "cell_type": "code",
   "execution_count": 1,
   "id": "bafd86e1",
   "metadata": {},
   "outputs": [],
   "source": [
    "import pandas as pd\n",
    "import numpy as np"
   ]
  },
  {
   "cell_type": "code",
   "execution_count": 2,
   "id": "a98327a8",
   "metadata": {},
   "outputs": [
    {
     "data": {
      "text/html": [
       "<div>\n",
       "<style scoped>\n",
       "    .dataframe tbody tr th:only-of-type {\n",
       "        vertical-align: middle;\n",
       "    }\n",
       "\n",
       "    .dataframe tbody tr th {\n",
       "        vertical-align: top;\n",
       "    }\n",
       "\n",
       "    .dataframe thead th {\n",
       "        text-align: right;\n",
       "    }\n",
       "</style>\n",
       "<table border=\"1\" class=\"dataframe\">\n",
       "  <thead>\n",
       "    <tr style=\"text-align: right;\">\n",
       "      <th></th>\n",
       "      <th>id</th>\n",
       "      <th>author</th>\n",
       "      <th>geometry</th>\n",
       "      <th>pressure [MPa]</th>\n",
       "      <th>mass_flux [kg/m2-s]</th>\n",
       "      <th>x_e_out [-]</th>\n",
       "      <th>D_e [mm]</th>\n",
       "      <th>D_h [mm]</th>\n",
       "      <th>length [mm]</th>\n",
       "      <th>chf_exp [MW/m2]</th>\n",
       "    </tr>\n",
       "  </thead>\n",
       "  <tbody>\n",
       "    <tr>\n",
       "      <th>0</th>\n",
       "      <td>0</td>\n",
       "      <td>Thompson</td>\n",
       "      <td>tube</td>\n",
       "      <td>7.00</td>\n",
       "      <td>3770.0</td>\n",
       "      <td>0.1754</td>\n",
       "      <td>NaN</td>\n",
       "      <td>10.8</td>\n",
       "      <td>432.0</td>\n",
       "      <td>3.6</td>\n",
       "    </tr>\n",
       "    <tr>\n",
       "      <th>1</th>\n",
       "      <td>1</td>\n",
       "      <td>Thompson</td>\n",
       "      <td>tube</td>\n",
       "      <td>NaN</td>\n",
       "      <td>6049.0</td>\n",
       "      <td>-0.0416</td>\n",
       "      <td>10.3</td>\n",
       "      <td>10.3</td>\n",
       "      <td>762.0</td>\n",
       "      <td>6.2</td>\n",
       "    </tr>\n",
       "    <tr>\n",
       "      <th>2</th>\n",
       "      <td>2</td>\n",
       "      <td>Thompson</td>\n",
       "      <td>NaN</td>\n",
       "      <td>13.79</td>\n",
       "      <td>2034.0</td>\n",
       "      <td>0.0335</td>\n",
       "      <td>7.7</td>\n",
       "      <td>7.7</td>\n",
       "      <td>457.0</td>\n",
       "      <td>2.5</td>\n",
       "    </tr>\n",
       "    <tr>\n",
       "      <th>3</th>\n",
       "      <td>3</td>\n",
       "      <td>Beus</td>\n",
       "      <td>annulus</td>\n",
       "      <td>13.79</td>\n",
       "      <td>3679.0</td>\n",
       "      <td>-0.0279</td>\n",
       "      <td>5.6</td>\n",
       "      <td>15.2</td>\n",
       "      <td>2134.0</td>\n",
       "      <td>3.0</td>\n",
       "    </tr>\n",
       "    <tr>\n",
       "      <th>4</th>\n",
       "      <td>5</td>\n",
       "      <td>NaN</td>\n",
       "      <td>NaN</td>\n",
       "      <td>17.24</td>\n",
       "      <td>3648.0</td>\n",
       "      <td>-0.0711</td>\n",
       "      <td>NaN</td>\n",
       "      <td>1.9</td>\n",
       "      <td>696.0</td>\n",
       "      <td>3.6</td>\n",
       "    </tr>\n",
       "  </tbody>\n",
       "</table>\n",
       "</div>"
      ],
      "text/plain": [
       "   id    author geometry  pressure [MPa]  mass_flux [kg/m2-s]  x_e_out [-]  \\\n",
       "0   0  Thompson     tube            7.00               3770.0       0.1754   \n",
       "1   1  Thompson     tube             NaN               6049.0      -0.0416   \n",
       "2   2  Thompson      NaN           13.79               2034.0       0.0335   \n",
       "3   3      Beus  annulus           13.79               3679.0      -0.0279   \n",
       "4   5       NaN      NaN           17.24               3648.0      -0.0711   \n",
       "\n",
       "   D_e [mm]  D_h [mm]  length [mm]  chf_exp [MW/m2]  \n",
       "0       NaN      10.8        432.0              3.6  \n",
       "1      10.3      10.3        762.0              6.2  \n",
       "2       7.7       7.7        457.0              2.5  \n",
       "3       5.6      15.2       2134.0              3.0  \n",
       "4       NaN       1.9        696.0              3.6  "
      ]
     },
     "execution_count": 2,
     "metadata": {},
     "output_type": "execute_result"
    }
   ],
   "source": [
    "train = pd.read_csv(\"data/train_combine.csv\")\n",
    "train.head()"
   ]
  },
  {
   "cell_type": "code",
   "execution_count": 3,
   "id": "ebfb3eb1",
   "metadata": {},
   "outputs": [],
   "source": [
    "y = train['x_e_out [-]']\n",
    "X = train.drop(columns=['id','x_e_out [-]'])"
   ]
  },
  {
   "cell_type": "code",
   "execution_count": 4,
   "id": "cddca319",
   "metadata": {},
   "outputs": [
    {
     "data": {
      "text/html": [
       "<div>\n",
       "<style scoped>\n",
       "    .dataframe tbody tr th:only-of-type {\n",
       "        vertical-align: middle;\n",
       "    }\n",
       "\n",
       "    .dataframe tbody tr th {\n",
       "        vertical-align: top;\n",
       "    }\n",
       "\n",
       "    .dataframe thead th {\n",
       "        text-align: right;\n",
       "    }\n",
       "</style>\n",
       "<table border=\"1\" class=\"dataframe\">\n",
       "  <thead>\n",
       "    <tr style=\"text-align: right;\">\n",
       "      <th></th>\n",
       "      <th>author</th>\n",
       "      <th>geometry</th>\n",
       "      <th>pressure [MPa]</th>\n",
       "      <th>mass_flux [kg/m2-s]</th>\n",
       "      <th>D_e [mm]</th>\n",
       "      <th>D_h [mm]</th>\n",
       "      <th>length [mm]</th>\n",
       "      <th>chf_exp [MW/m2]</th>\n",
       "    </tr>\n",
       "  </thead>\n",
       "  <tbody>\n",
       "    <tr>\n",
       "      <th>0</th>\n",
       "      <td>Thompson</td>\n",
       "      <td>tube</td>\n",
       "      <td>7.00</td>\n",
       "      <td>3770.0</td>\n",
       "      <td>NaN</td>\n",
       "      <td>10.8</td>\n",
       "      <td>432.0</td>\n",
       "      <td>3.6</td>\n",
       "    </tr>\n",
       "    <tr>\n",
       "      <th>1</th>\n",
       "      <td>Thompson</td>\n",
       "      <td>tube</td>\n",
       "      <td>NaN</td>\n",
       "      <td>6049.0</td>\n",
       "      <td>10.3</td>\n",
       "      <td>10.3</td>\n",
       "      <td>762.0</td>\n",
       "      <td>6.2</td>\n",
       "    </tr>\n",
       "    <tr>\n",
       "      <th>2</th>\n",
       "      <td>Thompson</td>\n",
       "      <td>NaN</td>\n",
       "      <td>13.79</td>\n",
       "      <td>2034.0</td>\n",
       "      <td>7.7</td>\n",
       "      <td>7.7</td>\n",
       "      <td>457.0</td>\n",
       "      <td>2.5</td>\n",
       "    </tr>\n",
       "    <tr>\n",
       "      <th>3</th>\n",
       "      <td>Beus</td>\n",
       "      <td>annulus</td>\n",
       "      <td>13.79</td>\n",
       "      <td>3679.0</td>\n",
       "      <td>5.6</td>\n",
       "      <td>15.2</td>\n",
       "      <td>2134.0</td>\n",
       "      <td>3.0</td>\n",
       "    </tr>\n",
       "    <tr>\n",
       "      <th>4</th>\n",
       "      <td>NaN</td>\n",
       "      <td>NaN</td>\n",
       "      <td>17.24</td>\n",
       "      <td>3648.0</td>\n",
       "      <td>NaN</td>\n",
       "      <td>1.9</td>\n",
       "      <td>696.0</td>\n",
       "      <td>3.6</td>\n",
       "    </tr>\n",
       "  </tbody>\n",
       "</table>\n",
       "</div>"
      ],
      "text/plain": [
       "     author geometry  pressure [MPa]  mass_flux [kg/m2-s]  D_e [mm]  D_h [mm]  \\\n",
       "0  Thompson     tube            7.00               3770.0       NaN      10.8   \n",
       "1  Thompson     tube             NaN               6049.0      10.3      10.3   \n",
       "2  Thompson      NaN           13.79               2034.0       7.7       7.7   \n",
       "3      Beus  annulus           13.79               3679.0       5.6      15.2   \n",
       "4       NaN      NaN           17.24               3648.0       NaN       1.9   \n",
       "\n",
       "   length [mm]  chf_exp [MW/m2]  \n",
       "0        432.0              3.6  \n",
       "1        762.0              6.2  \n",
       "2        457.0              2.5  \n",
       "3       2134.0              3.0  \n",
       "4        696.0              3.6  "
      ]
     },
     "execution_count": 4,
     "metadata": {},
     "output_type": "execute_result"
    }
   ],
   "source": [
    "X.head()"
   ]
  },
  {
   "cell_type": "code",
   "execution_count": 5,
   "id": "0cc2316e",
   "metadata": {},
   "outputs": [],
   "source": [
    "from sklearn.impute import KNNImputer\n",
    "from sklearn.preprocessing import OneHotEncoder, StandardScaler\n",
    "from sklearn.pipeline import make_pipeline"
   ]
  },
  {
   "cell_type": "code",
   "execution_count": 6,
   "id": "1c1e542c",
   "metadata": {},
   "outputs": [],
   "source": [
    "# set up preprocessing for numeric columns\n",
    "imp_knn = KNNImputer(n_neighbors=20)\n",
    "scaler = StandardScaler()"
   ]
  },
  {
   "cell_type": "code",
   "execution_count": 7,
   "id": "b69dc5c4",
   "metadata": {},
   "outputs": [],
   "source": [
    "# set up preprocessing for categorical columns\n",
    "from sklearn.impute import SimpleImputer\n",
    "imp_constant = SimpleImputer(strategy='constant')\n",
    "ohe = OneHotEncoder(handle_unknown='ignore')"
   ]
  },
  {
   "cell_type": "code",
   "execution_count": 8,
   "id": "cf96e583",
   "metadata": {},
   "outputs": [],
   "source": [
    "from sklearn.compose import make_column_selector, make_column_transformer"
   ]
  },
  {
   "cell_type": "code",
   "execution_count": 9,
   "id": "c177d2c4",
   "metadata": {},
   "outputs": [],
   "source": [
    "# select columns by data type\n",
    "num_cols = make_column_selector(dtype_include='number')\n",
    "cat_cols = make_column_selector(dtype_exclude='number')"
   ]
  },
  {
   "cell_type": "code",
   "execution_count": 10,
   "id": "b648ab80",
   "metadata": {},
   "outputs": [],
   "source": [
    "preprocessor = make_column_transformer(\n",
    "    (make_pipeline(imp_knn, scaler), num_cols),\n",
    "    (make_pipeline(imp_constant, ohe), cat_cols))"
   ]
  },
  {
   "cell_type": "code",
   "execution_count": 11,
   "id": "20505e44",
   "metadata": {},
   "outputs": [],
   "source": [
    "import lightgbm as lgb\n",
    "lgbm = lgb.LGBMRegressor(n_estimators=125,random_state = 318) #0.0054248\n",
    "\n",
    "from catboost import CatBoostRegressor\n",
    "cb = CatBoostRegressor(n_estimators=1000,random_state = 318,verbose=0, objective='RMSE') #0.005509\n",
    "\n",
    "from sklearn.ensemble import GradientBoostingRegressor,HistGradientBoostingRegressor\n",
    "hgbr = HistGradientBoostingRegressor(max_iter=1000,random_state=318)\n",
    "gbr = GradientBoostingRegressor(n_estimators=750)\n",
    "\n",
    "import xgboost as xgb\n",
    "xgb = xgb.XGBRegressor(n_estimators=35,random_state = 318) #0.005579\n",
    "\n",
    "from sklearn.ensemble import VotingRegressor\n",
    "vr1 = VotingRegressor([('hgbr',hgbr),('lgbm',lgbm),('cb',cb)],weights=(1,2,1))"
   ]
  },
  {
   "cell_type": "code",
   "execution_count": 12,
   "id": "76fe13c8",
   "metadata": {},
   "outputs": [],
   "source": [
    "pipe_vr1 = make_pipeline(preprocessor,vr1)"
   ]
  },
  {
   "cell_type": "code",
   "execution_count": 13,
   "id": "f53965b2",
   "metadata": {},
   "outputs": [
    {
     "data": {
      "text/plain": [
       "[('columntransformer',\n",
       "  ColumnTransformer(transformers=[('pipeline-1',\n",
       "                                   Pipeline(steps=[('knnimputer',\n",
       "                                                    KNNImputer(n_neighbors=20)),\n",
       "                                                   ('standardscaler',\n",
       "                                                    StandardScaler())]),\n",
       "                                   <sklearn.compose._column_transformer.make_column_selector object at 0x00000193CE704BB0>),\n",
       "                                  ('pipeline-2',\n",
       "                                   Pipeline(steps=[('simpleimputer',\n",
       "                                                    SimpleImputer(strategy='constant')),\n",
       "                                                   ('onehotencoder',\n",
       "                                                    OneHotEncoder(handle_unknown='ignore'))]),\n",
       "                                   <sklearn.compose._column_transformer.make_column_selector object at 0x00000193C92598E0>)])),\n",
       " ('votingregressor',\n",
       "  VotingRegressor(estimators=[('hgbr',\n",
       "                               HistGradientBoostingRegressor(max_iter=1000,\n",
       "                                                             random_state=318)),\n",
       "                              ('lgbm',\n",
       "                               LGBMRegressor(n_estimators=125, random_state=318)),\n",
       "                              ('cb',\n",
       "                               <catboost.core.CatBoostRegressor object at 0x00000193CE722400>)],\n",
       "                  weights=(1, 2, 1)))]"
      ]
     },
     "execution_count": 13,
     "metadata": {},
     "output_type": "execute_result"
    }
   ],
   "source": [
    "pipe_vr1.steps"
   ]
  },
  {
   "cell_type": "code",
   "execution_count": 23,
   "id": "c6c80dae",
   "metadata": {},
   "outputs": [
    {
     "name": "stdout",
     "output_type": "stream",
     "text": [
      "Wall time: 7min 27s\n"
     ]
    },
    {
     "data": {
      "text/plain": [
       "GridSearchCV(estimator=Pipeline(steps=[('columntransformer',\n",
       "                                        ColumnTransformer(transformers=[('pipeline-1',\n",
       "                                                                         Pipeline(steps=[('knnimputer',\n",
       "                                                                                          KNNImputer(n_neighbors=20)),\n",
       "                                                                                         ('standardscaler',\n",
       "                                                                                          StandardScaler())]),\n",
       "                                                                         <sklearn.compose._column_transformer.make_column_selector object at 0x00000193CE704BB0>),\n",
       "                                                                        ('pipeline-2',\n",
       "                                                                         Pipeline(steps=[('simpleimputer',\n",
       "                                                                                          SimpleImputer(s...\n",
       "                                        VotingRegressor(estimators=[('hgbr',\n",
       "                                                                     HistGradientBoostingRegressor(max_iter=1000,\n",
       "                                                                                                   random_state=318)),\n",
       "                                                                    ('lgbm',\n",
       "                                                                     LGBMRegressor(n_estimators=125,\n",
       "                                                                                   random_state=318)),\n",
       "                                                                    ('cb',\n",
       "                                                                     <catboost.core.CatBoostRegressor object at 0x00000193CE722400>)],\n",
       "                                                        weights=(1, 2, 1)))]),\n",
       "             param_grid={'columntransformer__pipeline-1__knnimputer__n_neighbors': [53,\n",
       "                                                                                    54,\n",
       "                                                                                    55,\n",
       "                                                                                    56,\n",
       "                                                                                    57]},\n",
       "             scoring='neg_mean_squared_error')"
      ]
     },
     "execution_count": 23,
     "metadata": {},
     "output_type": "execute_result"
    }
   ],
   "source": [
    "from sklearn.model_selection import GridSearchCV\n",
    "\n",
    "params1 = {}\n",
    "params1['columntransformer__pipeline-1__knnimputer__n_neighbors'] = [53,54,55,56,57]\n",
    "\n",
    "grid = GridSearchCV(pipe_vr1, params1, scoring='neg_mean_squared_error')\n",
    "%time grid.fit(X,y) #55：0.0053976"
   ]
  },
  {
   "cell_type": "code",
   "execution_count": 24,
   "id": "00533b21",
   "metadata": {},
   "outputs": [
    {
     "data": {
      "text/plain": [
       "{'columntransformer__pipeline-1__knnimputer__n_neighbors': 55}"
      ]
     },
     "execution_count": 24,
     "metadata": {},
     "output_type": "execute_result"
    }
   ],
   "source": [
    "grid.best_params_"
   ]
  },
  {
   "cell_type": "code",
   "execution_count": 25,
   "id": "65dc14be",
   "metadata": {},
   "outputs": [
    {
     "data": {
      "text/plain": [
       "-0.005397611384802032"
      ]
     },
     "execution_count": 25,
     "metadata": {},
     "output_type": "execute_result"
    }
   ],
   "source": [
    "grid.best_score_"
   ]
  },
  {
   "cell_type": "markdown",
   "id": "61953352",
   "metadata": {},
   "source": [
    "- best one"
   ]
  },
  {
   "cell_type": "code",
   "execution_count": 26,
   "id": "72b61800",
   "metadata": {},
   "outputs": [],
   "source": [
    "#处理test值\n",
    "test = pd.read_csv('data/test.csv')\n",
    "X_test = test.drop(columns=['id','x_e_out [-]'])"
   ]
  },
  {
   "cell_type": "code",
   "execution_count": 27,
   "id": "bc8ac72f",
   "metadata": {},
   "outputs": [],
   "source": [
    "result = grid.predict(X_test)"
   ]
  },
  {
   "cell_type": "code",
   "execution_count": 28,
   "id": "b1fa986f",
   "metadata": {},
   "outputs": [
    {
     "data": {
      "text/plain": [
       "array([-0.00859985, -0.09280522, -0.0401979 , ...,  0.02870287,\n",
       "       -0.03745832, -0.01270881])"
      ]
     },
     "execution_count": 28,
     "metadata": {},
     "output_type": "execute_result"
    }
   ],
   "source": [
    "result"
   ]
  },
  {
   "cell_type": "code",
   "execution_count": 29,
   "id": "0d099181",
   "metadata": {},
   "outputs": [],
   "source": [
    "pd.DataFrame({'id':test.id, 'x_e_out [-]':result}).set_index('id').to_csv('sub_combine_tuningk_knn_impute_vr.csv')"
   ]
  },
  {
   "cell_type": "code",
   "execution_count": null,
   "id": "1c773131",
   "metadata": {},
   "outputs": [],
   "source": [
    "- 0.75136"
   ]
  }
 ],
 "metadata": {
  "kernelspec": {
   "display_name": "Python 3 (ipykernel)",
   "language": "python",
   "name": "python3"
  },
  "language_info": {
   "codemirror_mode": {
    "name": "ipython",
    "version": 3
   },
   "file_extension": ".py",
   "mimetype": "text/x-python",
   "name": "python",
   "nbconvert_exporter": "python",
   "pygments_lexer": "ipython3",
   "version": "3.9.7"
  }
 },
 "nbformat": 4,
 "nbformat_minor": 5
}
