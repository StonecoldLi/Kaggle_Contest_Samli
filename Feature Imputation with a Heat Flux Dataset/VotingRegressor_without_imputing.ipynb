{
 "cells": [
  {
   "cell_type": "code",
   "execution_count": 1,
   "id": "da5e255e",
   "metadata": {},
   "outputs": [],
   "source": [
    "import pandas as pd\n",
    "import numpy as np"
   ]
  },
  {
   "cell_type": "code",
   "execution_count": 2,
   "id": "1a3bdd70",
   "metadata": {},
   "outputs": [
    {
     "data": {
      "text/html": [
       "<div>\n",
       "<style scoped>\n",
       "    .dataframe tbody tr th:only-of-type {\n",
       "        vertical-align: middle;\n",
       "    }\n",
       "\n",
       "    .dataframe tbody tr th {\n",
       "        vertical-align: top;\n",
       "    }\n",
       "\n",
       "    .dataframe thead th {\n",
       "        text-align: right;\n",
       "    }\n",
       "</style>\n",
       "<table border=\"1\" class=\"dataframe\">\n",
       "  <thead>\n",
       "    <tr style=\"text-align: right;\">\n",
       "      <th></th>\n",
       "      <th>id</th>\n",
       "      <th>author</th>\n",
       "      <th>geometry</th>\n",
       "      <th>pressure [MPa]</th>\n",
       "      <th>mass_flux [kg/m2-s]</th>\n",
       "      <th>x_e_out [-]</th>\n",
       "      <th>D_e [mm]</th>\n",
       "      <th>D_h [mm]</th>\n",
       "      <th>length [mm]</th>\n",
       "      <th>chf_exp [MW/m2]</th>\n",
       "    </tr>\n",
       "  </thead>\n",
       "  <tbody>\n",
       "    <tr>\n",
       "      <th>0</th>\n",
       "      <td>0</td>\n",
       "      <td>Thompson</td>\n",
       "      <td>tube</td>\n",
       "      <td>7.00</td>\n",
       "      <td>3770.0</td>\n",
       "      <td>0.1754</td>\n",
       "      <td>NaN</td>\n",
       "      <td>10.8</td>\n",
       "      <td>432.0</td>\n",
       "      <td>3.6</td>\n",
       "    </tr>\n",
       "    <tr>\n",
       "      <th>1</th>\n",
       "      <td>1</td>\n",
       "      <td>Thompson</td>\n",
       "      <td>tube</td>\n",
       "      <td>NaN</td>\n",
       "      <td>6049.0</td>\n",
       "      <td>-0.0416</td>\n",
       "      <td>10.3</td>\n",
       "      <td>10.3</td>\n",
       "      <td>762.0</td>\n",
       "      <td>6.2</td>\n",
       "    </tr>\n",
       "    <tr>\n",
       "      <th>2</th>\n",
       "      <td>2</td>\n",
       "      <td>Thompson</td>\n",
       "      <td>NaN</td>\n",
       "      <td>13.79</td>\n",
       "      <td>2034.0</td>\n",
       "      <td>0.0335</td>\n",
       "      <td>7.7</td>\n",
       "      <td>7.7</td>\n",
       "      <td>457.0</td>\n",
       "      <td>2.5</td>\n",
       "    </tr>\n",
       "    <tr>\n",
       "      <th>3</th>\n",
       "      <td>3</td>\n",
       "      <td>Beus</td>\n",
       "      <td>annulus</td>\n",
       "      <td>13.79</td>\n",
       "      <td>3679.0</td>\n",
       "      <td>-0.0279</td>\n",
       "      <td>5.6</td>\n",
       "      <td>15.2</td>\n",
       "      <td>2134.0</td>\n",
       "      <td>3.0</td>\n",
       "    </tr>\n",
       "    <tr>\n",
       "      <th>4</th>\n",
       "      <td>5</td>\n",
       "      <td>NaN</td>\n",
       "      <td>NaN</td>\n",
       "      <td>17.24</td>\n",
       "      <td>3648.0</td>\n",
       "      <td>-0.0711</td>\n",
       "      <td>NaN</td>\n",
       "      <td>1.9</td>\n",
       "      <td>696.0</td>\n",
       "      <td>3.6</td>\n",
       "    </tr>\n",
       "  </tbody>\n",
       "</table>\n",
       "</div>"
      ],
      "text/plain": [
       "   id    author geometry  pressure [MPa]  mass_flux [kg/m2-s]  x_e_out [-]  \\\n",
       "0   0  Thompson     tube            7.00               3770.0       0.1754   \n",
       "1   1  Thompson     tube             NaN               6049.0      -0.0416   \n",
       "2   2  Thompson      NaN           13.79               2034.0       0.0335   \n",
       "3   3      Beus  annulus           13.79               3679.0      -0.0279   \n",
       "4   5       NaN      NaN           17.24               3648.0      -0.0711   \n",
       "\n",
       "   D_e [mm]  D_h [mm]  length [mm]  chf_exp [MW/m2]  \n",
       "0       NaN      10.8        432.0              3.6  \n",
       "1      10.3      10.3        762.0              6.2  \n",
       "2       7.7       7.7        457.0              2.5  \n",
       "3       5.6      15.2       2134.0              3.0  \n",
       "4       NaN       1.9        696.0              3.6  "
      ]
     },
     "execution_count": 2,
     "metadata": {},
     "output_type": "execute_result"
    }
   ],
   "source": [
    "train = pd.read_csv(\"data/train_combine.csv\")\n",
    "train.head()"
   ]
  },
  {
   "cell_type": "code",
   "execution_count": 3,
   "id": "9d521db9",
   "metadata": {},
   "outputs": [],
   "source": [
    "y = train['x_e_out [-]']\n",
    "X = train.drop(columns=['id','x_e_out [-]'])"
   ]
  },
  {
   "cell_type": "code",
   "execution_count": 4,
   "id": "47675741",
   "metadata": {},
   "outputs": [
    {
     "data": {
      "text/html": [
       "<div>\n",
       "<style scoped>\n",
       "    .dataframe tbody tr th:only-of-type {\n",
       "        vertical-align: middle;\n",
       "    }\n",
       "\n",
       "    .dataframe tbody tr th {\n",
       "        vertical-align: top;\n",
       "    }\n",
       "\n",
       "    .dataframe thead th {\n",
       "        text-align: right;\n",
       "    }\n",
       "</style>\n",
       "<table border=\"1\" class=\"dataframe\">\n",
       "  <thead>\n",
       "    <tr style=\"text-align: right;\">\n",
       "      <th></th>\n",
       "      <th>author</th>\n",
       "      <th>geometry</th>\n",
       "      <th>pressure [MPa]</th>\n",
       "      <th>mass_flux [kg/m2-s]</th>\n",
       "      <th>D_e [mm]</th>\n",
       "      <th>D_h [mm]</th>\n",
       "      <th>length [mm]</th>\n",
       "      <th>chf_exp [MW/m2]</th>\n",
       "    </tr>\n",
       "  </thead>\n",
       "  <tbody>\n",
       "    <tr>\n",
       "      <th>0</th>\n",
       "      <td>Thompson</td>\n",
       "      <td>tube</td>\n",
       "      <td>7.00</td>\n",
       "      <td>3770.0</td>\n",
       "      <td>NaN</td>\n",
       "      <td>10.8</td>\n",
       "      <td>432.0</td>\n",
       "      <td>3.6</td>\n",
       "    </tr>\n",
       "    <tr>\n",
       "      <th>1</th>\n",
       "      <td>Thompson</td>\n",
       "      <td>tube</td>\n",
       "      <td>NaN</td>\n",
       "      <td>6049.0</td>\n",
       "      <td>10.3</td>\n",
       "      <td>10.3</td>\n",
       "      <td>762.0</td>\n",
       "      <td>6.2</td>\n",
       "    </tr>\n",
       "    <tr>\n",
       "      <th>2</th>\n",
       "      <td>Thompson</td>\n",
       "      <td>NaN</td>\n",
       "      <td>13.79</td>\n",
       "      <td>2034.0</td>\n",
       "      <td>7.7</td>\n",
       "      <td>7.7</td>\n",
       "      <td>457.0</td>\n",
       "      <td>2.5</td>\n",
       "    </tr>\n",
       "    <tr>\n",
       "      <th>3</th>\n",
       "      <td>Beus</td>\n",
       "      <td>annulus</td>\n",
       "      <td>13.79</td>\n",
       "      <td>3679.0</td>\n",
       "      <td>5.6</td>\n",
       "      <td>15.2</td>\n",
       "      <td>2134.0</td>\n",
       "      <td>3.0</td>\n",
       "    </tr>\n",
       "    <tr>\n",
       "      <th>4</th>\n",
       "      <td>NaN</td>\n",
       "      <td>NaN</td>\n",
       "      <td>17.24</td>\n",
       "      <td>3648.0</td>\n",
       "      <td>NaN</td>\n",
       "      <td>1.9</td>\n",
       "      <td>696.0</td>\n",
       "      <td>3.6</td>\n",
       "    </tr>\n",
       "    <tr>\n",
       "      <th>...</th>\n",
       "      <td>...</td>\n",
       "      <td>...</td>\n",
       "      <td>...</td>\n",
       "      <td>...</td>\n",
       "      <td>...</td>\n",
       "      <td>...</td>\n",
       "      <td>...</td>\n",
       "      <td>...</td>\n",
       "    </tr>\n",
       "    <tr>\n",
       "      <th>23089</th>\n",
       "      <td>Richenderfer</td>\n",
       "      <td>plate</td>\n",
       "      <td>1.01</td>\n",
       "      <td>1500.0</td>\n",
       "      <td>15.0</td>\n",
       "      <td>120.0</td>\n",
       "      <td>10.0</td>\n",
       "      <td>9.4</td>\n",
       "    </tr>\n",
       "    <tr>\n",
       "      <th>23090</th>\n",
       "      <td>Richenderfer</td>\n",
       "      <td>plate</td>\n",
       "      <td>1.01</td>\n",
       "      <td>1500.0</td>\n",
       "      <td>15.0</td>\n",
       "      <td>120.0</td>\n",
       "      <td>10.0</td>\n",
       "      <td>10.4</td>\n",
       "    </tr>\n",
       "    <tr>\n",
       "      <th>23091</th>\n",
       "      <td>Richenderfer</td>\n",
       "      <td>plate</td>\n",
       "      <td>1.01</td>\n",
       "      <td>2000.0</td>\n",
       "      <td>15.0</td>\n",
       "      <td>120.0</td>\n",
       "      <td>10.0</td>\n",
       "      <td>10.8</td>\n",
       "    </tr>\n",
       "    <tr>\n",
       "      <th>23092</th>\n",
       "      <td>Richenderfer</td>\n",
       "      <td>plate</td>\n",
       "      <td>1.01</td>\n",
       "      <td>2000.0</td>\n",
       "      <td>15.0</td>\n",
       "      <td>120.0</td>\n",
       "      <td>10.0</td>\n",
       "      <td>10.9</td>\n",
       "    </tr>\n",
       "    <tr>\n",
       "      <th>23093</th>\n",
       "      <td>Richenderfer</td>\n",
       "      <td>plate</td>\n",
       "      <td>1.01</td>\n",
       "      <td>2000.0</td>\n",
       "      <td>15.0</td>\n",
       "      <td>120.0</td>\n",
       "      <td>10.0</td>\n",
       "      <td>11.5</td>\n",
       "    </tr>\n",
       "  </tbody>\n",
       "</table>\n",
       "<p>23094 rows × 8 columns</p>\n",
       "</div>"
      ],
      "text/plain": [
       "             author geometry  pressure [MPa]  mass_flux [kg/m2-s]  D_e [mm]  \\\n",
       "0          Thompson     tube            7.00               3770.0       NaN   \n",
       "1          Thompson     tube             NaN               6049.0      10.3   \n",
       "2          Thompson      NaN           13.79               2034.0       7.7   \n",
       "3              Beus  annulus           13.79               3679.0       5.6   \n",
       "4               NaN      NaN           17.24               3648.0       NaN   \n",
       "...             ...      ...             ...                  ...       ...   \n",
       "23089  Richenderfer    plate            1.01               1500.0      15.0   \n",
       "23090  Richenderfer    plate            1.01               1500.0      15.0   \n",
       "23091  Richenderfer    plate            1.01               2000.0      15.0   \n",
       "23092  Richenderfer    plate            1.01               2000.0      15.0   \n",
       "23093  Richenderfer    plate            1.01               2000.0      15.0   \n",
       "\n",
       "       D_h [mm]  length [mm]  chf_exp [MW/m2]  \n",
       "0          10.8        432.0              3.6  \n",
       "1          10.3        762.0              6.2  \n",
       "2           7.7        457.0              2.5  \n",
       "3          15.2       2134.0              3.0  \n",
       "4           1.9        696.0              3.6  \n",
       "...         ...          ...              ...  \n",
       "23089     120.0         10.0              9.4  \n",
       "23090     120.0         10.0             10.4  \n",
       "23091     120.0         10.0             10.8  \n",
       "23092     120.0         10.0             10.9  \n",
       "23093     120.0         10.0             11.5  \n",
       "\n",
       "[23094 rows x 8 columns]"
      ]
     },
     "execution_count": 4,
     "metadata": {},
     "output_type": "execute_result"
    }
   ],
   "source": [
    "X"
   ]
  },
  {
   "cell_type": "code",
   "execution_count": 5,
   "id": "30db2f71",
   "metadata": {},
   "outputs": [
    {
     "data": {
      "text/html": [
       "<div>\n",
       "<style scoped>\n",
       "    .dataframe tbody tr th:only-of-type {\n",
       "        vertical-align: middle;\n",
       "    }\n",
       "\n",
       "    .dataframe tbody tr th {\n",
       "        vertical-align: top;\n",
       "    }\n",
       "\n",
       "    .dataframe thead th {\n",
       "        text-align: right;\n",
       "    }\n",
       "</style>\n",
       "<table border=\"1\" class=\"dataframe\">\n",
       "  <thead>\n",
       "    <tr style=\"text-align: right;\">\n",
       "      <th></th>\n",
       "      <th>author</th>\n",
       "      <th>geometry</th>\n",
       "      <th>pressure [MPa]</th>\n",
       "      <th>mass_flux [kg/m2-s]</th>\n",
       "      <th>D_e [mm]</th>\n",
       "      <th>D_h [mm]</th>\n",
       "      <th>length [mm]</th>\n",
       "      <th>chf_exp [MW/m2]</th>\n",
       "    </tr>\n",
       "  </thead>\n",
       "  <tbody>\n",
       "    <tr>\n",
       "      <th>0</th>\n",
       "      <td>Thompson</td>\n",
       "      <td>tube</td>\n",
       "      <td>7.00</td>\n",
       "      <td>3770.0</td>\n",
       "      <td>NaN</td>\n",
       "      <td>2.379546</td>\n",
       "      <td>6.068426</td>\n",
       "      <td>1.280934</td>\n",
       "    </tr>\n",
       "    <tr>\n",
       "      <th>1</th>\n",
       "      <td>Thompson</td>\n",
       "      <td>tube</td>\n",
       "      <td>NaN</td>\n",
       "      <td>6049.0</td>\n",
       "      <td>2.332144</td>\n",
       "      <td>2.332144</td>\n",
       "      <td>6.635947</td>\n",
       "      <td>1.824549</td>\n",
       "    </tr>\n",
       "    <tr>\n",
       "      <th>2</th>\n",
       "      <td>Thompson</td>\n",
       "      <td>NaN</td>\n",
       "      <td>13.79</td>\n",
       "      <td>2034.0</td>\n",
       "      <td>2.041220</td>\n",
       "      <td>2.041220</td>\n",
       "      <td>6.124683</td>\n",
       "      <td>0.916291</td>\n",
       "    </tr>\n",
       "    <tr>\n",
       "      <th>3</th>\n",
       "      <td>Beus</td>\n",
       "      <td>annulus</td>\n",
       "      <td>13.79</td>\n",
       "      <td>3679.0</td>\n",
       "      <td>1.722767</td>\n",
       "      <td>2.721295</td>\n",
       "      <td>7.665753</td>\n",
       "      <td>1.098612</td>\n",
       "    </tr>\n",
       "    <tr>\n",
       "      <th>4</th>\n",
       "      <td>NaN</td>\n",
       "      <td>NaN</td>\n",
       "      <td>17.24</td>\n",
       "      <td>3648.0</td>\n",
       "      <td>NaN</td>\n",
       "      <td>0.641854</td>\n",
       "      <td>6.545350</td>\n",
       "      <td>1.280934</td>\n",
       "    </tr>\n",
       "    <tr>\n",
       "      <th>...</th>\n",
       "      <td>...</td>\n",
       "      <td>...</td>\n",
       "      <td>...</td>\n",
       "      <td>...</td>\n",
       "      <td>...</td>\n",
       "      <td>...</td>\n",
       "      <td>...</td>\n",
       "      <td>...</td>\n",
       "    </tr>\n",
       "    <tr>\n",
       "      <th>23089</th>\n",
       "      <td>Richenderfer</td>\n",
       "      <td>plate</td>\n",
       "      <td>1.01</td>\n",
       "      <td>1500.0</td>\n",
       "      <td>2.708050</td>\n",
       "      <td>4.787492</td>\n",
       "      <td>2.302585</td>\n",
       "      <td>2.240710</td>\n",
       "    </tr>\n",
       "    <tr>\n",
       "      <th>23090</th>\n",
       "      <td>Richenderfer</td>\n",
       "      <td>plate</td>\n",
       "      <td>1.01</td>\n",
       "      <td>1500.0</td>\n",
       "      <td>2.708050</td>\n",
       "      <td>4.787492</td>\n",
       "      <td>2.302585</td>\n",
       "      <td>2.341806</td>\n",
       "    </tr>\n",
       "    <tr>\n",
       "      <th>23091</th>\n",
       "      <td>Richenderfer</td>\n",
       "      <td>plate</td>\n",
       "      <td>1.01</td>\n",
       "      <td>2000.0</td>\n",
       "      <td>2.708050</td>\n",
       "      <td>4.787492</td>\n",
       "      <td>2.302585</td>\n",
       "      <td>2.379546</td>\n",
       "    </tr>\n",
       "    <tr>\n",
       "      <th>23092</th>\n",
       "      <td>Richenderfer</td>\n",
       "      <td>plate</td>\n",
       "      <td>1.01</td>\n",
       "      <td>2000.0</td>\n",
       "      <td>2.708050</td>\n",
       "      <td>4.787492</td>\n",
       "      <td>2.302585</td>\n",
       "      <td>2.388763</td>\n",
       "    </tr>\n",
       "    <tr>\n",
       "      <th>23093</th>\n",
       "      <td>Richenderfer</td>\n",
       "      <td>plate</td>\n",
       "      <td>1.01</td>\n",
       "      <td>2000.0</td>\n",
       "      <td>2.708050</td>\n",
       "      <td>4.787492</td>\n",
       "      <td>2.302585</td>\n",
       "      <td>2.442347</td>\n",
       "    </tr>\n",
       "  </tbody>\n",
       "</table>\n",
       "<p>23094 rows × 8 columns</p>\n",
       "</div>"
      ],
      "text/plain": [
       "             author geometry  pressure [MPa]  mass_flux [kg/m2-s]  D_e [mm]  \\\n",
       "0          Thompson     tube            7.00               3770.0       NaN   \n",
       "1          Thompson     tube             NaN               6049.0  2.332144   \n",
       "2          Thompson      NaN           13.79               2034.0  2.041220   \n",
       "3              Beus  annulus           13.79               3679.0  1.722767   \n",
       "4               NaN      NaN           17.24               3648.0       NaN   \n",
       "...             ...      ...             ...                  ...       ...   \n",
       "23089  Richenderfer    plate            1.01               1500.0  2.708050   \n",
       "23090  Richenderfer    plate            1.01               1500.0  2.708050   \n",
       "23091  Richenderfer    plate            1.01               2000.0  2.708050   \n",
       "23092  Richenderfer    plate            1.01               2000.0  2.708050   \n",
       "23093  Richenderfer    plate            1.01               2000.0  2.708050   \n",
       "\n",
       "       D_h [mm]  length [mm]  chf_exp [MW/m2]  \n",
       "0      2.379546     6.068426         1.280934  \n",
       "1      2.332144     6.635947         1.824549  \n",
       "2      2.041220     6.124683         0.916291  \n",
       "3      2.721295     7.665753         1.098612  \n",
       "4      0.641854     6.545350         1.280934  \n",
       "...         ...          ...              ...  \n",
       "23089  4.787492     2.302585         2.240710  \n",
       "23090  4.787492     2.302585         2.341806  \n",
       "23091  4.787492     2.302585         2.379546  \n",
       "23092  4.787492     2.302585         2.388763  \n",
       "23093  4.787492     2.302585         2.442347  \n",
       "\n",
       "[23094 rows x 8 columns]"
      ]
     },
     "execution_count": 5,
     "metadata": {},
     "output_type": "execute_result"
    }
   ],
   "source": [
    "def preprocess_data(X):\n",
    "    X['chf_exp [MW/m2]'] = np.log(X['chf_exp [MW/m2]'])\n",
    "    X['D_e [mm]'] = np.log(X['D_e [mm]'])\n",
    "    X['D_h [mm]'] = np.log(X['D_h [mm]'])\n",
    "    X['length [mm]'] = np.log(X['length [mm]'])\n",
    "    return X\n",
    "\n",
    "X = preprocess_data(X)\n",
    "X"
   ]
  },
  {
   "cell_type": "code",
   "execution_count": 6,
   "id": "ba2b6416",
   "metadata": {},
   "outputs": [],
   "source": [
    "#from sklearn.impute import KNNImputer,SimpleImputer\n",
    "from sklearn.preprocessing import OneHotEncoder, StandardScaler\n",
    "from sklearn.pipeline import make_pipeline"
   ]
  },
  {
   "cell_type": "code",
   "execution_count": 7,
   "id": "41b4a23b",
   "metadata": {},
   "outputs": [],
   "source": [
    "scaler = StandardScaler()"
   ]
  },
  {
   "cell_type": "code",
   "execution_count": 8,
   "id": "29952b01",
   "metadata": {},
   "outputs": [],
   "source": [
    "ohe = OneHotEncoder(handle_unknown='ignore')"
   ]
  },
  {
   "cell_type": "code",
   "execution_count": 9,
   "id": "97f2a8b3",
   "metadata": {},
   "outputs": [],
   "source": [
    "from sklearn.compose import make_column_selector, make_column_transformer"
   ]
  },
  {
   "cell_type": "code",
   "execution_count": 10,
   "id": "5f4bddf9",
   "metadata": {},
   "outputs": [],
   "source": [
    "num_cols = make_column_selector(dtype_include='number')\n",
    "cat_cols = make_column_selector(dtype_exclude='number')"
   ]
  },
  {
   "cell_type": "code",
   "execution_count": 11,
   "id": "3a0246d2",
   "metadata": {},
   "outputs": [],
   "source": [
    "preprocessor = make_column_transformer(\n",
    "     (scaler, num_cols),\n",
    "     (ohe, cat_cols))"
   ]
  },
  {
   "cell_type": "code",
   "execution_count": 12,
   "id": "82257e2d",
   "metadata": {},
   "outputs": [],
   "source": [
    "import lightgbm as lgb\n",
    "lgbm = lgb.LGBMRegressor(n_estimators=122,random_state = 318) #0.00545159\n",
    "\n",
    "from sklearn.ensemble import HistGradientBoostingRegressor,VotingRegressor\n",
    "hgbr = HistGradientBoostingRegressor(max_iter=750,random_state=318) #0.00546830\n",
    "\n",
    "from catboost import CatBoostRegressor\n",
    "cb = CatBoostRegressor(n_estimators=869,random_state = 318,verbose=0, objective='RMSE') #0.00548920\n",
    "\n",
    "vr = VotingRegressor([('lgbm',lgbm),('hgbr',hgbr)]) #0.0054346\n",
    "vr1 = VotingRegressor([('lgbm',lgbm),('hgbr',hgbr),('cb',cb)]) #0.0054152"
   ]
  },
  {
   "cell_type": "code",
   "execution_count": 13,
   "id": "8f3c7fe3",
   "metadata": {},
   "outputs": [],
   "source": [
    "pipe = make_pipeline(preprocessor, cb)"
   ]
  },
  {
   "cell_type": "code",
   "execution_count": 14,
   "id": "3a67b967",
   "metadata": {},
   "outputs": [
    {
     "data": {
      "text/plain": [
       "-0.005489201065864164"
      ]
     },
     "execution_count": 14,
     "metadata": {},
     "output_type": "execute_result"
    }
   ],
   "source": [
    "from sklearn.model_selection import cross_val_score\n",
    "cross_val_score(pipe, X, y, scoring='neg_mean_squared_error').mean()"
   ]
  },
  {
   "cell_type": "code",
   "execution_count": 15,
   "id": "488c984d",
   "metadata": {},
   "outputs": [],
   "source": [
    "pipe_vr = make_pipeline(preprocessor, vr)"
   ]
  },
  {
   "cell_type": "code",
   "execution_count": 16,
   "id": "b75686ed",
   "metadata": {},
   "outputs": [
    {
     "data": {
      "text/plain": [
       "[('columntransformer',\n",
       "  ColumnTransformer(transformers=[('standardscaler', StandardScaler(),\n",
       "                                   <sklearn.compose._column_transformer.make_column_selector object at 0x00000277BCF7B490>),\n",
       "                                  ('onehotencoder',\n",
       "                                   OneHotEncoder(handle_unknown='ignore'),\n",
       "                                   <sklearn.compose._column_transformer.make_column_selector object at 0x00000277BCF7B6A0>)])),\n",
       " ('votingregressor',\n",
       "  VotingRegressor(estimators=[('lgbm',\n",
       "                               LGBMRegressor(n_estimators=122, random_state=318)),\n",
       "                              ('hgbr',\n",
       "                               HistGradientBoostingRegressor(max_iter=750,\n",
       "                                                             random_state=318))]))]"
      ]
     },
     "execution_count": 16,
     "metadata": {},
     "output_type": "execute_result"
    }
   ],
   "source": [
    "pipe_vr.steps"
   ]
  },
  {
   "cell_type": "code",
   "execution_count": 17,
   "id": "461ca40f",
   "metadata": {},
   "outputs": [
    {
     "name": "stdout",
     "output_type": "stream",
     "text": [
      "Wall time: 32.3 s\n"
     ]
    },
    {
     "data": {
      "text/plain": [
       "GridSearchCV(estimator=Pipeline(steps=[('columntransformer',\n",
       "                                        ColumnTransformer(transformers=[('standardscaler',\n",
       "                                                                         StandardScaler(),\n",
       "                                                                         <sklearn.compose._column_transformer.make_column_selector object at 0x00000277BCF7B490>),\n",
       "                                                                        ('onehotencoder',\n",
       "                                                                         OneHotEncoder(handle_unknown='ignore'),\n",
       "                                                                         <sklearn.compose._column_transformer.make_column_selector object at 0x00000277BCF7B6A0>)])),\n",
       "                                       ('votingregressor',\n",
       "                                        VotingRegressor(estimators=[('lgbm',\n",
       "                                                                     LGBMRegressor(n_estimators=122,\n",
       "                                                                                   random_state=318)),\n",
       "                                                                    ('hgbr',\n",
       "                                                                     HistGradientBoostingRegressor(max_iter=750,\n",
       "                                                                                                   random_state=318))]))]),\n",
       "             param_grid={'votingregressor__weights': [(1, 1), (1, 2), (2, 1)]},\n",
       "             scoring='neg_mean_squared_error')"
      ]
     },
     "execution_count": 17,
     "metadata": {},
     "output_type": "execute_result"
    }
   ],
   "source": [
    "from sklearn.model_selection import GridSearchCV\n",
    "\n",
    "params = {}\n",
    "params['votingregressor__weights'] = [(1,1),(1,2),(2,1)]\n",
    "\n",
    "grid = GridSearchCV(pipe_vr, params, scoring='neg_mean_squared_error')\n",
    "%time grid.fit(X,y)"
   ]
  },
  {
   "cell_type": "code",
   "execution_count": 18,
   "id": "d9cac8bb",
   "metadata": {},
   "outputs": [
    {
     "data": {
      "text/plain": [
       "{'votingregressor__weights': (1, 1)}"
      ]
     },
     "execution_count": 18,
     "metadata": {},
     "output_type": "execute_result"
    }
   ],
   "source": [
    "grid.best_params_"
   ]
  },
  {
   "cell_type": "code",
   "execution_count": 19,
   "id": "c0846769",
   "metadata": {},
   "outputs": [
    {
     "data": {
      "text/plain": [
       "-0.0054343667593764605"
      ]
     },
     "execution_count": 19,
     "metadata": {},
     "output_type": "execute_result"
    }
   ],
   "source": [
    "grid.best_score_"
   ]
  },
  {
   "cell_type": "markdown",
   "id": "2dc6a5cd",
   "metadata": {},
   "source": [
    "- vr1得分"
   ]
  },
  {
   "cell_type": "code",
   "execution_count": 20,
   "id": "b4ed9c11",
   "metadata": {},
   "outputs": [],
   "source": [
    "pipe_vr1 = make_pipeline(preprocessor, vr1)"
   ]
  },
  {
   "cell_type": "code",
   "execution_count": 21,
   "id": "188da038",
   "metadata": {},
   "outputs": [
    {
     "data": {
      "text/plain": [
       "[('columntransformer',\n",
       "  ColumnTransformer(transformers=[('standardscaler', StandardScaler(),\n",
       "                                   <sklearn.compose._column_transformer.make_column_selector object at 0x00000277BCF7B490>),\n",
       "                                  ('onehotencoder',\n",
       "                                   OneHotEncoder(handle_unknown='ignore'),\n",
       "                                   <sklearn.compose._column_transformer.make_column_selector object at 0x00000277BCF7B6A0>)])),\n",
       " ('votingregressor',\n",
       "  VotingRegressor(estimators=[('lgbm',\n",
       "                               LGBMRegressor(n_estimators=122, random_state=318)),\n",
       "                              ('hgbr',\n",
       "                               HistGradientBoostingRegressor(max_iter=750,\n",
       "                                                             random_state=318)),\n",
       "                              ('cb',\n",
       "                               <catboost.core.CatBoostRegressor object at 0x00000277BCF84220>)]))]"
      ]
     },
     "execution_count": 21,
     "metadata": {},
     "output_type": "execute_result"
    }
   ],
   "source": [
    "pipe_vr1.steps"
   ]
  },
  {
   "cell_type": "code",
   "execution_count": 22,
   "id": "00035cf3",
   "metadata": {},
   "outputs": [
    {
     "name": "stdout",
     "output_type": "stream",
     "text": [
      "Wall time: 2min 5s\n"
     ]
    },
    {
     "data": {
      "text/plain": [
       "GridSearchCV(estimator=Pipeline(steps=[('columntransformer',\n",
       "                                        ColumnTransformer(transformers=[('standardscaler',\n",
       "                                                                         StandardScaler(),\n",
       "                                                                         <sklearn.compose._column_transformer.make_column_selector object at 0x00000277BCF7B490>),\n",
       "                                                                        ('onehotencoder',\n",
       "                                                                         OneHotEncoder(handle_unknown='ignore'),\n",
       "                                                                         <sklearn.compose._column_transformer.make_column_selector object at 0x00000277BCF7B6...\n",
       "                                       ('votingregressor',\n",
       "                                        VotingRegressor(estimators=[('lgbm',\n",
       "                                                                     LGBMRegressor(n_estimators=122,\n",
       "                                                                                   random_state=318)),\n",
       "                                                                    ('hgbr',\n",
       "                                                                     HistGradientBoostingRegressor(max_iter=750,\n",
       "                                                                                                   random_state=318)),\n",
       "                                                                    ('cb',\n",
       "                                                                     <catboost.core.CatBoostRegressor object at 0x00000277BCF84220>)]))]),\n",
       "             param_grid={'votingregressor__weights': [(1, 1, 1), (1, 2, 1),\n",
       "                                                      (2, 1, 1), (1, 1, 2)]},\n",
       "             scoring='neg_mean_squared_error')"
      ]
     },
     "execution_count": 22,
     "metadata": {},
     "output_type": "execute_result"
    }
   ],
   "source": [
    "from sklearn.model_selection import GridSearchCV\n",
    "\n",
    "params = {}\n",
    "params['votingregressor__weights'] = [(1,1,1),(1,2,1),(2,1,1),(1,1,2)]\n",
    "\n",
    "grid = GridSearchCV(pipe_vr1, params, scoring='neg_mean_squared_error')\n",
    "%time grid.fit(X,y)"
   ]
  },
  {
   "cell_type": "code",
   "execution_count": 23,
   "id": "1695ac4d",
   "metadata": {},
   "outputs": [
    {
     "data": {
      "text/plain": [
       "{'votingregressor__weights': (1, 1, 1)}"
      ]
     },
     "execution_count": 23,
     "metadata": {},
     "output_type": "execute_result"
    }
   ],
   "source": [
    "grid.best_params_"
   ]
  },
  {
   "cell_type": "code",
   "execution_count": 24,
   "id": "e3648b53",
   "metadata": {},
   "outputs": [
    {
     "data": {
      "text/plain": [
       "-0.0054120597861867835"
      ]
     },
     "execution_count": 24,
     "metadata": {},
     "output_type": "execute_result"
    }
   ],
   "source": [
    "grid.best_score_"
   ]
  },
  {
   "cell_type": "markdown",
   "id": "6acf7147",
   "metadata": {},
   "source": [
    "- 超过了之前的score"
   ]
  },
  {
   "cell_type": "code",
   "execution_count": 25,
   "id": "e0261b66",
   "metadata": {},
   "outputs": [],
   "source": [
    "#处理test值\n",
    "test = pd.read_csv('data/test.csv')\n",
    "X_test = test.drop(columns=['id','x_e_out [-]'])"
   ]
  },
  {
   "cell_type": "code",
   "execution_count": 26,
   "id": "b78a4f9f",
   "metadata": {},
   "outputs": [],
   "source": [
    "X_test1 = preprocess_data(X_test)"
   ]
  },
  {
   "cell_type": "code",
   "execution_count": 27,
   "id": "f6b952e1",
   "metadata": {},
   "outputs": [],
   "source": [
    "result = grid.predict(X_test1)"
   ]
  },
  {
   "cell_type": "code",
   "execution_count": 28,
   "id": "aada067f",
   "metadata": {},
   "outputs": [
    {
     "data": {
      "text/plain": [
       "array([ 0.00094321, -0.09500588, -0.057206  , ...,  0.02814031,\n",
       "       -0.06068587, -0.01378407])"
      ]
     },
     "execution_count": 28,
     "metadata": {},
     "output_type": "execute_result"
    }
   ],
   "source": [
    "result"
   ]
  },
  {
   "cell_type": "code",
   "execution_count": 29,
   "id": "cc7e604a",
   "metadata": {},
   "outputs": [],
   "source": [
    "pd.DataFrame({'id':test.id, 'x_e_out [-]':result}).set_index('id').to_csv('sub_combine_data_lgbm_cb_hgbr_no_imputing.csv')"
   ]
  },
  {
   "cell_type": "markdown",
   "id": "a70b1797",
   "metadata": {},
   "source": [
    "- 0.075537"
   ]
  },
  {
   "cell_type": "code",
   "execution_count": null,
   "id": "060b416d",
   "metadata": {},
   "outputs": [],
   "source": []
  }
 ],
 "metadata": {
  "kernelspec": {
   "display_name": "Python 3 (ipykernel)",
   "language": "python",
   "name": "python3"
  },
  "language_info": {
   "codemirror_mode": {
    "name": "ipython",
    "version": 3
   },
   "file_extension": ".py",
   "mimetype": "text/x-python",
   "name": "python",
   "nbconvert_exporter": "python",
   "pygments_lexer": "ipython3",
   "version": "3.9.7"
  }
 },
 "nbformat": 4,
 "nbformat_minor": 5
}
