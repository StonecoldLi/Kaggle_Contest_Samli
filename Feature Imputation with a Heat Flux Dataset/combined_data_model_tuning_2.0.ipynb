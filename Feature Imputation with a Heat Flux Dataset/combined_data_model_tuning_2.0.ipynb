{
 "cells": [
  {
   "cell_type": "code",
   "execution_count": 1,
   "id": "0fc521c4",
   "metadata": {},
   "outputs": [],
   "source": [
    "import pandas as pd\n",
    "import numpy as np"
   ]
  },
  {
   "cell_type": "code",
   "execution_count": 2,
   "id": "de75d2d9",
   "metadata": {},
   "outputs": [
    {
     "data": {
      "text/html": [
       "<div>\n",
       "<style scoped>\n",
       "    .dataframe tbody tr th:only-of-type {\n",
       "        vertical-align: middle;\n",
       "    }\n",
       "\n",
       "    .dataframe tbody tr th {\n",
       "        vertical-align: top;\n",
       "    }\n",
       "\n",
       "    .dataframe thead th {\n",
       "        text-align: right;\n",
       "    }\n",
       "</style>\n",
       "<table border=\"1\" class=\"dataframe\">\n",
       "  <thead>\n",
       "    <tr style=\"text-align: right;\">\n",
       "      <th></th>\n",
       "      <th>id</th>\n",
       "      <th>author</th>\n",
       "      <th>geometry</th>\n",
       "      <th>pressure [MPa]</th>\n",
       "      <th>mass_flux [kg/m2-s]</th>\n",
       "      <th>x_e_out [-]</th>\n",
       "      <th>D_e [mm]</th>\n",
       "      <th>D_h [mm]</th>\n",
       "      <th>length [mm]</th>\n",
       "      <th>chf_exp [MW/m2]</th>\n",
       "    </tr>\n",
       "  </thead>\n",
       "  <tbody>\n",
       "    <tr>\n",
       "      <th>0</th>\n",
       "      <td>0</td>\n",
       "      <td>Thompson</td>\n",
       "      <td>tube</td>\n",
       "      <td>7.00</td>\n",
       "      <td>3770.0</td>\n",
       "      <td>0.1754</td>\n",
       "      <td>NaN</td>\n",
       "      <td>10.8</td>\n",
       "      <td>432.0</td>\n",
       "      <td>3.6</td>\n",
       "    </tr>\n",
       "    <tr>\n",
       "      <th>1</th>\n",
       "      <td>1</td>\n",
       "      <td>Thompson</td>\n",
       "      <td>tube</td>\n",
       "      <td>NaN</td>\n",
       "      <td>6049.0</td>\n",
       "      <td>-0.0416</td>\n",
       "      <td>10.3</td>\n",
       "      <td>10.3</td>\n",
       "      <td>762.0</td>\n",
       "      <td>6.2</td>\n",
       "    </tr>\n",
       "    <tr>\n",
       "      <th>2</th>\n",
       "      <td>2</td>\n",
       "      <td>Thompson</td>\n",
       "      <td>NaN</td>\n",
       "      <td>13.79</td>\n",
       "      <td>2034.0</td>\n",
       "      <td>0.0335</td>\n",
       "      <td>7.7</td>\n",
       "      <td>7.7</td>\n",
       "      <td>457.0</td>\n",
       "      <td>2.5</td>\n",
       "    </tr>\n",
       "    <tr>\n",
       "      <th>3</th>\n",
       "      <td>3</td>\n",
       "      <td>Beus</td>\n",
       "      <td>annulus</td>\n",
       "      <td>13.79</td>\n",
       "      <td>3679.0</td>\n",
       "      <td>-0.0279</td>\n",
       "      <td>5.6</td>\n",
       "      <td>15.2</td>\n",
       "      <td>2134.0</td>\n",
       "      <td>3.0</td>\n",
       "    </tr>\n",
       "    <tr>\n",
       "      <th>4</th>\n",
       "      <td>5</td>\n",
       "      <td>NaN</td>\n",
       "      <td>NaN</td>\n",
       "      <td>17.24</td>\n",
       "      <td>3648.0</td>\n",
       "      <td>-0.0711</td>\n",
       "      <td>NaN</td>\n",
       "      <td>1.9</td>\n",
       "      <td>696.0</td>\n",
       "      <td>3.6</td>\n",
       "    </tr>\n",
       "  </tbody>\n",
       "</table>\n",
       "</div>"
      ],
      "text/plain": [
       "   id    author geometry  pressure [MPa]  mass_flux [kg/m2-s]  x_e_out [-]  \\\n",
       "0   0  Thompson     tube            7.00               3770.0       0.1754   \n",
       "1   1  Thompson     tube             NaN               6049.0      -0.0416   \n",
       "2   2  Thompson      NaN           13.79               2034.0       0.0335   \n",
       "3   3      Beus  annulus           13.79               3679.0      -0.0279   \n",
       "4   5       NaN      NaN           17.24               3648.0      -0.0711   \n",
       "\n",
       "   D_e [mm]  D_h [mm]  length [mm]  chf_exp [MW/m2]  \n",
       "0       NaN      10.8        432.0              3.6  \n",
       "1      10.3      10.3        762.0              6.2  \n",
       "2       7.7       7.7        457.0              2.5  \n",
       "3       5.6      15.2       2134.0              3.0  \n",
       "4       NaN       1.9        696.0              3.6  "
      ]
     },
     "execution_count": 2,
     "metadata": {},
     "output_type": "execute_result"
    }
   ],
   "source": [
    "train = pd.read_csv(\"data/train_combine.csv\")\n",
    "train.head()"
   ]
  },
  {
   "cell_type": "code",
   "execution_count": 3,
   "id": "78a662a8",
   "metadata": {},
   "outputs": [],
   "source": [
    "y = train['x_e_out [-]']\n",
    "X = train.drop(columns=['id','x_e_out [-]'])"
   ]
  },
  {
   "cell_type": "code",
   "execution_count": 4,
   "id": "88663f56",
   "metadata": {},
   "outputs": [],
   "source": [
    "from sklearn.impute import KNNImputer,SimpleImputer\n",
    "from sklearn.preprocessing import OneHotEncoder, StandardScaler\n",
    "from sklearn.pipeline import make_pipeline"
   ]
  },
  {
   "cell_type": "code",
   "execution_count": 5,
   "id": "2d6fbb3a",
   "metadata": {},
   "outputs": [],
   "source": [
    "# set up preprocessing for numeric columns\n",
    "imp_knn = KNNImputer(n_neighbors=1000)\n",
    "imp_median = SimpleImputer(strategy='median', add_indicator=True)\n",
    "scaler = StandardScaler()"
   ]
  },
  {
   "cell_type": "code",
   "execution_count": 6,
   "id": "8284002a",
   "metadata": {},
   "outputs": [],
   "source": [
    "# set up preprocessing for categorical columns\n",
    "imp_constant = SimpleImputer(strategy='constant')\n",
    "ohe = OneHotEncoder(handle_unknown='ignore')"
   ]
  },
  {
   "cell_type": "code",
   "execution_count": 7,
   "id": "4fa62a57",
   "metadata": {},
   "outputs": [],
   "source": [
    "from sklearn.compose import make_column_selector, make_column_transformer"
   ]
  },
  {
   "cell_type": "code",
   "execution_count": 8,
   "id": "c53ed607",
   "metadata": {},
   "outputs": [],
   "source": [
    "# select columns by data type\n",
    "num_cols = make_column_selector(dtype_include='number')\n",
    "cat_cols = make_column_selector(dtype_exclude='number')"
   ]
  },
  {
   "cell_type": "code",
   "execution_count": 9,
   "id": "c7625231",
   "metadata": {},
   "outputs": [],
   "source": [
    "# do all preprocessing\n",
    "preprocessor = make_column_transformer(\n",
    "    (make_pipeline(imp_knn, scaler), num_cols),\n",
    "    (make_pipeline(imp_constant, ohe), cat_cols))\n",
    "\n",
    "preprocessor1 = make_column_transformer(\n",
    "    (make_pipeline(imp_median, scaler), num_cols),\n",
    "    (make_pipeline(imp_constant, ohe), cat_cols))"
   ]
  },
  {
   "cell_type": "code",
   "execution_count": 49,
   "id": "9202ec53",
   "metadata": {},
   "outputs": [],
   "source": [
    "#记录k=3时的得分\n",
    "from sklearn.ensemble import RandomForestRegressor,AdaBoostRegressor,GradientBoostingRegressor,HistGradientBoostingRegressor\n",
    "rfr = RandomForestRegressor() #0.372568\n",
    "#abr = AdaBoostRegressor() #0.372568\n",
    "hgbr = HistGradientBoostingRegressor(max_iter=1000,random_state=318) #0.0054793\n",
    "gbr = GradientBoostingRegressor(n_estimators=750) #500:0.0055510\n",
    "\n",
    "from catboost import CatBoostRegressor\n",
    "cb = CatBoostRegressor(n_estimators=1000,random_state = 318,verbose=0, objective='RMSE') #0.005509\n",
    "\n",
    "import lightgbm as lgb\n",
    "lgbm = lgb.LGBMRegressor(n_estimators=125,random_state = 318) #0.005465\n",
    "\n",
    "import xgboost as xgb\n",
    "xgb = xgb.XGBRegressor(n_estimators=35,random_state = 318) #0.005579\n",
    "\n",
    "from sklearn.ensemble import VotingRegressor\n",
    "vr = VotingRegressor([('cb',cb),('gbr',gbr),('lgbm',lgbm),('xgb',xgb),('hgbr',hgbr)],weights=(1,1,1,1,1))"
   ]
  },
  {
   "cell_type": "code",
   "execution_count": 50,
   "id": "7eb3c9ce",
   "metadata": {},
   "outputs": [],
   "source": [
    "pipe = make_pipeline(preprocessor1, vr)"
   ]
  },
  {
   "cell_type": "code",
   "execution_count": 51,
   "id": "9376b28a",
   "metadata": {},
   "outputs": [
    {
     "data": {
      "text/plain": [
       "[('columntransformer',\n",
       "  ColumnTransformer(transformers=[('pipeline-1',\n",
       "                                   Pipeline(steps=[('simpleimputer',\n",
       "                                                    SimpleImputer(add_indicator=True,\n",
       "                                                                  strategy='median')),\n",
       "                                                   ('standardscaler',\n",
       "                                                    StandardScaler())]),\n",
       "                                   <sklearn.compose._column_transformer.make_column_selector object at 0x0000025D5A034A00>),\n",
       "                                  ('pipeline-2',\n",
       "                                   Pipeline(steps=[('simpleimputer',\n",
       "                                                    SimpleImputer(strategy='constant')),\n",
       "                                                   ('onehotencoder',\n",
       "                                                    OneHotEncoder(handle_unknown='ignore'))]),\n",
       "                                   <sklearn.compose._column_transformer.make_column_selector object at 0x0000025D57344250>)])),\n",
       " ('votingregressor',\n",
       "  VotingRegressor(estimators=[('cb',\n",
       "                               <catboost.core.CatBoostRegressor object at 0x0000025D5D2A8880>),\n",
       "                              ('gbr',\n",
       "                               GradientBoostingRegressor(n_estimators=750)),\n",
       "                              ('lgbm',\n",
       "                               LGBMRegressor(n_estimators=125, random_state=318)),\n",
       "                              ('xgb',\n",
       "                               XGBRegressor(base_score=None, booster=None,\n",
       "                                            callbacks=None,\n",
       "                                            colsample_bylevel=None,\n",
       "                                            colsample_bynode=None,\n",
       "                                            colsample_bytree=None,\n",
       "                                            early_stopping...\n",
       "                                            learning_rate=None, max_bin=None,\n",
       "                                            max_cat_threshold=None,\n",
       "                                            max_cat_to_onehot=None,\n",
       "                                            max_delta_step=None, max_depth=None,\n",
       "                                            max_leaves=None,\n",
       "                                            min_child_weight=None, missing=nan,\n",
       "                                            monotone_constraints=None,\n",
       "                                            n_estimators=35, n_jobs=None,\n",
       "                                            num_parallel_tree=None,\n",
       "                                            predictor=None, random_state=318, ...)),\n",
       "                              ('hgbr',\n",
       "                               HistGradientBoostingRegressor(max_iter=1000,\n",
       "                                                             random_state=318))],\n",
       "                  weights=(1, 1, 1, 1, 1)))]"
      ]
     },
     "execution_count": 51,
     "metadata": {},
     "output_type": "execute_result"
    }
   ],
   "source": [
    "pipe.steps"
   ]
  },
  {
   "cell_type": "code",
   "execution_count": 52,
   "id": "c2943313",
   "metadata": {},
   "outputs": [
    {
     "data": {
      "text/plain": [
       "-0.005433040121326995"
      ]
     },
     "execution_count": 52,
     "metadata": {},
     "output_type": "execute_result"
    }
   ],
   "source": [
    "#baseline of voting_regressor\n",
    "from sklearn.model_selection import cross_val_score\n",
    "cross_val_score(pipe, X, y, scoring='neg_mean_squared_error').mean()"
   ]
  },
  {
   "cell_type": "code",
   "execution_count": 53,
   "id": "adb76931",
   "metadata": {},
   "outputs": [
    {
     "name": "stdout",
     "output_type": "stream",
     "text": [
      "Wall time: 5min 25s\n"
     ]
    },
    {
     "data": {
      "text/plain": [
       "GridSearchCV(estimator=Pipeline(steps=[('columntransformer',\n",
       "                                        ColumnTransformer(transformers=[('pipeline-1',\n",
       "                                                                         Pipeline(steps=[('simpleimputer',\n",
       "                                                                                          SimpleImputer(add_indicator=True,\n",
       "                                                                                                        strategy='median')),\n",
       "                                                                                         ('standardscaler',\n",
       "                                                                                          StandardScaler())]),\n",
       "                                                                         <sklearn.compose._column_transformer.make_column_selector object at 0x0000025D5A034A00>),\n",
       "                                                                        ('pipeline-2',\n",
       "                                                                         Pipeline(steps=[('si...\n",
       "                                                                                  min_child_weight=None,\n",
       "                                                                                  missing=nan,\n",
       "                                                                                  monotone_constraints=None,\n",
       "                                                                                  n_estimators=35,\n",
       "                                                                                  n_jobs=None,\n",
       "                                                                                  num_parallel_tree=None,\n",
       "                                                                                  predictor=None,\n",
       "                                                                                  random_state=318, ...)),\n",
       "                                                                    ('hgbr',\n",
       "                                                                     HistGradientBoostingRegressor(max_iter=1000,\n",
       "                                                                                                   random_state=318))],\n",
       "                                                        weights=(1, 1, 1, 1,\n",
       "                                                                 1)))]),\n",
       "             param_grid={'votingregressor__weights': [(1, 1, 2, 1, 2),\n",
       "                                                      (1, 1, 1, 1, 2),\n",
       "                                                      (1, 1, 2, 1, 1)]},\n",
       "             scoring='neg_mean_squared_error')"
      ]
     },
     "execution_count": 53,
     "metadata": {},
     "output_type": "execute_result"
    }
   ],
   "source": [
    "from sklearn.model_selection import GridSearchCV\n",
    "\n",
    "params = {}\n",
    "params['votingregressor__weights'] = [(1,1,2,1,2),(1,1,1,1,2),(1,1,2,1,1)]\n",
    "\n",
    "grid = GridSearchCV(pipe, params, scoring='neg_mean_squared_error')\n",
    "%time grid.fit(X,y)"
   ]
  },
  {
   "cell_type": "code",
   "execution_count": 54,
   "id": "7598b9c4",
   "metadata": {},
   "outputs": [
    {
     "data": {
      "text/plain": [
       "{'votingregressor__weights': (1, 1, 2, 1, 2)}"
      ]
     },
     "execution_count": 54,
     "metadata": {},
     "output_type": "execute_result"
    }
   ],
   "source": [
    "grid.best_params_"
   ]
  },
  {
   "cell_type": "code",
   "execution_count": 55,
   "id": "f497b89b",
   "metadata": {},
   "outputs": [
    {
     "data": {
      "text/plain": [
       "-0.005428086652798978"
      ]
     },
     "execution_count": 55,
     "metadata": {},
     "output_type": "execute_result"
    }
   ],
   "source": [
    "grid.best_score_"
   ]
  },
  {
   "cell_type": "code",
   "execution_count": 56,
   "id": "0ba8ce7d",
   "metadata": {},
   "outputs": [],
   "source": [
    "#处理test值\n",
    "test = pd.read_csv('data/test.csv')\n",
    "X_test = test.drop(columns=['id','x_e_out [-]'])"
   ]
  },
  {
   "cell_type": "code",
   "execution_count": 57,
   "id": "d2d5dd73",
   "metadata": {},
   "outputs": [],
   "source": [
    "result = grid.predict(X_test)"
   ]
  },
  {
   "cell_type": "code",
   "execution_count": 58,
   "id": "a535f8a5",
   "metadata": {},
   "outputs": [
    {
     "data": {
      "text/plain": [
       "array([-0.00235922, -0.09811642, -0.04951853, ...,  0.0356725 ,\n",
       "       -0.06226163, -0.01770191])"
      ]
     },
     "execution_count": 58,
     "metadata": {},
     "output_type": "execute_result"
    }
   ],
   "source": [
    "result"
   ]
  },
  {
   "cell_type": "code",
   "execution_count": 59,
   "id": "87543c1b",
   "metadata": {},
   "outputs": [],
   "source": [
    "pd.DataFrame({'id':test.id, 'x_e_out [-]':result}).set_index('id').to_csv('sub_combine_data_vr_xgb_lgbm_gbr_cb_hgbr.csv')"
   ]
  },
  {
   "cell_type": "markdown",
   "id": "00e21eed",
   "metadata": {},
   "source": [
    "- 0.076014"
   ]
  },
  {
   "cell_type": "code",
   "execution_count": null,
   "id": "63d592a8",
   "metadata": {},
   "outputs": [],
   "source": []
  }
 ],
 "metadata": {
  "kernelspec": {
   "display_name": "Python 3 (ipykernel)",
   "language": "python",
   "name": "python3"
  },
  "language_info": {
   "codemirror_mode": {
    "name": "ipython",
    "version": 3
   },
   "file_extension": ".py",
   "mimetype": "text/x-python",
   "name": "python",
   "nbconvert_exporter": "python",
   "pygments_lexer": "ipython3",
   "version": "3.9.7"
  }
 },
 "nbformat": 4,
 "nbformat_minor": 5
}
