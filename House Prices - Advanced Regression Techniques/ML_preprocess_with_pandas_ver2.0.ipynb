{
 "cells": [
  {
   "cell_type": "markdown",
   "id": "9e6012a1",
   "metadata": {},
   "source": [
    "## 用pandas进行数据预处理"
   ]
  },
  {
   "cell_type": "code",
   "execution_count": 1,
   "id": "59be5ee2",
   "metadata": {},
   "outputs": [],
   "source": [
    "import pandas as pd\n",
    "import numpy as np"
   ]
  },
  {
   "cell_type": "code",
   "execution_count": 2,
   "id": "ee8371c6",
   "metadata": {},
   "outputs": [],
   "source": [
    "train = pd.read_csv('train.csv')"
   ]
  },
  {
   "cell_type": "code",
   "execution_count": 3,
   "id": "3296dc76",
   "metadata": {},
   "outputs": [
    {
     "data": {
      "text/html": [
       "<div>\n",
       "<style scoped>\n",
       "    .dataframe tbody tr th:only-of-type {\n",
       "        vertical-align: middle;\n",
       "    }\n",
       "\n",
       "    .dataframe tbody tr th {\n",
       "        vertical-align: top;\n",
       "    }\n",
       "\n",
       "    .dataframe thead th {\n",
       "        text-align: right;\n",
       "    }\n",
       "</style>\n",
       "<table border=\"1\" class=\"dataframe\">\n",
       "  <thead>\n",
       "    <tr style=\"text-align: right;\">\n",
       "      <th></th>\n",
       "      <th>Id</th>\n",
       "      <th>MSSubClass</th>\n",
       "      <th>MSZoning</th>\n",
       "      <th>LotFrontage</th>\n",
       "      <th>LotArea</th>\n",
       "      <th>Street</th>\n",
       "      <th>Alley</th>\n",
       "      <th>LotShape</th>\n",
       "      <th>LandContour</th>\n",
       "      <th>Utilities</th>\n",
       "      <th>...</th>\n",
       "      <th>PoolArea</th>\n",
       "      <th>PoolQC</th>\n",
       "      <th>Fence</th>\n",
       "      <th>MiscFeature</th>\n",
       "      <th>MiscVal</th>\n",
       "      <th>MoSold</th>\n",
       "      <th>YrSold</th>\n",
       "      <th>SaleType</th>\n",
       "      <th>SaleCondition</th>\n",
       "      <th>SalePrice</th>\n",
       "    </tr>\n",
       "  </thead>\n",
       "  <tbody>\n",
       "    <tr>\n",
       "      <th>0</th>\n",
       "      <td>1</td>\n",
       "      <td>60</td>\n",
       "      <td>RL</td>\n",
       "      <td>65.0</td>\n",
       "      <td>8450</td>\n",
       "      <td>Pave</td>\n",
       "      <td>NaN</td>\n",
       "      <td>Reg</td>\n",
       "      <td>Lvl</td>\n",
       "      <td>AllPub</td>\n",
       "      <td>...</td>\n",
       "      <td>0</td>\n",
       "      <td>NaN</td>\n",
       "      <td>NaN</td>\n",
       "      <td>NaN</td>\n",
       "      <td>0</td>\n",
       "      <td>2</td>\n",
       "      <td>2008</td>\n",
       "      <td>WD</td>\n",
       "      <td>Normal</td>\n",
       "      <td>208500</td>\n",
       "    </tr>\n",
       "    <tr>\n",
       "      <th>1</th>\n",
       "      <td>2</td>\n",
       "      <td>20</td>\n",
       "      <td>RL</td>\n",
       "      <td>80.0</td>\n",
       "      <td>9600</td>\n",
       "      <td>Pave</td>\n",
       "      <td>NaN</td>\n",
       "      <td>Reg</td>\n",
       "      <td>Lvl</td>\n",
       "      <td>AllPub</td>\n",
       "      <td>...</td>\n",
       "      <td>0</td>\n",
       "      <td>NaN</td>\n",
       "      <td>NaN</td>\n",
       "      <td>NaN</td>\n",
       "      <td>0</td>\n",
       "      <td>5</td>\n",
       "      <td>2007</td>\n",
       "      <td>WD</td>\n",
       "      <td>Normal</td>\n",
       "      <td>181500</td>\n",
       "    </tr>\n",
       "    <tr>\n",
       "      <th>2</th>\n",
       "      <td>3</td>\n",
       "      <td>60</td>\n",
       "      <td>RL</td>\n",
       "      <td>68.0</td>\n",
       "      <td>11250</td>\n",
       "      <td>Pave</td>\n",
       "      <td>NaN</td>\n",
       "      <td>IR1</td>\n",
       "      <td>Lvl</td>\n",
       "      <td>AllPub</td>\n",
       "      <td>...</td>\n",
       "      <td>0</td>\n",
       "      <td>NaN</td>\n",
       "      <td>NaN</td>\n",
       "      <td>NaN</td>\n",
       "      <td>0</td>\n",
       "      <td>9</td>\n",
       "      <td>2008</td>\n",
       "      <td>WD</td>\n",
       "      <td>Normal</td>\n",
       "      <td>223500</td>\n",
       "    </tr>\n",
       "    <tr>\n",
       "      <th>3</th>\n",
       "      <td>4</td>\n",
       "      <td>70</td>\n",
       "      <td>RL</td>\n",
       "      <td>60.0</td>\n",
       "      <td>9550</td>\n",
       "      <td>Pave</td>\n",
       "      <td>NaN</td>\n",
       "      <td>IR1</td>\n",
       "      <td>Lvl</td>\n",
       "      <td>AllPub</td>\n",
       "      <td>...</td>\n",
       "      <td>0</td>\n",
       "      <td>NaN</td>\n",
       "      <td>NaN</td>\n",
       "      <td>NaN</td>\n",
       "      <td>0</td>\n",
       "      <td>2</td>\n",
       "      <td>2006</td>\n",
       "      <td>WD</td>\n",
       "      <td>Abnorml</td>\n",
       "      <td>140000</td>\n",
       "    </tr>\n",
       "    <tr>\n",
       "      <th>4</th>\n",
       "      <td>5</td>\n",
       "      <td>60</td>\n",
       "      <td>RL</td>\n",
       "      <td>84.0</td>\n",
       "      <td>14260</td>\n",
       "      <td>Pave</td>\n",
       "      <td>NaN</td>\n",
       "      <td>IR1</td>\n",
       "      <td>Lvl</td>\n",
       "      <td>AllPub</td>\n",
       "      <td>...</td>\n",
       "      <td>0</td>\n",
       "      <td>NaN</td>\n",
       "      <td>NaN</td>\n",
       "      <td>NaN</td>\n",
       "      <td>0</td>\n",
       "      <td>12</td>\n",
       "      <td>2008</td>\n",
       "      <td>WD</td>\n",
       "      <td>Normal</td>\n",
       "      <td>250000</td>\n",
       "    </tr>\n",
       "  </tbody>\n",
       "</table>\n",
       "<p>5 rows × 81 columns</p>\n",
       "</div>"
      ],
      "text/plain": [
       "   Id  MSSubClass MSZoning  LotFrontage  LotArea Street Alley LotShape  \\\n",
       "0   1          60       RL         65.0     8450   Pave   NaN      Reg   \n",
       "1   2          20       RL         80.0     9600   Pave   NaN      Reg   \n",
       "2   3          60       RL         68.0    11250   Pave   NaN      IR1   \n",
       "3   4          70       RL         60.0     9550   Pave   NaN      IR1   \n",
       "4   5          60       RL         84.0    14260   Pave   NaN      IR1   \n",
       "\n",
       "  LandContour Utilities  ... PoolArea PoolQC Fence MiscFeature MiscVal MoSold  \\\n",
       "0         Lvl    AllPub  ...        0    NaN   NaN         NaN       0      2   \n",
       "1         Lvl    AllPub  ...        0    NaN   NaN         NaN       0      5   \n",
       "2         Lvl    AllPub  ...        0    NaN   NaN         NaN       0      9   \n",
       "3         Lvl    AllPub  ...        0    NaN   NaN         NaN       0      2   \n",
       "4         Lvl    AllPub  ...        0    NaN   NaN         NaN       0     12   \n",
       "\n",
       "  YrSold  SaleType  SaleCondition  SalePrice  \n",
       "0   2008        WD         Normal     208500  \n",
       "1   2007        WD         Normal     181500  \n",
       "2   2008        WD         Normal     223500  \n",
       "3   2006        WD        Abnorml     140000  \n",
       "4   2008        WD         Normal     250000  \n",
       "\n",
       "[5 rows x 81 columns]"
      ]
     },
     "execution_count": 3,
     "metadata": {},
     "output_type": "execute_result"
    }
   ],
   "source": [
    "train.head()"
   ]
  },
  {
   "cell_type": "code",
   "execution_count": 4,
   "id": "533a5729",
   "metadata": {},
   "outputs": [
    {
     "data": {
      "text/plain": [
       "PoolQC         1453\n",
       "MiscFeature    1406\n",
       "Alley          1369\n",
       "Fence          1179\n",
       "FireplaceQu     690\n",
       "               ... \n",
       "ExterQual         0\n",
       "Exterior2nd       0\n",
       "Exterior1st       0\n",
       "RoofMatl          0\n",
       "SalePrice         0\n",
       "Length: 81, dtype: int64"
      ]
     },
     "execution_count": 4,
     "metadata": {},
     "output_type": "execute_result"
    }
   ],
   "source": [
    "train.isnull().sum().sort_values(ascending=False)"
   ]
  },
  {
   "cell_type": "markdown",
   "id": "a420c280",
   "metadata": {},
   "source": [
    "### 预处理思路: \n",
    "\n",
    "- 去掉id列\n",
    "- 去掉NaN数值较多的列（可能会有副作用）\n",
    "- 分别处理数字类型的features/需要进行Ordinal编码的features/需要进行OneHotEncoder编码的features\n",
    "    - Ordinal编码：针对values之间有等级之分的列（譬如：excellent, good, bad ......）\n",
    "    - OneHotEncoder编码：针对values之间没有等级之分的列(譬如：male,female)"
   ]
  },
  {
   "cell_type": "code",
   "execution_count": 5,
   "id": "19cfa296",
   "metadata": {},
   "outputs": [],
   "source": [
    "#定义一下要对train_set和test_set都进行数据预处理的步骤\n",
    "def preprocess1(df):\n",
    "    #去掉Id列\n",
    "    df.drop(columns=['Id'],inplace=True)\n",
    "    \n",
    "    #去掉缺失值较多的列 >=1000\n",
    "    df.drop(columns=['PoolQC','MiscFeature','Alley','Fence'],inplace=True)\n",
    "    \n",
    "    #提取numeric_columns\n",
    "    numeric_features = list(df.dtypes[df.dtypes != 'object'].index)\n",
    "    \n",
    "    #提取需要进行OrdinalEncoder的列\n",
    "    object_features_ore = ['ExterQual','ExterCond','BsmtQual','BsmtCond','BsmtExposure','HeatingQC','KitchenQual','FireplaceQu',\n",
    "#                                                              # 'GarageFinish',\n",
    "                            'GarageQual','GarageCond','SaleCondition']\n",
    "    '''\n",
    "    GarageFinish特例\n",
    "    '''\n",
    "    \n",
    "    #提取需要进行OneHotEncoder的列\n",
    "    object_features_ohe = list(df.dtypes[df.dtypes == 'object'].index)\n",
    "    for each in object_features_ore: \n",
    "        object_features_ohe.remove(each)\n",
    "    \n",
    "    return numeric_features,object_features_ore,object_features_ohe"
   ]
  },
  {
   "cell_type": "code",
   "execution_count": 6,
   "id": "f46e5b40",
   "metadata": {},
   "outputs": [],
   "source": [
    "#数据预处理\n",
    "X = train.iloc[:,:-1]\n",
    "y = train.SalePrice\n",
    "train_numeric_features,object_features_ore,train_object_features_ohe = preprocess1(X)"
   ]
  },
  {
   "cell_type": "code",
   "execution_count": 7,
   "id": "26db5a46",
   "metadata": {},
   "outputs": [
    {
     "data": {
      "text/plain": [
       "(36, 11, 28)"
      ]
     },
     "execution_count": 7,
     "metadata": {},
     "output_type": "execute_result"
    }
   ],
   "source": [
    "#检查处理完后的列向量是否有遗漏\n",
    "len(train_numeric_features),len(object_features_ore),len(train_object_features_ohe)"
   ]
  },
  {
   "cell_type": "markdown",
   "id": "49758919",
   "metadata": {},
   "source": [
    "- 对需要Ordinal Encoder的列中的值进行预处理"
   ]
  },
  {
   "cell_type": "code",
   "execution_count": 8,
   "id": "17663087",
   "metadata": {},
   "outputs": [],
   "source": [
    "def ORE(x):\n",
    "    if x ==\"Ex\":\n",
    "        return 5 \n",
    "    elif x == \"Gd\":\n",
    "        return 4\n",
    "    elif x == \"TA\":\n",
    "        return 3\n",
    "    elif x == \"Fa\":\n",
    "        return 2\n",
    "    elif x == \"Po\":\n",
    "        return 1\n",
    "    elif x == \"NA\":\n",
    "        return 0\n",
    "    else:\n",
    "        return 0\n",
    "    return "
   ]
  },
  {
   "cell_type": "markdown",
   "id": "86e82e64",
   "metadata": {},
   "source": [
    "- 整体编码"
   ]
  },
  {
   "cell_type": "code",
   "execution_count": 9,
   "id": "fd9739d9",
   "metadata": {},
   "outputs": [],
   "source": [
    "#定义进行编码操作\n",
    "def encode(df,n,ore,ohe):\n",
    "    #对numeric_features\n",
    "    df[n] = df[n].apply(\n",
    "    lambda x: (x - x.mean()) / (x.std()))\n",
    "    \n",
    "    # 在标准化数据之后，所有均值消失，因此我们可以将缺失值设置为0\n",
    "    df[n] = df[n].fillna(0)\n",
    "    \n",
    "    #对ore列\n",
    "    df[ore] = df[ore].fillna('missing')\n",
    "    df[ore] = df[ore].applymap(ORE)\n",
    "    #df = df[ore].apply(lambda x: if x==\"\"))\n",
    "    \n",
    "    #对ohe列\n",
    "    df = pd.get_dummies(df, dummy_na=True, columns=train_object_features_ohe)\n",
    "    return df"
   ]
  },
  {
   "cell_type": "code",
   "execution_count": 10,
   "id": "b0e6d611",
   "metadata": {},
   "outputs": [],
   "source": [
    "X_new_1 = encode(X,train_numeric_features,object_features_ore,train_object_features_ohe)"
   ]
  },
  {
   "cell_type": "markdown",
   "id": "b4442162",
   "metadata": {},
   "source": [
    "- 在test数据集中，有些columns中的某些values未出现一次，比如test中的Utilities中没有NoSeWa值，这在预测test数据集时会造成报错（因为列向量个数不匹配）；所以将这些“冗余”的列从X_new_1编码转化完成后的数据集中剔除"
   ]
  },
  {
   "cell_type": "code",
   "execution_count": 11,
   "id": "88508ec8",
   "metadata": {},
   "outputs": [],
   "source": [
    "X_new_1.shape\n",
    "X_new_1.drop(columns=['Utilities_NoSeWa',\n",
    " 'Condition2_RRAe',\n",
    " 'Condition2_RRAn',\n",
    " 'Condition2_RRNn',\n",
    " 'HouseStyle_2.5Fin',\n",
    " 'RoofMatl_ClyTile',\n",
    " 'RoofMatl_Membran',\n",
    " 'RoofMatl_Metal',\n",
    " 'RoofMatl_Roll',\n",
    " 'Exterior1st_ImStucc',\n",
    " 'Exterior1st_Stone',\n",
    " 'Exterior2nd_Other',\n",
    " 'Heating_Floor',\n",
    " 'Heating_OthW',\n",
    " 'Electrical_Mix'],inplace=True)"
   ]
  },
  {
   "cell_type": "markdown",
   "id": "eb52d017",
   "metadata": {},
   "source": [
    "### 模型预测思路: \n",
    "\n",
    "- 试模型，调参......"
   ]
  },
  {
   "cell_type": "code",
   "execution_count": 12,
   "id": "bf85dae4",
   "metadata": {},
   "outputs": [],
   "source": [
    "from sklearn.linear_model import LinearRegression,SGDRegressor\n",
    "from sklearn.kernel_ridge import KernelRidge\n",
    "from sklearn.svm import SVR\n",
    "from sklearn.ensemble import VotingRegressor,AdaBoostRegressor,RandomForestRegressor,GradientBoostingRegressor,HistGradientBoostingRegressor\n",
    "from sklearn.tree import DecisionTreeRegressor"
   ]
  },
  {
   "cell_type": "code",
   "execution_count": 13,
   "id": "c9e46d64",
   "metadata": {},
   "outputs": [],
   "source": [
    "sgd = SGDRegressor()\n",
    "gbr = GradientBoostingRegressor() #0.89187? ----> overfitting ----> actually:>0.14\n",
    "hgbr = HistGradientBoostingRegressor()\n",
    "svr = SVR()\n",
    "abr = AdaBoostRegressor()\n",
    "dtr = DecisionTreeRegressor()\n",
    "rfr = RandomForestRegressor(n_estimators=500)\n",
    "#vr = VotingRegressor([('rfr',rfr),('gbr',gbr),('hgbr',hgbr)],weights=(2,1,1))\n",
    "#vr = VotingRegressor([('rfr',rfr),('gbr',gbr)],weights=(2,1)) #0.8753 ----> actually: >0.14\n",
    "vr = VotingRegressor([('rfr',rfr),('sgd',sgd)],weights=(2,1))"
   ]
  },
  {
   "cell_type": "code",
   "execution_count": 14,
   "id": "3bfc12df",
   "metadata": {},
   "outputs": [
    {
     "data": {
      "text/plain": [
       "0.8668796856288166"
      ]
     },
     "execution_count": 14,
     "metadata": {},
     "output_type": "execute_result"
    }
   ],
   "source": [
    "from sklearn.model_selection import cross_val_score\n",
    "cross_val_score(vr, X_new_1, y, scoring='r2').mean()"
   ]
  },
  {
   "cell_type": "markdown",
   "id": "82d78f7a",
   "metadata": {},
   "source": [
    "- GridSearchCV太耗时间了，这里就不演示了"
   ]
  },
  {
   "cell_type": "code",
   "execution_count": 15,
   "id": "c4113932",
   "metadata": {},
   "outputs": [],
   "source": [
    "# from sklearn.model_selection import GridSearchCV\n",
    "# params = { 'weights':[(2,1), (3,1)],\n",
    "#            'rfr__n_estimators':[120, 500],\n",
    "#            'rfr__min_samples_leaf':[1, 2]}"
   ]
  },
  {
   "cell_type": "code",
   "execution_count": 16,
   "id": "5c3954d1",
   "metadata": {},
   "outputs": [],
   "source": [
    "# grid = GridSearchCV(vr, params)\n",
    "# grid.fit(X_new_1, y)"
   ]
  },
  {
   "cell_type": "code",
   "execution_count": 17,
   "id": "1c54b5d3",
   "metadata": {},
   "outputs": [],
   "source": [
    "# grid.best_params_,grid.best_score_"
   ]
  },
  {
   "cell_type": "markdown",
   "id": "5b7c1a76",
   "metadata": {},
   "source": [
    "- fit模型"
   ]
  },
  {
   "cell_type": "code",
   "execution_count": 18,
   "id": "c40b85f2",
   "metadata": {},
   "outputs": [
    {
     "data": {
      "text/plain": [
       "VotingRegressor(estimators=[('rfr', RandomForestRegressor(n_estimators=500)),\n",
       "                            ('sgd', SGDRegressor())],\n",
       "                weights=(2, 1))"
      ]
     },
     "execution_count": 18,
     "metadata": {},
     "output_type": "execute_result"
    }
   ],
   "source": [
    "vr.fit(X_new_1,y)"
   ]
  },
  {
   "cell_type": "markdown",
   "id": "74772d8f",
   "metadata": {},
   "source": [
    "### 对test数据集进行相同预处理后，predict"
   ]
  },
  {
   "cell_type": "code",
   "execution_count": 19,
   "id": "7932823f",
   "metadata": {},
   "outputs": [],
   "source": [
    "test = pd.read_csv('test.csv')\n",
    "test_numeric_features,test_object_features_ore,test_object_features_ohe = preprocess1(test)"
   ]
  },
  {
   "cell_type": "code",
   "execution_count": 20,
   "id": "37bc5070",
   "metadata": {},
   "outputs": [
    {
     "data": {
      "text/plain": [
       "(36, 11, 28)"
      ]
     },
     "execution_count": 20,
     "metadata": {},
     "output_type": "execute_result"
    }
   ],
   "source": [
    "#检查与train中的是否一致\n",
    "len(test_numeric_features),len(test_object_features_ore),len(test_object_features_ohe)"
   ]
  },
  {
   "cell_type": "code",
   "execution_count": 21,
   "id": "11876b4b",
   "metadata": {},
   "outputs": [],
   "source": [
    "test_new_1 = encode(test,test_numeric_features,test_object_features_ore,test_object_features_ohe)"
   ]
  },
  {
   "cell_type": "code",
   "execution_count": 22,
   "id": "5eb36caa",
   "metadata": {},
   "outputs": [
    {
     "data": {
      "text/plain": [
       "[]"
      ]
     },
     "execution_count": 22,
     "metadata": {},
     "output_type": "execute_result"
    }
   ],
   "source": [
    "#检查train（较大数据集）中是否有test中（较小数据集）不存在的columns\n",
    "new_list = [item for item in X_new_1 if item not in test_new_1]\n",
    "new_list"
   ]
  },
  {
   "cell_type": "code",
   "execution_count": 23,
   "id": "7655d695",
   "metadata": {},
   "outputs": [
    {
     "data": {
      "text/plain": [
       "(1459,)"
      ]
     },
     "execution_count": 23,
     "metadata": {},
     "output_type": "execute_result"
    }
   ],
   "source": [
    "result = vr.predict(test_new_1)\n",
    "result.shape"
   ]
  },
  {
   "cell_type": "code",
   "execution_count": 24,
   "id": "ac8ce04f",
   "metadata": {},
   "outputs": [],
   "source": [
    "test = pd.read_csv('test.csv')\n",
    "pd.DataFrame({'id':test.Id,'SalePrice':result}).set_index('id').to_csv('sub_houseprice_ver2.0_rft_sgd_2.0.csv')"
   ]
  },
  {
   "cell_type": "markdown",
   "id": "fdd4e0bf",
   "metadata": {},
   "source": [
    "- LMSE:0.133"
   ]
  },
  {
   "cell_type": "code",
   "execution_count": null,
   "id": "3910ba97",
   "metadata": {},
   "outputs": [],
   "source": []
  }
 ],
 "metadata": {
  "kernelspec": {
   "display_name": "Python 3 (ipykernel)",
   "language": "python",
   "name": "python3"
  },
  "language_info": {
   "codemirror_mode": {
    "name": "ipython",
    "version": 3
   },
   "file_extension": ".py",
   "mimetype": "text/x-python",
   "name": "python",
   "nbconvert_exporter": "python",
   "pygments_lexer": "ipython3",
   "version": "3.9.7"
  }
 },
 "nbformat": 4,
 "nbformat_minor": 5
}
