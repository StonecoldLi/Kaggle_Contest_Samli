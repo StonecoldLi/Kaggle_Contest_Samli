{
 "cells": [
  {
   "cell_type": "code",
   "execution_count": 27,
   "id": "511007ab",
   "metadata": {},
   "outputs": [],
   "source": [
    "import pandas as pd"
   ]
  },
  {
   "cell_type": "code",
   "execution_count": 28,
   "id": "c4ab1ea2",
   "metadata": {},
   "outputs": [],
   "source": [
    "#数据分割\n",
    "df = pd.read_csv(\"train.csv\")\n",
    "X = df.iloc[:,1:-1] #直接去掉Id列了\n",
    "y = df.iloc[:,-1]\n",
    "\n",
    "df_new = pd.read_csv(\"test.csv\")\n",
    "X_new = df_new.iloc[:,1:]\n",
    "\n",
    "#X.drop(columns=['PoolQC','MiscFeature','Alley','Fence'],inplace=True)\n",
    "#X_new.drop(columns=['PoolQC','MiscFeature','Alley','Fence'],inplace=True)"
   ]
  },
  {
   "cell_type": "code",
   "execution_count": 29,
   "id": "1be0fa08",
   "metadata": {},
   "outputs": [],
   "source": [
    "from sklearn.impute import SimpleImputer\n",
    "from sklearn.preprocessing import StandardScaler, OneHotEncoder, OrdinalEncoder\n",
    "from sklearn.compose import make_column_selector, make_column_transformer\n",
    "from sklearn.pipeline import make_pipeline\n",
    "from sklearn.linear_model import LinearRegression,RidgeCV,Lasso,SGDRegressor\n",
    "from sklearn.model_selection import cross_val_score"
   ]
  },
  {
   "cell_type": "code",
   "execution_count": 30,
   "id": "894dbed7",
   "metadata": {},
   "outputs": [],
   "source": [
    "#set up preprocessing for numeric columns\n",
    "imp_median = SimpleImputer(strategy='mean', add_indicator=True)\n",
    "scaler = StandardScaler()"
   ]
  },
  {
   "cell_type": "code",
   "execution_count": 31,
   "id": "e4ae8b5c",
   "metadata": {},
   "outputs": [],
   "source": [
    "#set up preprocessing for categorical columns\n",
    "imp_constant = SimpleImputer(strategy='constant') #用constant字符填充缺失值\n",
    "ohe = OneHotEncoder(handle_unknown='ignore') #必须要设定这个参数！原因可见ML_preprocess_with_pandas_ver2.0中In[11]上面的解释\n",
    "#ore = OrdinalEncoder(handle_unknown='use_encoded_value')"
   ]
  },
  {
   "cell_type": "code",
   "execution_count": 32,
   "id": "2b3bd5a8",
   "metadata": {},
   "outputs": [],
   "source": [
    "#select columns by data type\n",
    "num_cols = make_column_selector(dtype_include='number')\n",
    "cat_cols = make_column_selector(dtype_exclude='number')"
   ]
  },
  {
   "cell_type": "code",
   "execution_count": 33,
   "id": "aa4435aa",
   "metadata": {},
   "outputs": [],
   "source": [
    "#do all preprocessing\n",
    "preprocessor = make_column_transformer(\n",
    "    (make_pipeline(imp_median, scaler), num_cols),\n",
    "    (make_pipeline(imp_constant, ohe), cat_cols))"
   ]
  },
  {
   "cell_type": "code",
   "execution_count": 37,
   "id": "0612b2c0",
   "metadata": {},
   "outputs": [],
   "source": [
    "from sklearn.ensemble import VotingRegressor,RandomForestRegressor\n",
    "#create a pipeline\n",
    "sgd = SGDRegressor()\n",
    "rfr = RandomForestRegressor()\n",
    "\n",
    "vr = VotingRegressor([('sgd',sgd),('rfr',rfr)],weights=(1,2))\n",
    "\n",
    "pipe = make_pipeline(preprocessor, vr)"
   ]
  },
  {
   "cell_type": "code",
   "execution_count": 20,
   "id": "a04a71e9",
   "metadata": {},
   "outputs": [
    {
     "data": {
      "text/plain": [
       "[('columntransformer',\n",
       "  ColumnTransformer(transformers=[('pipeline-1',\n",
       "                                   Pipeline(steps=[('simpleimputer',\n",
       "                                                    SimpleImputer(add_indicator=True)),\n",
       "                                                   ('standardscaler',\n",
       "                                                    StandardScaler())]),\n",
       "                                   <sklearn.compose._column_transformer.make_column_selector object at 0x000001D7704BE820>),\n",
       "                                  ('pipeline-2',\n",
       "                                   Pipeline(steps=[('simpleimputer',\n",
       "                                                    SimpleImputer(strategy='constant')),\n",
       "                                                   ('onehotencoder',\n",
       "                                                    OneHotEncoder(handle_unknown='ignore'))]),\n",
       "                                   <sklearn.compose._column_transformer.make_column_selector object at 0x000001D7704BE2E0>)])),\n",
       " ('votingregressor',\n",
       "  VotingRegressor(estimators=[('sgd', SGDRegressor()),\n",
       "                              ('rfr', RandomForestRegressor())],\n",
       "                  weights=(1, 2)))]"
      ]
     },
     "execution_count": 20,
     "metadata": {},
     "output_type": "execute_result"
    }
   ],
   "source": [
    "pipe.steps"
   ]
  },
  {
   "cell_type": "code",
   "execution_count": 21,
   "id": "3cc69d01",
   "metadata": {},
   "outputs": [],
   "source": [
    "# from sklearn.model_selection import GridSearchCV\n",
    "\n",
    "# param_grid = {}\n",
    "# param_grid['votingregressor__rfr__n_estimators'] = [100,500]\n",
    "# param_grid['votingregressor__sgd__alpha'] = [0.001,0.01]"
   ]
  },
  {
   "cell_type": "code",
   "execution_count": 22,
   "id": "20677f32",
   "metadata": {},
   "outputs": [],
   "source": [
    "# grid = GridSearchCV(pipe, param_grid, cv=5, scoring='r2')"
   ]
  },
  {
   "cell_type": "code",
   "execution_count": 23,
   "id": "9c1eb508",
   "metadata": {},
   "outputs": [
    {
     "name": "stdout",
     "output_type": "stream",
     "text": [
      "Wall time: 13min 12s\n"
     ]
    },
    {
     "data": {
      "text/plain": [
       "GridSearchCV(cv=5,\n",
       "             estimator=Pipeline(steps=[('columntransformer',\n",
       "                                        ColumnTransformer(transformers=[('pipeline-1',\n",
       "                                                                         Pipeline(steps=[('simpleimputer',\n",
       "                                                                                          SimpleImputer(add_indicator=True)),\n",
       "                                                                                         ('standardscaler',\n",
       "                                                                                          StandardScaler())]),\n",
       "                                                                         <sklearn.compose._column_transformer.make_column_selector object at 0x000001D7704BE820>),\n",
       "                                                                        ('pipeline-2',\n",
       "                                                                         Pipeline(steps=[('simpleimputer',...\n",
       "                                                                                          OneHotEncoder(handle_unknown='ignore'))]),\n",
       "                                                                         <sklearn.compose._column_transformer.make_column_selector object at 0x000001D7704BE2E0>)])),\n",
       "                                       ('votingregressor',\n",
       "                                        VotingRegressor(estimators=[('sgd',\n",
       "                                                                     SGDRegressor()),\n",
       "                                                                    ('rfr',\n",
       "                                                                     RandomForestRegressor())],\n",
       "                                                        weights=(1, 2)))]),\n",
       "             param_grid={'votingregressor__rfr__n_estimators': [100, 500],\n",
       "                         'votingregressor__sgd__alpha': [0.001, 0.01]},\n",
       "             scoring='r2')"
      ]
     },
     "execution_count": 23,
     "metadata": {},
     "output_type": "execute_result"
    }
   ],
   "source": [
    "# %time grid.fit(X,y)"
   ]
  },
  {
   "cell_type": "code",
   "execution_count": 38,
   "id": "499b6a32",
   "metadata": {},
   "outputs": [
    {
     "name": "stdout",
     "output_type": "stream",
     "text": [
      "0.8682542534559765\n"
     ]
    }
   ],
   "source": [
    "#cross_validate the pipeline\n",
    "print(cross_val_score(pipe, X, y).mean())"
   ]
  },
  {
   "cell_type": "code",
   "execution_count": 24,
   "id": "b001b435",
   "metadata": {},
   "outputs": [
    {
     "name": "stdout",
     "output_type": "stream",
     "text": [
      "{'votingregressor__rfr__n_estimators': 500, 'votingregressor__sgd__alpha': 0.001}\n",
      "0.8707012450093143\n"
     ]
    }
   ],
   "source": [
    "# print(grid.best_params_)\n",
    "# print(grid.best_score_)"
   ]
  },
  {
   "cell_type": "code",
   "execution_count": 25,
   "id": "fee4ab3b",
   "metadata": {},
   "outputs": [],
   "source": [
    "# a = grid.predict(X_new)"
   ]
  },
  {
   "cell_type": "code",
   "execution_count": 39,
   "id": "8330bbd0",
   "metadata": {},
   "outputs": [
    {
     "name": "stdout",
     "output_type": "stream",
     "text": [
      "[116839.20364831 157827.96334482 176827.06988431 ... 155213.83667774\n",
      " 113022.54693407 231213.63759802]\n"
     ]
    }
   ],
   "source": [
    "# #fit the pipeline and make predictions\n",
    "pipe.fit(X, y)\n",
    "a = pipe.predict(X_new)\n",
    "print(a)"
   ]
  },
  {
   "cell_type": "code",
   "execution_count": 40,
   "id": "e6970dad",
   "metadata": {},
   "outputs": [],
   "source": [
    "pd.DataFrame({'id':df_new.Id,'SalePrice':a}).set_index('id').to_csv('sub_houseprice_ver2.0_rft_sgd_without_ore.csv')"
   ]
  },
  {
   "cell_type": "code",
   "execution_count": null,
   "id": "386f8acf",
   "metadata": {},
   "outputs": [],
   "source": []
  }
 ],
 "metadata": {
  "kernelspec": {
   "display_name": "Python 3 (ipykernel)",
   "language": "python",
   "name": "python3"
  },
  "language_info": {
   "codemirror_mode": {
    "name": "ipython",
    "version": 3
   },
   "file_extension": ".py",
   "mimetype": "text/x-python",
   "name": "python",
   "nbconvert_exporter": "python",
   "pygments_lexer": "ipython3",
   "version": "3.9.7"
  }
 },
 "nbformat": 4,
 "nbformat_minor": 5
}
