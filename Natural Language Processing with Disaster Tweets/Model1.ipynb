{
 "cells": [
  {
   "cell_type": "markdown",
   "id": "cb8ac5d7",
   "metadata": {},
   "source": [
    "## Agenda\n",
    "- feature engineering\n",
    "    - 1) delete id_column\n",
    "    - 2) CountVectorizer: text+keyword+location\n",
    "- model\n",
    "    - bernoullibayes"
   ]
  },
  {
   "cell_type": "code",
   "execution_count": 1,
   "id": "6ba33af3",
   "metadata": {},
   "outputs": [],
   "source": [
    "import pandas as pd\n",
    "import numpy as np"
   ]
  },
  {
   "cell_type": "code",
   "execution_count": 2,
   "id": "eb653689",
   "metadata": {
    "scrolled": true
   },
   "outputs": [
    {
     "data": {
      "text/html": [
       "<div>\n",
       "<style scoped>\n",
       "    .dataframe tbody tr th:only-of-type {\n",
       "        vertical-align: middle;\n",
       "    }\n",
       "\n",
       "    .dataframe tbody tr th {\n",
       "        vertical-align: top;\n",
       "    }\n",
       "\n",
       "    .dataframe thead th {\n",
       "        text-align: right;\n",
       "    }\n",
       "</style>\n",
       "<table border=\"1\" class=\"dataframe\">\n",
       "  <thead>\n",
       "    <tr style=\"text-align: right;\">\n",
       "      <th></th>\n",
       "      <th>id</th>\n",
       "      <th>keyword</th>\n",
       "      <th>location</th>\n",
       "      <th>text</th>\n",
       "      <th>target</th>\n",
       "    </tr>\n",
       "  </thead>\n",
       "  <tbody>\n",
       "    <tr>\n",
       "      <th>0</th>\n",
       "      <td>1</td>\n",
       "      <td>NaN</td>\n",
       "      <td>NaN</td>\n",
       "      <td>Our Deeds are the Reason of this #earthquake M...</td>\n",
       "      <td>1</td>\n",
       "    </tr>\n",
       "    <tr>\n",
       "      <th>1</th>\n",
       "      <td>4</td>\n",
       "      <td>NaN</td>\n",
       "      <td>NaN</td>\n",
       "      <td>Forest fire near La Ronge Sask. Canada</td>\n",
       "      <td>1</td>\n",
       "    </tr>\n",
       "    <tr>\n",
       "      <th>2</th>\n",
       "      <td>5</td>\n",
       "      <td>NaN</td>\n",
       "      <td>NaN</td>\n",
       "      <td>All residents asked to 'shelter in place' are ...</td>\n",
       "      <td>1</td>\n",
       "    </tr>\n",
       "    <tr>\n",
       "      <th>3</th>\n",
       "      <td>6</td>\n",
       "      <td>NaN</td>\n",
       "      <td>NaN</td>\n",
       "      <td>13,000 people receive #wildfires evacuation or...</td>\n",
       "      <td>1</td>\n",
       "    </tr>\n",
       "    <tr>\n",
       "      <th>4</th>\n",
       "      <td>7</td>\n",
       "      <td>NaN</td>\n",
       "      <td>NaN</td>\n",
       "      <td>Just got sent this photo from Ruby #Alaska as ...</td>\n",
       "      <td>1</td>\n",
       "    </tr>\n",
       "  </tbody>\n",
       "</table>\n",
       "</div>"
      ],
      "text/plain": [
       "   id keyword location                                               text  \\\n",
       "0   1     NaN      NaN  Our Deeds are the Reason of this #earthquake M...   \n",
       "1   4     NaN      NaN             Forest fire near La Ronge Sask. Canada   \n",
       "2   5     NaN      NaN  All residents asked to 'shelter in place' are ...   \n",
       "3   6     NaN      NaN  13,000 people receive #wildfires evacuation or...   \n",
       "4   7     NaN      NaN  Just got sent this photo from Ruby #Alaska as ...   \n",
       "\n",
       "   target  \n",
       "0       1  \n",
       "1       1  \n",
       "2       1  \n",
       "3       1  \n",
       "4       1  "
      ]
     },
     "execution_count": 2,
     "metadata": {},
     "output_type": "execute_result"
    }
   ],
   "source": [
    "train = pd.read_csv(\"data/train.csv\")\n",
    "train.head()"
   ]
  },
  {
   "cell_type": "code",
   "execution_count": 3,
   "id": "e9ac6e2c",
   "metadata": {},
   "outputs": [
    {
     "data": {
      "text/plain": [
       "(7613, 5)"
      ]
     },
     "execution_count": 3,
     "metadata": {},
     "output_type": "execute_result"
    }
   ],
   "source": [
    "train.shape"
   ]
  },
  {
   "cell_type": "code",
   "execution_count": 4,
   "id": "fddc2770",
   "metadata": {},
   "outputs": [
    {
     "data": {
      "text/plain": [
       "id             0\n",
       "keyword       61\n",
       "location    2533\n",
       "text           0\n",
       "target         0\n",
       "dtype: int64"
      ]
     },
     "execution_count": 4,
     "metadata": {},
     "output_type": "execute_result"
    }
   ],
   "source": [
    "train.isna().sum()"
   ]
  },
  {
   "cell_type": "code",
   "execution_count": 5,
   "id": "957df3bb",
   "metadata": {},
   "outputs": [],
   "source": [
    "X = train.iloc[:,1:4]\n",
    "y = train['target']"
   ]
  },
  {
   "cell_type": "code",
   "execution_count": 6,
   "id": "c6820066",
   "metadata": {},
   "outputs": [],
   "source": [
    "def combine_features(df):\n",
    "    df['new_text'] = df.keyword.str.cat([df.location,df.text], sep=' ', na_rep='na')\n",
    "    df.drop(columns = ['keyword','location','text'],inplace=True)\n",
    "    return df"
   ]
  },
  {
   "cell_type": "code",
   "execution_count": 7,
   "id": "aff46382",
   "metadata": {},
   "outputs": [
    {
     "data": {
      "text/html": [
       "<div>\n",
       "<style scoped>\n",
       "    .dataframe tbody tr th:only-of-type {\n",
       "        vertical-align: middle;\n",
       "    }\n",
       "\n",
       "    .dataframe tbody tr th {\n",
       "        vertical-align: top;\n",
       "    }\n",
       "\n",
       "    .dataframe thead th {\n",
       "        text-align: right;\n",
       "    }\n",
       "</style>\n",
       "<table border=\"1\" class=\"dataframe\">\n",
       "  <thead>\n",
       "    <tr style=\"text-align: right;\">\n",
       "      <th></th>\n",
       "      <th>new_text</th>\n",
       "    </tr>\n",
       "  </thead>\n",
       "  <tbody>\n",
       "    <tr>\n",
       "      <th>0</th>\n",
       "      <td>na na Our Deeds are the Reason of this #earthq...</td>\n",
       "    </tr>\n",
       "    <tr>\n",
       "      <th>1</th>\n",
       "      <td>na na Forest fire near La Ronge Sask. Canada</td>\n",
       "    </tr>\n",
       "    <tr>\n",
       "      <th>2</th>\n",
       "      <td>na na All residents asked to 'shelter in place...</td>\n",
       "    </tr>\n",
       "    <tr>\n",
       "      <th>3</th>\n",
       "      <td>na na 13,000 people receive #wildfires evacuat...</td>\n",
       "    </tr>\n",
       "    <tr>\n",
       "      <th>4</th>\n",
       "      <td>na na Just got sent this photo from Ruby #Alas...</td>\n",
       "    </tr>\n",
       "    <tr>\n",
       "      <th>...</th>\n",
       "      <td>...</td>\n",
       "    </tr>\n",
       "    <tr>\n",
       "      <th>7608</th>\n",
       "      <td>na na Two giant cranes holding a bridge collap...</td>\n",
       "    </tr>\n",
       "    <tr>\n",
       "      <th>7609</th>\n",
       "      <td>na na @aria_ahrary @TheTawniest The out of con...</td>\n",
       "    </tr>\n",
       "    <tr>\n",
       "      <th>7610</th>\n",
       "      <td>na na M1.94 [01:04 UTC]?5km S of Volcano Hawai...</td>\n",
       "    </tr>\n",
       "    <tr>\n",
       "      <th>7611</th>\n",
       "      <td>na na Police investigating after an e-bike col...</td>\n",
       "    </tr>\n",
       "    <tr>\n",
       "      <th>7612</th>\n",
       "      <td>na na The Latest: More Homes Razed by Northern...</td>\n",
       "    </tr>\n",
       "  </tbody>\n",
       "</table>\n",
       "<p>7613 rows × 1 columns</p>\n",
       "</div>"
      ],
      "text/plain": [
       "                                               new_text\n",
       "0     na na Our Deeds are the Reason of this #earthq...\n",
       "1          na na Forest fire near La Ronge Sask. Canada\n",
       "2     na na All residents asked to 'shelter in place...\n",
       "3     na na 13,000 people receive #wildfires evacuat...\n",
       "4     na na Just got sent this photo from Ruby #Alas...\n",
       "...                                                 ...\n",
       "7608  na na Two giant cranes holding a bridge collap...\n",
       "7609  na na @aria_ahrary @TheTawniest The out of con...\n",
       "7610  na na M1.94 [01:04 UTC]?5km S of Volcano Hawai...\n",
       "7611  na na Police investigating after an e-bike col...\n",
       "7612  na na The Latest: More Homes Razed by Northern...\n",
       "\n",
       "[7613 rows x 1 columns]"
      ]
     },
     "execution_count": 7,
     "metadata": {},
     "output_type": "execute_result"
    }
   ],
   "source": [
    "X = combine_features(X)\n",
    "X"
   ]
  },
  {
   "cell_type": "code",
   "execution_count": 8,
   "id": "ce086587",
   "metadata": {},
   "outputs": [
    {
     "data": {
      "text/plain": [
       "0       1\n",
       "1       1\n",
       "2       1\n",
       "3       1\n",
       "4       1\n",
       "       ..\n",
       "7608    1\n",
       "7609    1\n",
       "7610    1\n",
       "7611    1\n",
       "7612    1\n",
       "Name: target, Length: 7613, dtype: int64"
      ]
     },
     "execution_count": 8,
     "metadata": {},
     "output_type": "execute_result"
    }
   ],
   "source": [
    "y"
   ]
  },
  {
   "cell_type": "code",
   "execution_count": 9,
   "id": "f0bbab94",
   "metadata": {},
   "outputs": [],
   "source": [
    "X = X.new_text\n",
    "y = train['target']"
   ]
  },
  {
   "cell_type": "code",
   "execution_count": 10,
   "id": "ee5ed8fe",
   "metadata": {},
   "outputs": [],
   "source": [
    "from sklearn.feature_extraction.text import CountVectorizer\n",
    "\n",
    "vect1 = CountVectorizer()\n",
    "#vect2 = CountVectorizer()\n",
    "#vect.fit_transform(X)"
   ]
  },
  {
   "cell_type": "code",
   "execution_count": 11,
   "id": "a7f8cdc9",
   "metadata": {},
   "outputs": [],
   "source": [
    "from sklearn.naive_bayes import BernoulliNB\n",
    "#nb = MultinomialNB()\n",
    "bnb = BernoulliNB() #0.740187\n",
    "\n",
    "from sklearn.linear_model import LogisticRegression,SGDClassifier,RidgeClassifier\n",
    "lg = LogisticRegression(random_state=318) \n",
    "sgd = SGDClassifier(random_state=318)\n",
    "rc = RidgeClassifier(random_state=318)\n",
    "\n",
    "from sklearn.tree import DecisionTreeClassifier\n",
    "dtc = DecisionTreeClassifier(random_state=318)\n",
    "\n",
    "from sklearn.svm import SVC\n",
    "svc = SVC(probability=True) #0.69527\n",
    "\n",
    "from sklearn.ensemble import VotingClassifier,RandomForestClassifier\n",
    "rfc = RandomForestClassifier() #0.69500\n",
    "\n",
    "#vc = VotingClassifier([('svc',svc),('rfc',rfc),('bnb',bnb)])"
   ]
  },
  {
   "cell_type": "code",
   "execution_count": 12,
   "id": "26f31888",
   "metadata": {},
   "outputs": [],
   "source": [
    "from sklearn.pipeline import make_pipeline\n",
    "pipe = make_pipeline(vect1, bnb)"
   ]
  },
  {
   "cell_type": "code",
   "execution_count": 13,
   "id": "14b6cc12",
   "metadata": {},
   "outputs": [
    {
     "data": {
      "text/plain": [
       "0.7401874714733265"
      ]
     },
     "execution_count": 13,
     "metadata": {},
     "output_type": "execute_result"
    }
   ],
   "source": [
    "from sklearn.model_selection import cross_val_score\n",
    "cross_val_score(pipe, X, y, cv=5, scoring='accuracy').mean()"
   ]
  },
  {
   "cell_type": "code",
   "execution_count": 14,
   "id": "0cfeca80",
   "metadata": {},
   "outputs": [
    {
     "data": {
      "text/plain": [
       "[('countvectorizer', CountVectorizer()), ('bernoullinb', BernoulliNB())]"
      ]
     },
     "execution_count": 14,
     "metadata": {},
     "output_type": "execute_result"
    }
   ],
   "source": [
    "pipe.steps"
   ]
  },
  {
   "cell_type": "code",
   "execution_count": 15,
   "id": "638cc112",
   "metadata": {},
   "outputs": [
    {
     "data": {
      "text/plain": [
       "Pipeline(steps=[('countvectorizer', CountVectorizer()),\n",
       "                ('bernoullinb', BernoulliNB())])"
      ]
     },
     "execution_count": 15,
     "metadata": {},
     "output_type": "execute_result"
    }
   ],
   "source": [
    "pipe.fit(X,y)"
   ]
  },
  {
   "cell_type": "code",
   "execution_count": 16,
   "id": "65062b1e",
   "metadata": {},
   "outputs": [],
   "source": [
    "from sklearn.model_selection import GridSearchCV\n",
    "\n",
    "params = {}\n",
    "params['bernoullinb__alpha'] = [0.1,0.5,1,2]\n",
    "params['bernoullinb__fit_prior'] = [True, False]"
   ]
  },
  {
   "cell_type": "code",
   "execution_count": 17,
   "id": "7feccb51",
   "metadata": {},
   "outputs": [
    {
     "data": {
      "text/plain": [
       "GridSearchCV(cv=5,\n",
       "             estimator=Pipeline(steps=[('countvectorizer', CountVectorizer()),\n",
       "                                       ('bernoullinb', BernoulliNB())]),\n",
       "             param_grid={'bernoullinb__alpha': [0.1, 0.5, 1, 2],\n",
       "                         'bernoullinb__fit_prior': [True, False]},\n",
       "             scoring='accuracy')"
      ]
     },
     "execution_count": 17,
     "metadata": {},
     "output_type": "execute_result"
    }
   ],
   "source": [
    "grid = GridSearchCV(pipe, params, cv=5, scoring='accuracy')\n",
    "grid.fit(X, y)"
   ]
  },
  {
   "cell_type": "code",
   "execution_count": 18,
   "id": "cd7ca4a3",
   "metadata": {},
   "outputs": [
    {
     "data": {
      "text/plain": [
       "0.7401874714733265"
      ]
     },
     "execution_count": 18,
     "metadata": {},
     "output_type": "execute_result"
    }
   ],
   "source": [
    "grid.best_score_"
   ]
  },
  {
   "cell_type": "code",
   "execution_count": 19,
   "id": "4c09d0a3",
   "metadata": {},
   "outputs": [
    {
     "data": {
      "text/plain": [
       "{'bernoullinb__alpha': 1, 'bernoullinb__fit_prior': True}"
      ]
     },
     "execution_count": 19,
     "metadata": {},
     "output_type": "execute_result"
    }
   ],
   "source": [
    "grid.best_params_"
   ]
  },
  {
   "cell_type": "code",
   "execution_count": 20,
   "id": "096ad3ed",
   "metadata": {},
   "outputs": [
    {
     "name": "stderr",
     "output_type": "stream",
     "text": [
      "D:\\anaconda\\lib\\site-packages\\sklearn\\utils\\deprecation.py:87: FutureWarning: Function plot_confusion_matrix is deprecated; Function `plot_confusion_matrix` is deprecated in 1.0 and will be removed in 1.2. Use one of the class methods: ConfusionMatrixDisplay.from_predictions or ConfusionMatrixDisplay.from_estimator.\n",
      "  warnings.warn(msg, category=FutureWarning)\n"
     ]
    },
    {
     "data": {
      "image/png": "[encoded data removed]",
      "text/plain": [
       "<Figure size 640x480 with 2 Axes>"
      ]
     },
     "metadata": {},
     "output_type": "display_data"
    }
   ],
   "source": [
    "#draw a diffusion matrix\n",
    "from sklearn.metrics import plot_confusion_matrix\n",
    "from sklearn.model_selection import train_test_split\n",
    "\n",
    "X_train, X_test, y_train, y_test = train_test_split(X, y, random_state=318)\n",
    "disp = plot_confusion_matrix(grid, X_test, y_test, cmap='Blues', values_format='d')"
   ]
  },
  {
   "cell_type": "code",
   "execution_count": 21,
   "id": "3f7d999a",
   "metadata": {},
   "outputs": [
    {
     "name": "stdout",
     "output_type": "stream",
     "text": [
      "0.5703402075397347\n"
     ]
    }
   ],
   "source": [
    "#null_accuracy\n",
    "print(train.target.value_counts().max()/train.target.value_counts().sum())"
   ]
  },
  {
   "cell_type": "code",
   "execution_count": 22,
   "id": "2578d1a2",
   "metadata": {},
   "outputs": [],
   "source": [
    "#read test data\n",
    "test = pd.read_csv('data/test.csv')"
   ]
  },
  {
   "cell_type": "code",
   "execution_count": 23,
   "id": "b84ef283",
   "metadata": {},
   "outputs": [],
   "source": [
    "test = combine_features(test)"
   ]
  },
  {
   "cell_type": "code",
   "execution_count": 24,
   "id": "56982db6",
   "metadata": {},
   "outputs": [],
   "source": [
    "X_test = test.new_text"
   ]
  },
  {
   "cell_type": "code",
   "execution_count": 25,
   "id": "8e480798",
   "metadata": {},
   "outputs": [],
   "source": [
    "result = grid.predict(X_test)"
   ]
  },
  {
   "cell_type": "code",
   "execution_count": 26,
   "id": "313d2909",
   "metadata": {},
   "outputs": [
    {
     "data": {
      "text/plain": [
       "array([0, 0, 1, ..., 1, 1, 1], dtype=int64)"
      ]
     },
     "execution_count": 26,
     "metadata": {},
     "output_type": "execute_result"
    }
   ],
   "source": [
    "result"
   ]
  },
  {
   "cell_type": "code",
   "execution_count": 27,
   "id": "d70dbcaf",
   "metadata": {},
   "outputs": [],
   "source": [
    "pd.DataFrame({'id':test.id, 'target':result}).set_index('id').to_csv('submission.csv')"
   ]
  },
  {
   "cell_type": "markdown",
   "id": "b42ed4f4",
   "metadata": {},
   "source": [
    "- 0.79436"
   ]
  },
  {
   "cell_type": "code",
   "execution_count": 28,
   "id": "36bffbe0",
   "metadata": {},
   "outputs": [],
   "source": [
    "# #create preprocessor\n",
    "# from sklearn.impute import SimpleImputer\n",
    "# from sklearn.compose import make_column_transformer\n",
    "# from sklearn.preprocessing import OneHotEncoder\n",
    "# from sklearn.pipeline import make_pipeline\n",
    "# from sklearn.feature_extraction.text import CountVectorizer\n",
    "\n",
    "# imp_unknown = SimpleImputer(strategy='constant')\n",
    "# ohe = OneHotEncoder(handle_unknown='ignore')\n",
    "# #vect = CountVectorizer(token_pattern=r\"'([a-z ]+)'\")\n",
    "# vect = CountVectorizer()\n",
    "\n",
    "# preprocessor = make_column_transformer(#报错？\n",
    "#     (make_pipeline(imp_unknown, ohe), ['keyword','location'])\n",
    "# )"
   ]
  },
  {
   "cell_type": "code",
   "execution_count": 29,
   "id": "6554e0b9",
   "metadata": {},
   "outputs": [],
   "source": [
    "# create the feature matrix from the DataFrame\n",
    "# X_train = preprocessor.fit_transform(X)\n",
    "# X_dtm_manual.shape"
   ]
  },
  {
   "cell_type": "code",
   "execution_count": null,
   "id": "c9a0a10d",
   "metadata": {},
   "outputs": [],
   "source": []
  }
 ],
 "metadata": {
  "kernelspec": {
   "display_name": "Python 3 (ipykernel)",
   "language": "python",
   "name": "python3"
  },
  "language_info": {
   "codemirror_mode": {
    "name": "ipython",
    "version": 3
   },
   "file_extension": ".py",
   "mimetype": "text/x-python",
   "name": "python",
   "nbconvert_exporter": "python",
   "pygments_lexer": "ipython3",
   "version": "3.8.13"
  }
 },
 "nbformat": 4,
 "nbformat_minor": 5
}
