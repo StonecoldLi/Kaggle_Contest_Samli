{
 "cells": [
  {
   "cell_type": "code",
   "execution_count": 1,
   "id": "0cf934d1",
   "metadata": {},
   "outputs": [],
   "source": [
    "import pandas as pd\n",
    "import numpy as np"
   ]
  },
  {
   "cell_type": "code",
   "execution_count": 2,
   "id": "5b05dfc6",
   "metadata": {},
   "outputs": [
    {
     "data": {
      "text/plain": [
       "(15289, 18)"
      ]
     },
     "execution_count": 2,
     "metadata": {},
     "output_type": "execute_result"
    }
   ],
   "source": [
    "train = pd.read_csv(\"data/train.csv\")\n",
    "train.shape"
   ]
  },
  {
   "cell_type": "code",
   "execution_count": 3,
   "id": "b71ae096",
   "metadata": {},
   "outputs": [],
   "source": [
    "#定义X，y\n",
    "X = train.iloc[:,1:-1]\n",
    "y = train['yield']"
   ]
  },
  {
   "cell_type": "code",
   "execution_count": 4,
   "id": "ff03fbf5",
   "metadata": {},
   "outputs": [],
   "source": [
    "from sklearn.preprocessing import OrdinalEncoder\n",
    "from sklearn.preprocessing import StandardScaler\n",
    "from sklearn.compose import make_column_transformer\n",
    "\n",
    "num_cols = ['fruitset', 'fruitmass', 'seeds']\n",
    "\n",
    "oe_cols = ['clonesize', 'honeybee', 'bumbles', 'andrena', 'osmia',\n",
    "        'AverageOfLowerTRange',\n",
    "       'RainingDays', 'AverageRainingDays']\n",
    "\n",
    "oe_cols_drop = ['MaxOfUpperTRange', 'MinOfUpperTRange', 'AverageOfUpperTRange',\n",
    "       'MaxOfLowerTRange', 'MinOfLowerTRange']\n",
    "\n",
    "scaler = StandardScaler()\n",
    "oe = OrdinalEncoder(handle_unknown='use_encoded_value', unknown_value=-1)\n",
    "\n",
    "preprocessor = make_column_transformer(\n",
    "    (scaler, num_cols),\n",
    "    (oe, oe_cols),\n",
    "    (oe, oe_cols_drop),)\n",
    "\n",
    "preprocessor1 = make_column_transformer(\n",
    "    (scaler, num_cols),\n",
    "    (oe, oe_cols),\n",
    "    ('drop', oe_cols_drop))"
   ]
  },
  {
   "cell_type": "code",
   "execution_count": 5,
   "id": "1dc79823",
   "metadata": {},
   "outputs": [],
   "source": [
    "from catboost import CatBoostRegressor\n",
    "import lightgbm as lgb\n",
    "from sklearn.ensemble import VotingRegressor\n",
    "\n",
    "lgbm = lgb.LGBMRegressor(random_state = 318, objective = 'mae') #要设置objective='mae'\n",
    "cb = CatBoostRegressor(random_state = 318, objective = 'MAE',verbose=0) #verbose:不显示训练过程\n",
    "vc = VotingRegressor([('lgbm',lgbm),('cb',cb)]) #342.73"
   ]
  },
  {
   "cell_type": "code",
   "execution_count": 6,
   "id": "514b5f1a",
   "metadata": {},
   "outputs": [],
   "source": [
    "#make pipeline\n",
    "from sklearn.pipeline import make_pipeline\n",
    "#pipe = make_pipeline(preprocessor, cb) #lgbm:344.59, cb:344.11 , vc:342.67\n",
    "#pipe = make_pipeline(preprocessor1, vc) #lgbm:344.05, cb:344.73, vc:342.73\n",
    "pipe = make_pipeline(preprocessor, cb)\n",
    "pipe1 = make_pipeline(preprocessor1, lgbm)\n",
    "pipe2 = make_pipeline(preprocessor, vc)"
   ]
  },
  {
   "cell_type": "code",
   "execution_count": 7,
   "id": "46de3322",
   "metadata": {},
   "outputs": [
    {
     "data": {
      "text/plain": [
       "[('columntransformer',\n",
       "  ColumnTransformer(transformers=[('standardscaler', StandardScaler(),\n",
       "                                   ['fruitset', 'fruitmass', 'seeds']),\n",
       "                                  ('ordinalencoder-1',\n",
       "                                   OrdinalEncoder(handle_unknown='use_encoded_value',\n",
       "                                                  unknown_value=-1),\n",
       "                                   ['clonesize', 'honeybee', 'bumbles', 'andrena',\n",
       "                                    'osmia', 'AverageOfLowerTRange',\n",
       "                                    'RainingDays', 'AverageRainingDays']),\n",
       "                                  ('ordinalencoder-2',\n",
       "                                   OrdinalEncoder(handle_unknown='use_encoded_value',\n",
       "                                                  unknown_value=-1),\n",
       "                                   ['MaxOfUpperTRange', 'MinOfUpperTRange',\n",
       "                                    'AverageOfUpperTRange', 'MaxOfLowerTRange',\n",
       "                                    'MinOfLowerTRange'])])),\n",
       " ('catboostregressor', <catboost.core.CatBoostRegressor at 0x22f8d5cf790>)]"
      ]
     },
     "execution_count": 7,
     "metadata": {},
     "output_type": "execute_result"
    }
   ],
   "source": [
    "pipe.steps"
   ]
  },
  {
   "cell_type": "code",
   "execution_count": 8,
   "id": "250cd81a",
   "metadata": {},
   "outputs": [
    {
     "data": {
      "text/plain": [
       "[('columntransformer',\n",
       "  ColumnTransformer(transformers=[('standardscaler', StandardScaler(),\n",
       "                                   ['fruitset', 'fruitmass', 'seeds']),\n",
       "                                  ('ordinalencoder',\n",
       "                                   OrdinalEncoder(handle_unknown='use_encoded_value',\n",
       "                                                  unknown_value=-1),\n",
       "                                   ['clonesize', 'honeybee', 'bumbles', 'andrena',\n",
       "                                    'osmia', 'AverageOfLowerTRange',\n",
       "                                    'RainingDays', 'AverageRainingDays']),\n",
       "                                  ('drop', 'drop',\n",
       "                                   ['MaxOfUpperTRange', 'MinOfUpperTRange',\n",
       "                                    'AverageOfUpperTRange', 'MaxOfLowerTRange',\n",
       "                                    'MinOfLowerTRange'])])),\n",
       " ('lgbmregressor', LGBMRegressor(objective='mae', random_state=318))]"
      ]
     },
     "execution_count": 8,
     "metadata": {},
     "output_type": "execute_result"
    }
   ],
   "source": [
    "pipe1.steps"
   ]
  },
  {
   "cell_type": "code",
   "execution_count": 9,
   "id": "c7268f73",
   "metadata": {},
   "outputs": [
    {
     "name": "stdout",
     "output_type": "stream",
     "text": [
      "-344.11342747481063\n"
     ]
    }
   ],
   "source": [
    "#cv score baseline\n",
    "from sklearn.model_selection import cross_val_score\n",
    "print(cross_val_score(pipe, X, y, scoring='neg_mean_absolute_error').mean())"
   ]
  },
  {
   "cell_type": "code",
   "execution_count": 10,
   "id": "55f76feb",
   "metadata": {},
   "outputs": [
    {
     "data": {
      "text/plain": [
       "Pipeline(steps=[('columntransformer',\n",
       "                 ColumnTransformer(transformers=[('standardscaler',\n",
       "                                                  StandardScaler(),\n",
       "                                                  ['fruitset', 'fruitmass',\n",
       "                                                   'seeds']),\n",
       "                                                 ('ordinalencoder-1',\n",
       "                                                  OrdinalEncoder(handle_unknown='use_encoded_value',\n",
       "                                                                 unknown_value=-1),\n",
       "                                                  ['clonesize', 'honeybee',\n",
       "                                                   'bumbles', 'andrena',\n",
       "                                                   'osmia',\n",
       "                                                   'AverageOfLowerTRange',\n",
       "                                                   'RainingDays',\n",
       "                                                   'AverageRainingDays']),\n",
       "                                                 ('ordinalenc...',\n",
       "                                                  OrdinalEncoder(handle_unknown='use_encoded_value',\n",
       "                                                                 unknown_value=-1),\n",
       "                                                  ['MaxOfUpperTRange',\n",
       "                                                   'MinOfUpperTRange',\n",
       "                                                   'AverageOfUpperTRange',\n",
       "                                                   'MaxOfLowerTRange',\n",
       "                                                   'MinOfLowerTRange'])])),\n",
       "                ('votingregressor',\n",
       "                 VotingRegressor(estimators=[('lgbm',\n",
       "                                              LGBMRegressor(objective='mae',\n",
       "                                                            random_state=318)),\n",
       "                                             ('cb',\n",
       "                                              <catboost.core.CatBoostRegressor object at 0x0000022F8D5CF790>)]))])"
      ]
     },
     "execution_count": 10,
     "metadata": {},
     "output_type": "execute_result"
    }
   ],
   "source": [
    "#fit model\n",
    "pipe.fit(X,y)\n",
    "pipe1.fit(X,y)\n",
    "pipe2.fit(X,y)"
   ]
  },
  {
   "cell_type": "code",
   "execution_count": 11,
   "id": "98c23a9d",
   "metadata": {},
   "outputs": [
    {
     "data": {
      "text/html": [
       "<div>\n",
       "<style scoped>\n",
       "    .dataframe tbody tr th:only-of-type {\n",
       "        vertical-align: middle;\n",
       "    }\n",
       "\n",
       "    .dataframe tbody tr th {\n",
       "        vertical-align: top;\n",
       "    }\n",
       "\n",
       "    .dataframe thead th {\n",
       "        text-align: right;\n",
       "    }\n",
       "</style>\n",
       "<table border=\"1\" class=\"dataframe\">\n",
       "  <thead>\n",
       "    <tr style=\"text-align: right;\">\n",
       "      <th></th>\n",
       "      <th>clonesize</th>\n",
       "      <th>honeybee</th>\n",
       "      <th>bumbles</th>\n",
       "      <th>andrena</th>\n",
       "      <th>osmia</th>\n",
       "      <th>MaxOfUpperTRange</th>\n",
       "      <th>MinOfUpperTRange</th>\n",
       "      <th>AverageOfUpperTRange</th>\n",
       "      <th>MaxOfLowerTRange</th>\n",
       "      <th>MinOfLowerTRange</th>\n",
       "      <th>AverageOfLowerTRange</th>\n",
       "      <th>RainingDays</th>\n",
       "      <th>AverageRainingDays</th>\n",
       "      <th>fruitset</th>\n",
       "      <th>fruitmass</th>\n",
       "      <th>seeds</th>\n",
       "    </tr>\n",
       "  </thead>\n",
       "  <tbody>\n",
       "    <tr>\n",
       "      <th>0</th>\n",
       "      <td>25.0</td>\n",
       "      <td>0.25</td>\n",
       "      <td>0.25</td>\n",
       "      <td>0.25</td>\n",
       "      <td>0.25</td>\n",
       "      <td>86.0</td>\n",
       "      <td>52.0</td>\n",
       "      <td>71.9</td>\n",
       "      <td>62.0</td>\n",
       "      <td>30.0</td>\n",
       "      <td>50.8</td>\n",
       "      <td>24.0</td>\n",
       "      <td>0.39</td>\n",
       "      <td>0.399367</td>\n",
       "      <td>0.408088</td>\n",
       "      <td>31.394569</td>\n",
       "    </tr>\n",
       "    <tr>\n",
       "      <th>1</th>\n",
       "      <td>12.5</td>\n",
       "      <td>0.25</td>\n",
       "      <td>0.25</td>\n",
       "      <td>0.75</td>\n",
       "      <td>0.63</td>\n",
       "      <td>94.6</td>\n",
       "      <td>57.2</td>\n",
       "      <td>79.0</td>\n",
       "      <td>68.2</td>\n",
       "      <td>33.0</td>\n",
       "      <td>55.9</td>\n",
       "      <td>1.0</td>\n",
       "      <td>0.10</td>\n",
       "      <td>0.488048</td>\n",
       "      <td>0.442866</td>\n",
       "      <td>36.846956</td>\n",
       "    </tr>\n",
       "    <tr>\n",
       "      <th>2</th>\n",
       "      <td>12.5</td>\n",
       "      <td>0.25</td>\n",
       "      <td>0.25</td>\n",
       "      <td>0.63</td>\n",
       "      <td>0.63</td>\n",
       "      <td>86.0</td>\n",
       "      <td>52.0</td>\n",
       "      <td>71.9</td>\n",
       "      <td>62.0</td>\n",
       "      <td>30.0</td>\n",
       "      <td>50.8</td>\n",
       "      <td>16.0</td>\n",
       "      <td>0.26</td>\n",
       "      <td>0.583379</td>\n",
       "      <td>0.487057</td>\n",
       "      <td>40.037644</td>\n",
       "    </tr>\n",
       "    <tr>\n",
       "      <th>3</th>\n",
       "      <td>25.0</td>\n",
       "      <td>0.50</td>\n",
       "      <td>0.38</td>\n",
       "      <td>0.38</td>\n",
       "      <td>0.63</td>\n",
       "      <td>86.0</td>\n",
       "      <td>52.0</td>\n",
       "      <td>71.9</td>\n",
       "      <td>62.0</td>\n",
       "      <td>30.0</td>\n",
       "      <td>50.8</td>\n",
       "      <td>16.0</td>\n",
       "      <td>0.26</td>\n",
       "      <td>0.433014</td>\n",
       "      <td>0.422847</td>\n",
       "      <td>33.116091</td>\n",
       "    </tr>\n",
       "    <tr>\n",
       "      <th>4</th>\n",
       "      <td>37.5</td>\n",
       "      <td>0.75</td>\n",
       "      <td>0.25</td>\n",
       "      <td>0.25</td>\n",
       "      <td>0.25</td>\n",
       "      <td>94.6</td>\n",
       "      <td>57.2</td>\n",
       "      <td>79.0</td>\n",
       "      <td>68.2</td>\n",
       "      <td>33.0</td>\n",
       "      <td>55.9</td>\n",
       "      <td>24.0</td>\n",
       "      <td>0.39</td>\n",
       "      <td>0.360996</td>\n",
       "      <td>0.388860</td>\n",
       "      <td>29.558019</td>\n",
       "    </tr>\n",
       "  </tbody>\n",
       "</table>\n",
       "</div>"
      ],
      "text/plain": [
       "   clonesize  honeybee  bumbles  andrena  osmia  MaxOfUpperTRange  \\\n",
       "0       25.0      0.25     0.25     0.25   0.25              86.0   \n",
       "1       12.5      0.25     0.25     0.75   0.63              94.6   \n",
       "2       12.5      0.25     0.25     0.63   0.63              86.0   \n",
       "3       25.0      0.50     0.38     0.38   0.63              86.0   \n",
       "4       37.5      0.75     0.25     0.25   0.25              94.6   \n",
       "\n",
       "   MinOfUpperTRange  AverageOfUpperTRange  MaxOfLowerTRange  MinOfLowerTRange  \\\n",
       "0              52.0                  71.9              62.0              30.0   \n",
       "1              57.2                  79.0              68.2              33.0   \n",
       "2              52.0                  71.9              62.0              30.0   \n",
       "3              52.0                  71.9              62.0              30.0   \n",
       "4              57.2                  79.0              68.2              33.0   \n",
       "\n",
       "   AverageOfLowerTRange  RainingDays  AverageRainingDays  fruitset  fruitmass  \\\n",
       "0                  50.8         24.0                0.39  0.399367   0.408088   \n",
       "1                  55.9          1.0                0.10  0.488048   0.442866   \n",
       "2                  50.8         16.0                0.26  0.583379   0.487057   \n",
       "3                  50.8         16.0                0.26  0.433014   0.422847   \n",
       "4                  55.9         24.0                0.39  0.360996   0.388860   \n",
       "\n",
       "       seeds  \n",
       "0  31.394569  \n",
       "1  36.846956  \n",
       "2  40.037644  \n",
       "3  33.116091  \n",
       "4  29.558019  "
      ]
     },
     "execution_count": 11,
     "metadata": {},
     "output_type": "execute_result"
    }
   ],
   "source": [
    "test = pd.read_csv('data/test.csv')\n",
    "X_test = test.drop(columns=['id'])\n",
    "X_test.head()"
   ]
  },
  {
   "cell_type": "code",
   "execution_count": 12,
   "id": "efce3fac",
   "metadata": {},
   "outputs": [],
   "source": [
    "r1 = pipe.predict(X_test)"
   ]
  },
  {
   "cell_type": "code",
   "execution_count": 13,
   "id": "3cf5cdaf",
   "metadata": {},
   "outputs": [
    {
     "data": {
      "text/plain": [
       "array([4232.13018279, 5888.31486722, 7241.70742716, ..., 6530.81351721,\n",
       "       4442.526779  , 7268.58051109])"
      ]
     },
     "execution_count": 13,
     "metadata": {},
     "output_type": "execute_result"
    }
   ],
   "source": [
    "r1"
   ]
  },
  {
   "cell_type": "code",
   "execution_count": 14,
   "id": "53b89e8b",
   "metadata": {},
   "outputs": [],
   "source": [
    "r2 = pipe1.predict(X_test)"
   ]
  },
  {
   "cell_type": "code",
   "execution_count": 15,
   "id": "c8163d15",
   "metadata": {},
   "outputs": [
    {
     "data": {
      "text/plain": [
       "array([4309.44181395, 5885.31191706, 7213.66165235, ..., 6504.66566258,\n",
       "       4376.37881906, 7225.19658197])"
      ]
     },
     "execution_count": 15,
     "metadata": {},
     "output_type": "execute_result"
    }
   ],
   "source": [
    "r2"
   ]
  },
  {
   "cell_type": "code",
   "execution_count": 16,
   "id": "89333a6c",
   "metadata": {},
   "outputs": [],
   "source": [
    "#simple model ensembling\n",
    "result = ((r1 + r2)/2)"
   ]
  },
  {
   "cell_type": "code",
   "execution_count": 17,
   "id": "051dd997",
   "metadata": {},
   "outputs": [
    {
     "data": {
      "text/plain": [
       "array([4270.78599837, 5886.81339214, 7227.68453976, ..., 6517.7395899 ,\n",
       "       4409.45279903, 7246.88854653])"
      ]
     },
     "execution_count": 17,
     "metadata": {},
     "output_type": "execute_result"
    }
   ],
   "source": [
    "result"
   ]
  },
  {
   "cell_type": "code",
   "execution_count": 18,
   "id": "a753dfda",
   "metadata": {},
   "outputs": [],
   "source": [
    "pd.DataFrame({'id':test.id,'yield':result}).set_index('id').to_csv('catboost_lgbm_ver1.csv')"
   ]
  },
  {
   "cell_type": "markdown",
   "id": "0d360142",
   "metadata": {},
   "source": [
    "- 342.83692"
   ]
  },
  {
   "cell_type": "code",
   "execution_count": 19,
   "id": "7b7db653",
   "metadata": {},
   "outputs": [],
   "source": [
    "#result by using the voting-regressor\n",
    "r = pipe2.predict(X_test)"
   ]
  },
  {
   "cell_type": "code",
   "execution_count": 20,
   "id": "d2fa3b11",
   "metadata": {},
   "outputs": [],
   "source": [
    "pd.DataFrame({'id':test.id,'yield':r}).set_index('id').to_csv('catboost_lgbm_vc_ver1.5.csv')"
   ]
  },
  {
   "cell_type": "code",
   "execution_count": 21,
   "id": "f3d637f8",
   "metadata": {},
   "outputs": [
    {
     "data": {
      "text/plain": [
       "array([4271.0008809 , 5882.64610569, 7230.78737409, ..., 6511.39885957,\n",
       "       4429.34387387, 7256.46188771])"
      ]
     },
     "execution_count": 21,
     "metadata": {},
     "output_type": "execute_result"
    }
   ],
   "source": [
    "r"
   ]
  },
  {
   "cell_type": "markdown",
   "id": "4b1df1d7",
   "metadata": {},
   "source": [
    "- 342.92801"
   ]
  },
  {
   "cell_type": "code",
   "execution_count": null,
   "id": "a144e672",
   "metadata": {},
   "outputs": [],
   "source": []
  }
 ],
 "metadata": {
  "kernelspec": {
   "display_name": "Python 3 (ipykernel)",
   "language": "python",
   "name": "python3"
  },
  "language_info": {
   "codemirror_mode": {
    "name": "ipython",
    "version": 3
   },
   "file_extension": ".py",
   "mimetype": "text/x-python",
   "name": "python",
   "nbconvert_exporter": "python",
   "pygments_lexer": "ipython3",
   "version": "3.9.7"
  }
 },
 "nbformat": 4,
 "nbformat_minor": 5
}
