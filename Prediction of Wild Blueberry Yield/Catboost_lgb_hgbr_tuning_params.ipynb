{
 "cells": [
  {
   "cell_type": "code",
   "execution_count": 1,
   "id": "0cf934d1",
   "metadata": {},
   "outputs": [],
   "source": [
    "import pandas as pd\n",
    "import numpy as np"
   ]
  },
  {
   "cell_type": "code",
   "execution_count": 2,
   "id": "5b05dfc6",
   "metadata": {},
   "outputs": [
    {
     "data": {
      "text/plain": [
       "(15289, 18)"
      ]
     },
     "execution_count": 2,
     "metadata": {},
     "output_type": "execute_result"
    }
   ],
   "source": [
    "train = pd.read_csv(\"data/train.csv\")\n",
    "train.shape"
   ]
  },
  {
   "cell_type": "code",
   "execution_count": 3,
   "id": "b71ae096",
   "metadata": {},
   "outputs": [],
   "source": [
    "#定义X，y\n",
    "X = train.iloc[:,1:-1]\n",
    "y = train['yield']"
   ]
  },
  {
   "cell_type": "code",
   "execution_count": 4,
   "id": "ff03fbf5",
   "metadata": {},
   "outputs": [],
   "source": [
    "from sklearn.preprocessing import OrdinalEncoder\n",
    "from sklearn.preprocessing import StandardScaler\n",
    "from sklearn.compose import make_column_transformer\n",
    "\n",
    "num_cols = ['fruitset', 'fruitmass', 'seeds']\n",
    "\n",
    "oe_cols = ['clonesize', 'honeybee', 'bumbles', 'andrena', 'osmia',\n",
    "        'AverageOfLowerTRange',\n",
    "        'AverageRainingDays']\n",
    "\n",
    "oe_cols_drop = ['MaxOfUpperTRange', 'MinOfUpperTRange', 'AverageOfUpperTRange',\n",
    "       'MaxOfLowerTRange', 'MinOfLowerTRange']\n",
    "\n",
    "oe_cols_drop2 = ['RainingDays']\n",
    "\n",
    "scaler = StandardScaler()\n",
    "oe = OrdinalEncoder(handle_unknown='use_encoded_value', unknown_value=-1)\n",
    "\n",
    "preprocessor = make_column_transformer(\n",
    "    (scaler, num_cols),\n",
    "    (oe, oe_cols),\n",
    "    (oe, oe_cols_drop),\n",
    "    (oe, oe_cols_drop2))\n",
    "\n",
    "preprocessor1 = make_column_transformer(\n",
    "    (scaler, num_cols),\n",
    "    (oe, oe_cols),\n",
    "    (oe, oe_cols_drop2),\n",
    "    ('drop', oe_cols_drop))\n",
    "\n",
    "preprocessor2 = make_column_transformer(\n",
    "    (scaler, num_cols),\n",
    "    (oe, oe_cols),\n",
    "    ('drop', oe_cols_drop2),\n",
    "    ('drop', oe_cols_drop))"
   ]
  },
  {
   "cell_type": "code",
   "execution_count": 5,
   "id": "1dc79823",
   "metadata": {},
   "outputs": [],
   "source": [
    "from catboost import CatBoostRegressor\n",
    "import lightgbm as lgb\n",
    "from sklearn.ensemble import VotingRegressor,HistGradientBoostingRegressor\n",
    "\n",
    "lgbm = lgb.LGBMRegressor(boosting_type='gbdt',learning_rate=0.02,n_estimators=1000,importance_type='gain',num_leaves=31,random_state = 318, objective = 'mae') #要设置objective='mae'\n",
    "cb = CatBoostRegressor(random_state = 318, objective = 'MAE',verbose=0) #verbose:不显示训练过程\n",
    "hgbr = HistGradientBoostingRegressor(random_state = 318,loss = 'absolute_error',learning_rate=0.12)\n",
    "\n",
    "vc = VotingRegressor([('lgbm',lgbm),('cb',cb),('hgbr',hgbr)])"
   ]
  },
  {
   "cell_type": "code",
   "execution_count": 6,
   "id": "514b5f1a",
   "metadata": {},
   "outputs": [],
   "source": [
    "#make pipeline\n",
    "from sklearn.pipeline import make_pipeline\n",
    "# pipea = make_pipeline(preprocessor, hgbr) #lgbm:344.59, cb:344.11 , vc:342.67, hgbr:345.30\n",
    "# pipeb = make_pipeline(preprocessor1, hgbr) #lgbm:344.05, cb:344.73, vc:342.73, hgbr:344.70\n",
    "# pipec = make_pipeline(preprocessor2, hgbr) #lgbm:344.56, cb:344.81, vc:343.16, hgbr:345.23\n",
    "pipe = make_pipeline(preprocessor, cb) #343.32\n",
    "pipe1 = make_pipeline(preprocessor1, lgbm) #343.32078\n",
    "pipe2 = make_pipeline(preprocessor1, hgbr) #344.59532\n",
    "#pipe2 = make_pipeline(preprocessor, vc)"
   ]
  },
  {
   "cell_type": "code",
   "execution_count": 7,
   "id": "46de3322",
   "metadata": {},
   "outputs": [
    {
     "data": {
      "text/plain": [
       "[('columntransformer',\n",
       "  ColumnTransformer(transformers=[('standardscaler', StandardScaler(),\n",
       "                                   ['fruitset', 'fruitmass', 'seeds']),\n",
       "                                  ('ordinalencoder-1',\n",
       "                                   OrdinalEncoder(handle_unknown='use_encoded_value',\n",
       "                                                  unknown_value=-1),\n",
       "                                   ['clonesize', 'honeybee', 'bumbles', 'andrena',\n",
       "                                    'osmia', 'AverageOfLowerTRange',\n",
       "                                    'AverageRainingDays']),\n",
       "                                  ('ordinalencoder-2',\n",
       "                                   OrdinalEncoder(handle_unknown='use_encoded_value',\n",
       "                                                  unknown_value=-1),\n",
       "                                   ['MaxOfUpperTRange', 'MinOfUpperTRange',\n",
       "                                    'AverageOfUpperTRange', 'MaxOfLowerTRange',\n",
       "                                    'MinOfLowerTRange']),\n",
       "                                  ('ordinalencoder-3',\n",
       "                                   OrdinalEncoder(handle_unknown='use_encoded_value',\n",
       "                                                  unknown_value=-1),\n",
       "                                   ['RainingDays'])])),\n",
       " ('catboostregressor', <catboost.core.CatBoostRegressor at 0x1a4675f1f10>)]"
      ]
     },
     "execution_count": 7,
     "metadata": {},
     "output_type": "execute_result"
    }
   ],
   "source": [
    "pipe.steps"
   ]
  },
  {
   "cell_type": "code",
   "execution_count": 8,
   "id": "250cd81a",
   "metadata": {},
   "outputs": [
    {
     "data": {
      "text/plain": [
       "[('columntransformer',\n",
       "  ColumnTransformer(transformers=[('standardscaler', StandardScaler(),\n",
       "                                   ['fruitset', 'fruitmass', 'seeds']),\n",
       "                                  ('ordinalencoder-1',\n",
       "                                   OrdinalEncoder(handle_unknown='use_encoded_value',\n",
       "                                                  unknown_value=-1),\n",
       "                                   ['clonesize', 'honeybee', 'bumbles', 'andrena',\n",
       "                                    'osmia', 'AverageOfLowerTRange',\n",
       "                                    'AverageRainingDays']),\n",
       "                                  ('ordinalencoder-2',\n",
       "                                   OrdinalEncoder(handle_unknown='use_encoded_value',\n",
       "                                                  unknown_value=-1),\n",
       "                                   ['RainingDays']),\n",
       "                                  ('drop', 'drop',\n",
       "                                   ['MaxOfUpperTRange', 'MinOfUpperTRange',\n",
       "                                    'AverageOfUpperTRange', 'MaxOfLowerTRange',\n",
       "                                    'MinOfLowerTRange'])])),\n",
       " ('lgbmregressor',\n",
       "  LGBMRegressor(importance_type='gain', learning_rate=0.02, n_estimators=1000,\n",
       "                objective='mae', random_state=318))]"
      ]
     },
     "execution_count": 8,
     "metadata": {},
     "output_type": "execute_result"
    }
   ],
   "source": [
    "pipe1.steps"
   ]
  },
  {
   "cell_type": "code",
   "execution_count": 9,
   "id": "c7268f73",
   "metadata": {},
   "outputs": [],
   "source": [
    "#cv score baseline\n",
    "# from sklearn.model_selection import cross_val_score\n",
    "# print(cross_val_score(pipea, X, y, scoring='neg_mean_absolute_error').mean())\n",
    "# print(cross_val_score(pipeb, X, y, scoring='neg_mean_absolute_error').mean())\n",
    "# print(cross_val_score(pipec, X, y, scoring='neg_mean_absolute_error').mean())"
   ]
  },
  {
   "cell_type": "code",
   "execution_count": 10,
   "id": "c5f16345",
   "metadata": {},
   "outputs": [
    {
     "name": "stdout",
     "output_type": "stream",
     "text": [
      "-343.3207824857909\n"
     ]
    }
   ],
   "source": [
    "#cv score baseline: catboost\n",
    "from sklearn.model_selection import cross_val_score\n",
    "print(cross_val_score(pipe, X, y, scoring='neg_mean_absolute_error').mean())"
   ]
  },
  {
   "cell_type": "code",
   "execution_count": 11,
   "id": "4f726f2c",
   "metadata": {},
   "outputs": [
    {
     "name": "stdout",
     "output_type": "stream",
     "text": [
      "-343.360391104551\n"
     ]
    }
   ],
   "source": [
    "#cv score : lgbt\n",
    "print(cross_val_score(pipe1, X, y, scoring='neg_mean_absolute_error').mean())"
   ]
  },
  {
   "cell_type": "code",
   "execution_count": 12,
   "id": "37f38c7a",
   "metadata": {},
   "outputs": [
    {
     "name": "stdout",
     "output_type": "stream",
     "text": [
      "-344.5953245466311\n"
     ]
    }
   ],
   "source": [
    "#cv score : hgbt\n",
    "print(cross_val_score(pipe2, X, y, scoring='neg_mean_absolute_error').mean())"
   ]
  },
  {
   "cell_type": "code",
   "execution_count": 13,
   "id": "55f76feb",
   "metadata": {},
   "outputs": [
    {
     "data": {
      "text/html": [
       "<style>#sk-container-id-1 {color: black;background-color: white;}#sk-container-id-1 pre{padding: 0;}#sk-container-id-1 div.sk-toggleable {background-color: white;}#sk-container-id-1 label.sk-toggleable__label {cursor: pointer;display: block;width: 100%;margin-bottom: 0;padding: 0.3em;box-sizing: border-box;text-align: center;}#sk-container-id-1 label.sk-toggleable__label-arrow:before {content: \"▸\";float: left;margin-right: 0.25em;color: #696969;}#sk-container-id-1 label.sk-toggleable__label-arrow:hover:before {color: black;}#sk-container-id-1 div.sk-estimator:hover label.sk-toggleable__label-arrow:before {color: black;}#sk-container-id-1 div.sk-toggleable__content {max-height: 0;max-width: 0;overflow: hidden;text-align: left;background-color: #f0f8ff;}#sk-container-id-1 div.sk-toggleable__content pre {margin: 0.2em;color: black;border-radius: 0.25em;background-color: #f0f8ff;}#sk-container-id-1 input.sk-toggleable__control:checked~div.sk-toggleable__content {max-height: 200px;max-width: 100%;overflow: auto;}#sk-container-id-1 input.sk-toggleable__control:checked~label.sk-toggleable__label-arrow:before {content: \"▾\";}#sk-container-id-1 div.sk-estimator input.sk-toggleable__control:checked~label.sk-toggleable__label {background-color: #d4ebff;}#sk-container-id-1 div.sk-label input.sk-toggleable__control:checked~label.sk-toggleable__label {background-color: #d4ebff;}#sk-container-id-1 input.sk-hidden--visually {border: 0;clip: rect(1px 1px 1px 1px);clip: rect(1px, 1px, 1px, 1px);height: 1px;margin: -1px;overflow: hidden;padding: 0;position: absolute;width: 1px;}#sk-container-id-1 div.sk-estimator {font-family: monospace;background-color: #f0f8ff;border: 1px dotted black;border-radius: 0.25em;box-sizing: border-box;margin-bottom: 0.5em;}#sk-container-id-1 div.sk-estimator:hover {background-color: #d4ebff;}#sk-container-id-1 div.sk-parallel-item::after {content: \"\";width: 100%;border-bottom: 1px solid gray;flex-grow: 1;}#sk-container-id-1 div.sk-label:hover label.sk-toggleable__label {background-color: #d4ebff;}#sk-container-id-1 div.sk-serial::before {content: \"\";position: absolute;border-left: 1px solid gray;box-sizing: border-box;top: 0;bottom: 0;left: 50%;z-index: 0;}#sk-container-id-1 div.sk-serial {display: flex;flex-direction: column;align-items: center;background-color: white;padding-right: 0.2em;padding-left: 0.2em;position: relative;}#sk-container-id-1 div.sk-item {position: relative;z-index: 1;}#sk-container-id-1 div.sk-parallel {display: flex;align-items: stretch;justify-content: center;background-color: white;position: relative;}#sk-container-id-1 div.sk-item::before, #sk-container-id-1 div.sk-parallel-item::before {content: \"\";position: absolute;border-left: 1px solid gray;box-sizing: border-box;top: 0;bottom: 0;left: 50%;z-index: -1;}#sk-container-id-1 div.sk-parallel-item {display: flex;flex-direction: column;z-index: 1;position: relative;background-color: white;}#sk-container-id-1 div.sk-parallel-item:first-child::after {align-self: flex-end;width: 50%;}#sk-container-id-1 div.sk-parallel-item:last-child::after {align-self: flex-start;width: 50%;}#sk-container-id-1 div.sk-parallel-item:only-child::after {width: 0;}#sk-container-id-1 div.sk-dashed-wrapped {border: 1px dashed gray;margin: 0 0.4em 0.5em 0.4em;box-sizing: border-box;padding-bottom: 0.4em;background-color: white;}#sk-container-id-1 div.sk-label label {font-family: monospace;font-weight: bold;display: inline-block;line-height: 1.2em;}#sk-container-id-1 div.sk-label-container {text-align: center;}#sk-container-id-1 div.sk-container {/* jupyter's `normalize.less` sets `[hidden] { display: none; }` but bootstrap.min.css set `[hidden] { display: none !important; }` so we also need the `!important` here to be able to override the default hidden behavior on the sphinx rendered scikit-learn.org. See: https://github.com/scikit-learn/scikit-learn/issues/21755 */display: inline-block !important;position: relative;}#sk-container-id-1 div.sk-text-repr-fallback {display: none;}</style><div id=\"sk-container-id-1\" class=\"sk-top-container\"><div class=\"sk-text-repr-fallback\"><pre>Pipeline(steps=[(&#x27;columntransformer&#x27;,\n",
       "                 ColumnTransformer(transformers=[(&#x27;standardscaler&#x27;,\n",
       "                                                  StandardScaler(),\n",
       "                                                  [&#x27;fruitset&#x27;, &#x27;fruitmass&#x27;,\n",
       "                                                   &#x27;seeds&#x27;]),\n",
       "                                                 (&#x27;ordinalencoder-1&#x27;,\n",
       "                                                  OrdinalEncoder(handle_unknown=&#x27;use_encoded_value&#x27;,\n",
       "                                                                 unknown_value=-1),\n",
       "                                                  [&#x27;clonesize&#x27;, &#x27;honeybee&#x27;,\n",
       "                                                   &#x27;bumbles&#x27;, &#x27;andrena&#x27;,\n",
       "                                                   &#x27;osmia&#x27;,\n",
       "                                                   &#x27;AverageOfLowerTRange&#x27;,\n",
       "                                                   &#x27;AverageRainingDays&#x27;]),\n",
       "                                                 (&#x27;ordinalencoder-2&#x27;,\n",
       "                                                  OrdinalEncoder(handle_unknown=&#x27;use_encoded_value&#x27;,\n",
       "                                                                 unknown_value=-1),\n",
       "                                                  [&#x27;RainingDays&#x27;]),\n",
       "                                                 (&#x27;drop&#x27;, &#x27;drop&#x27;,\n",
       "                                                  [&#x27;MaxOfUpperTRange&#x27;,\n",
       "                                                   &#x27;MinOfUpperTRange&#x27;,\n",
       "                                                   &#x27;AverageOfUpperTRange&#x27;,\n",
       "                                                   &#x27;MaxOfLowerTRange&#x27;,\n",
       "                                                   &#x27;MinOfLowerTRange&#x27;])])),\n",
       "                (&#x27;histgradientboostingregressor&#x27;,\n",
       "                 HistGradientBoostingRegressor(learning_rate=0.12,\n",
       "                                               loss=&#x27;absolute_error&#x27;,\n",
       "                                               random_state=318))])</pre><b>In a Jupyter environment, please rerun this cell to show the HTML representation or trust the notebook. <br />On GitHub, the HTML representation is unable to render, please try loading this page with nbviewer.org.</b></div><div class=\"sk-container\" hidden><div class=\"sk-item sk-dashed-wrapped\"><div class=\"sk-label-container\"><div class=\"sk-label sk-toggleable\"><input class=\"sk-toggleable__control sk-hidden--visually\" id=\"sk-estimator-id-1\" type=\"checkbox\" ><label for=\"sk-estimator-id-1\" class=\"sk-toggleable__label sk-toggleable__label-arrow\">Pipeline</label><div class=\"sk-toggleable__content\"><pre>Pipeline(steps=[(&#x27;columntransformer&#x27;,\n",
       "                 ColumnTransformer(transformers=[(&#x27;standardscaler&#x27;,\n",
       "                                                  StandardScaler(),\n",
       "                                                  [&#x27;fruitset&#x27;, &#x27;fruitmass&#x27;,\n",
       "                                                   &#x27;seeds&#x27;]),\n",
       "                                                 (&#x27;ordinalencoder-1&#x27;,\n",
       "                                                  OrdinalEncoder(handle_unknown=&#x27;use_encoded_value&#x27;,\n",
       "                                                                 unknown_value=-1),\n",
       "                                                  [&#x27;clonesize&#x27;, &#x27;honeybee&#x27;,\n",
       "                                                   &#x27;bumbles&#x27;, &#x27;andrena&#x27;,\n",
       "                                                   &#x27;osmia&#x27;,\n",
       "                                                   &#x27;AverageOfLowerTRange&#x27;,\n",
       "                                                   &#x27;AverageRainingDays&#x27;]),\n",
       "                                                 (&#x27;ordinalencoder-2&#x27;,\n",
       "                                                  OrdinalEncoder(handle_unknown=&#x27;use_encoded_value&#x27;,\n",
       "                                                                 unknown_value=-1),\n",
       "                                                  [&#x27;RainingDays&#x27;]),\n",
       "                                                 (&#x27;drop&#x27;, &#x27;drop&#x27;,\n",
       "                                                  [&#x27;MaxOfUpperTRange&#x27;,\n",
       "                                                   &#x27;MinOfUpperTRange&#x27;,\n",
       "                                                   &#x27;AverageOfUpperTRange&#x27;,\n",
       "                                                   &#x27;MaxOfLowerTRange&#x27;,\n",
       "                                                   &#x27;MinOfLowerTRange&#x27;])])),\n",
       "                (&#x27;histgradientboostingregressor&#x27;,\n",
       "                 HistGradientBoostingRegressor(learning_rate=0.12,\n",
       "                                               loss=&#x27;absolute_error&#x27;,\n",
       "                                               random_state=318))])</pre></div></div></div><div class=\"sk-serial\"><div class=\"sk-item sk-dashed-wrapped\"><div class=\"sk-label-container\"><div class=\"sk-label sk-toggleable\"><input class=\"sk-toggleable__control sk-hidden--visually\" id=\"sk-estimator-id-2\" type=\"checkbox\" ><label for=\"sk-estimator-id-2\" class=\"sk-toggleable__label sk-toggleable__label-arrow\">columntransformer: ColumnTransformer</label><div class=\"sk-toggleable__content\"><pre>ColumnTransformer(transformers=[(&#x27;standardscaler&#x27;, StandardScaler(),\n",
       "                                 [&#x27;fruitset&#x27;, &#x27;fruitmass&#x27;, &#x27;seeds&#x27;]),\n",
       "                                (&#x27;ordinalencoder-1&#x27;,\n",
       "                                 OrdinalEncoder(handle_unknown=&#x27;use_encoded_value&#x27;,\n",
       "                                                unknown_value=-1),\n",
       "                                 [&#x27;clonesize&#x27;, &#x27;honeybee&#x27;, &#x27;bumbles&#x27;, &#x27;andrena&#x27;,\n",
       "                                  &#x27;osmia&#x27;, &#x27;AverageOfLowerTRange&#x27;,\n",
       "                                  &#x27;AverageRainingDays&#x27;]),\n",
       "                                (&#x27;ordinalencoder-2&#x27;,\n",
       "                                 OrdinalEncoder(handle_unknown=&#x27;use_encoded_value&#x27;,\n",
       "                                                unknown_value=-1),\n",
       "                                 [&#x27;RainingDays&#x27;]),\n",
       "                                (&#x27;drop&#x27;, &#x27;drop&#x27;,\n",
       "                                 [&#x27;MaxOfUpperTRange&#x27;, &#x27;MinOfUpperTRange&#x27;,\n",
       "                                  &#x27;AverageOfUpperTRange&#x27;, &#x27;MaxOfLowerTRange&#x27;,\n",
       "                                  &#x27;MinOfLowerTRange&#x27;])])</pre></div></div></div><div class=\"sk-parallel\"><div class=\"sk-parallel-item\"><div class=\"sk-item\"><div class=\"sk-label-container\"><div class=\"sk-label sk-toggleable\"><input class=\"sk-toggleable__control sk-hidden--visually\" id=\"sk-estimator-id-3\" type=\"checkbox\" ><label for=\"sk-estimator-id-3\" class=\"sk-toggleable__label sk-toggleable__label-arrow\">standardscaler</label><div class=\"sk-toggleable__content\"><pre>[&#x27;fruitset&#x27;, &#x27;fruitmass&#x27;, &#x27;seeds&#x27;]</pre></div></div></div><div class=\"sk-serial\"><div class=\"sk-item\"><div class=\"sk-estimator sk-toggleable\"><input class=\"sk-toggleable__control sk-hidden--visually\" id=\"sk-estimator-id-4\" type=\"checkbox\" ><label for=\"sk-estimator-id-4\" class=\"sk-toggleable__label sk-toggleable__label-arrow\">StandardScaler</label><div class=\"sk-toggleable__content\"><pre>StandardScaler()</pre></div></div></div></div></div></div><div class=\"sk-parallel-item\"><div class=\"sk-item\"><div class=\"sk-label-container\"><div class=\"sk-label sk-toggleable\"><input class=\"sk-toggleable__control sk-hidden--visually\" id=\"sk-estimator-id-5\" type=\"checkbox\" ><label for=\"sk-estimator-id-5\" class=\"sk-toggleable__label sk-toggleable__label-arrow\">ordinalencoder-1</label><div class=\"sk-toggleable__content\"><pre>[&#x27;clonesize&#x27;, &#x27;honeybee&#x27;, &#x27;bumbles&#x27;, &#x27;andrena&#x27;, &#x27;osmia&#x27;, &#x27;AverageOfLowerTRange&#x27;, &#x27;AverageRainingDays&#x27;]</pre></div></div></div><div class=\"sk-serial\"><div class=\"sk-item\"><div class=\"sk-estimator sk-toggleable\"><input class=\"sk-toggleable__control sk-hidden--visually\" id=\"sk-estimator-id-6\" type=\"checkbox\" ><label for=\"sk-estimator-id-6\" class=\"sk-toggleable__label sk-toggleable__label-arrow\">OrdinalEncoder</label><div class=\"sk-toggleable__content\"><pre>OrdinalEncoder(handle_unknown=&#x27;use_encoded_value&#x27;, unknown_value=-1)</pre></div></div></div></div></div></div><div class=\"sk-parallel-item\"><div class=\"sk-item\"><div class=\"sk-label-container\"><div class=\"sk-label sk-toggleable\"><input class=\"sk-toggleable__control sk-hidden--visually\" id=\"sk-estimator-id-7\" type=\"checkbox\" ><label for=\"sk-estimator-id-7\" class=\"sk-toggleable__label sk-toggleable__label-arrow\">ordinalencoder-2</label><div class=\"sk-toggleable__content\"><pre>[&#x27;RainingDays&#x27;]</pre></div></div></div><div class=\"sk-serial\"><div class=\"sk-item\"><div class=\"sk-estimator sk-toggleable\"><input class=\"sk-toggleable__control sk-hidden--visually\" id=\"sk-estimator-id-8\" type=\"checkbox\" ><label for=\"sk-estimator-id-8\" class=\"sk-toggleable__label sk-toggleable__label-arrow\">OrdinalEncoder</label><div class=\"sk-toggleable__content\"><pre>OrdinalEncoder(handle_unknown=&#x27;use_encoded_value&#x27;, unknown_value=-1)</pre></div></div></div></div></div></div><div class=\"sk-parallel-item\"><div class=\"sk-item\"><div class=\"sk-label-container\"><div class=\"sk-label sk-toggleable\"><input class=\"sk-toggleable__control sk-hidden--visually\" id=\"sk-estimator-id-9\" type=\"checkbox\" ><label for=\"sk-estimator-id-9\" class=\"sk-toggleable__label sk-toggleable__label-arrow\">drop</label><div class=\"sk-toggleable__content\"><pre>[&#x27;MaxOfUpperTRange&#x27;, &#x27;MinOfUpperTRange&#x27;, &#x27;AverageOfUpperTRange&#x27;, &#x27;MaxOfLowerTRange&#x27;, &#x27;MinOfLowerTRange&#x27;]</pre></div></div></div><div class=\"sk-serial\"><div class=\"sk-item\"><div class=\"sk-estimator sk-toggleable\"><input class=\"sk-toggleable__control sk-hidden--visually\" id=\"sk-estimator-id-10\" type=\"checkbox\" ><label for=\"sk-estimator-id-10\" class=\"sk-toggleable__label sk-toggleable__label-arrow\">drop</label><div class=\"sk-toggleable__content\"><pre>drop</pre></div></div></div></div></div></div></div></div><div class=\"sk-item\"><div class=\"sk-estimator sk-toggleable\"><input class=\"sk-toggleable__control sk-hidden--visually\" id=\"sk-estimator-id-11\" type=\"checkbox\" ><label for=\"sk-estimator-id-11\" class=\"sk-toggleable__label sk-toggleable__label-arrow\">HistGradientBoostingRegressor</label><div class=\"sk-toggleable__content\"><pre>HistGradientBoostingRegressor(learning_rate=0.12, loss=&#x27;absolute_error&#x27;,\n",
       "                              random_state=318)</pre></div></div></div></div></div></div></div>"
      ],
      "text/plain": [
       "Pipeline(steps=[('columntransformer',\n",
       "                 ColumnTransformer(transformers=[('standardscaler',\n",
       "                                                  StandardScaler(),\n",
       "                                                  ['fruitset', 'fruitmass',\n",
       "                                                   'seeds']),\n",
       "                                                 ('ordinalencoder-1',\n",
       "                                                  OrdinalEncoder(handle_unknown='use_encoded_value',\n",
       "                                                                 unknown_value=-1),\n",
       "                                                  ['clonesize', 'honeybee',\n",
       "                                                   'bumbles', 'andrena',\n",
       "                                                   'osmia',\n",
       "                                                   'AverageOfLowerTRange',\n",
       "                                                   'AverageRainingDays']),\n",
       "                                                 ('ordinalencoder-2',\n",
       "                                                  OrdinalEncoder(handle_unknown='use_encoded_value',\n",
       "                                                                 unknown_value=-1),\n",
       "                                                  ['RainingDays']),\n",
       "                                                 ('drop', 'drop',\n",
       "                                                  ['MaxOfUpperTRange',\n",
       "                                                   'MinOfUpperTRange',\n",
       "                                                   'AverageOfUpperTRange',\n",
       "                                                   'MaxOfLowerTRange',\n",
       "                                                   'MinOfLowerTRange'])])),\n",
       "                ('histgradientboostingregressor',\n",
       "                 HistGradientBoostingRegressor(learning_rate=0.12,\n",
       "                                               loss='absolute_error',\n",
       "                                               random_state=318))])"
      ]
     },
     "execution_count": 13,
     "metadata": {},
     "output_type": "execute_result"
    }
   ],
   "source": [
    "#fit model\n",
    "pipe.fit(X,y)\n",
    "pipe1.fit(X,y)\n",
    "pipe2.fit(X,y)"
   ]
  },
  {
   "cell_type": "code",
   "execution_count": 14,
   "id": "98c23a9d",
   "metadata": {},
   "outputs": [
    {
     "data": {
      "text/html": [
       "<div>\n",
       "<style scoped>\n",
       "    .dataframe tbody tr th:only-of-type {\n",
       "        vertical-align: middle;\n",
       "    }\n",
       "\n",
       "    .dataframe tbody tr th {\n",
       "        vertical-align: top;\n",
       "    }\n",
       "\n",
       "    .dataframe thead th {\n",
       "        text-align: right;\n",
       "    }\n",
       "</style>\n",
       "<table border=\"1\" class=\"dataframe\">\n",
       "  <thead>\n",
       "    <tr style=\"text-align: right;\">\n",
       "      <th></th>\n",
       "      <th>clonesize</th>\n",
       "      <th>honeybee</th>\n",
       "      <th>bumbles</th>\n",
       "      <th>andrena</th>\n",
       "      <th>osmia</th>\n",
       "      <th>MaxOfUpperTRange</th>\n",
       "      <th>MinOfUpperTRange</th>\n",
       "      <th>AverageOfUpperTRange</th>\n",
       "      <th>MaxOfLowerTRange</th>\n",
       "      <th>MinOfLowerTRange</th>\n",
       "      <th>AverageOfLowerTRange</th>\n",
       "      <th>RainingDays</th>\n",
       "      <th>AverageRainingDays</th>\n",
       "      <th>fruitset</th>\n",
       "      <th>fruitmass</th>\n",
       "      <th>seeds</th>\n",
       "    </tr>\n",
       "  </thead>\n",
       "  <tbody>\n",
       "    <tr>\n",
       "      <th>0</th>\n",
       "      <td>25.0</td>\n",
       "      <td>0.25</td>\n",
       "      <td>0.25</td>\n",
       "      <td>0.25</td>\n",
       "      <td>0.25</td>\n",
       "      <td>86.0</td>\n",
       "      <td>52.0</td>\n",
       "      <td>71.9</td>\n",
       "      <td>62.0</td>\n",
       "      <td>30.0</td>\n",
       "      <td>50.8</td>\n",
       "      <td>24.0</td>\n",
       "      <td>0.39</td>\n",
       "      <td>0.399367</td>\n",
       "      <td>0.408088</td>\n",
       "      <td>31.394569</td>\n",
       "    </tr>\n",
       "    <tr>\n",
       "      <th>1</th>\n",
       "      <td>12.5</td>\n",
       "      <td>0.25</td>\n",
       "      <td>0.25</td>\n",
       "      <td>0.75</td>\n",
       "      <td>0.63</td>\n",
       "      <td>94.6</td>\n",
       "      <td>57.2</td>\n",
       "      <td>79.0</td>\n",
       "      <td>68.2</td>\n",
       "      <td>33.0</td>\n",
       "      <td>55.9</td>\n",
       "      <td>1.0</td>\n",
       "      <td>0.10</td>\n",
       "      <td>0.488048</td>\n",
       "      <td>0.442866</td>\n",
       "      <td>36.846956</td>\n",
       "    </tr>\n",
       "    <tr>\n",
       "      <th>2</th>\n",
       "      <td>12.5</td>\n",
       "      <td>0.25</td>\n",
       "      <td>0.25</td>\n",
       "      <td>0.63</td>\n",
       "      <td>0.63</td>\n",
       "      <td>86.0</td>\n",
       "      <td>52.0</td>\n",
       "      <td>71.9</td>\n",
       "      <td>62.0</td>\n",
       "      <td>30.0</td>\n",
       "      <td>50.8</td>\n",
       "      <td>16.0</td>\n",
       "      <td>0.26</td>\n",
       "      <td>0.583379</td>\n",
       "      <td>0.487057</td>\n",
       "      <td>40.037644</td>\n",
       "    </tr>\n",
       "    <tr>\n",
       "      <th>3</th>\n",
       "      <td>25.0</td>\n",
       "      <td>0.50</td>\n",
       "      <td>0.38</td>\n",
       "      <td>0.38</td>\n",
       "      <td>0.63</td>\n",
       "      <td>86.0</td>\n",
       "      <td>52.0</td>\n",
       "      <td>71.9</td>\n",
       "      <td>62.0</td>\n",
       "      <td>30.0</td>\n",
       "      <td>50.8</td>\n",
       "      <td>16.0</td>\n",
       "      <td>0.26</td>\n",
       "      <td>0.433014</td>\n",
       "      <td>0.422847</td>\n",
       "      <td>33.116091</td>\n",
       "    </tr>\n",
       "    <tr>\n",
       "      <th>4</th>\n",
       "      <td>37.5</td>\n",
       "      <td>0.75</td>\n",
       "      <td>0.25</td>\n",
       "      <td>0.25</td>\n",
       "      <td>0.25</td>\n",
       "      <td>94.6</td>\n",
       "      <td>57.2</td>\n",
       "      <td>79.0</td>\n",
       "      <td>68.2</td>\n",
       "      <td>33.0</td>\n",
       "      <td>55.9</td>\n",
       "      <td>24.0</td>\n",
       "      <td>0.39</td>\n",
       "      <td>0.360996</td>\n",
       "      <td>0.388860</td>\n",
       "      <td>29.558019</td>\n",
       "    </tr>\n",
       "  </tbody>\n",
       "</table>\n",
       "</div>"
      ],
      "text/plain": [
       "   clonesize  honeybee  bumbles  andrena  osmia  MaxOfUpperTRange  \\\n",
       "0       25.0      0.25     0.25     0.25   0.25              86.0   \n",
       "1       12.5      0.25     0.25     0.75   0.63              94.6   \n",
       "2       12.5      0.25     0.25     0.63   0.63              86.0   \n",
       "3       25.0      0.50     0.38     0.38   0.63              86.0   \n",
       "4       37.5      0.75     0.25     0.25   0.25              94.6   \n",
       "\n",
       "   MinOfUpperTRange  AverageOfUpperTRange  MaxOfLowerTRange  MinOfLowerTRange  \\\n",
       "0              52.0                  71.9              62.0              30.0   \n",
       "1              57.2                  79.0              68.2              33.0   \n",
       "2              52.0                  71.9              62.0              30.0   \n",
       "3              52.0                  71.9              62.0              30.0   \n",
       "4              57.2                  79.0              68.2              33.0   \n",
       "\n",
       "   AverageOfLowerTRange  RainingDays  AverageRainingDays  fruitset  fruitmass  \\\n",
       "0                  50.8         24.0                0.39  0.399367   0.408088   \n",
       "1                  55.9          1.0                0.10  0.488048   0.442866   \n",
       "2                  50.8         16.0                0.26  0.583379   0.487057   \n",
       "3                  50.8         16.0                0.26  0.433014   0.422847   \n",
       "4                  55.9         24.0                0.39  0.360996   0.388860   \n",
       "\n",
       "       seeds  \n",
       "0  31.394569  \n",
       "1  36.846956  \n",
       "2  40.037644  \n",
       "3  33.116091  \n",
       "4  29.558019  "
      ]
     },
     "execution_count": 14,
     "metadata": {},
     "output_type": "execute_result"
    }
   ],
   "source": [
    "test = pd.read_csv('data/test.csv')\n",
    "X_test = test.drop(columns=['id'])\n",
    "X_test.head()"
   ]
  },
  {
   "cell_type": "code",
   "execution_count": 15,
   "id": "efce3fac",
   "metadata": {},
   "outputs": [],
   "source": [
    "r1 = pipe.predict(X_test)"
   ]
  },
  {
   "cell_type": "code",
   "execution_count": 16,
   "id": "3cf5cdaf",
   "metadata": {},
   "outputs": [
    {
     "data": {
      "text/plain": [
       "array([4236.68473571, 5890.65744798, 7236.79945553, ..., 6498.0249337 ,\n",
       "       4449.66627663, 7280.9382808 ])"
      ]
     },
     "execution_count": 16,
     "metadata": {},
     "output_type": "execute_result"
    }
   ],
   "source": [
    "r1"
   ]
  },
  {
   "cell_type": "code",
   "execution_count": 17,
   "id": "53b89e8b",
   "metadata": {},
   "outputs": [],
   "source": [
    "r2 = pipe1.predict(X_test)"
   ]
  },
  {
   "cell_type": "code",
   "execution_count": 18,
   "id": "c8163d15",
   "metadata": {},
   "outputs": [
    {
     "data": {
      "text/plain": [
       "array([4300.7709737 , 5854.52985182, 7231.38009641, ..., 6515.71492293,\n",
       "       4392.59610627, 7246.83150535])"
      ]
     },
     "execution_count": 18,
     "metadata": {},
     "output_type": "execute_result"
    }
   ],
   "source": [
    "r2"
   ]
  },
  {
   "cell_type": "code",
   "execution_count": 19,
   "id": "8faf1991",
   "metadata": {},
   "outputs": [],
   "source": [
    "r3 = pipe2.predict(X_test)"
   ]
  },
  {
   "cell_type": "code",
   "execution_count": 20,
   "id": "b8ec15ca",
   "metadata": {},
   "outputs": [
    {
     "data": {
      "text/plain": [
       "array([4297.62026728, 5869.53709463, 7241.02035065, ..., 6505.06900906,\n",
       "       4423.49968852, 7274.1660343 ])"
      ]
     },
     "execution_count": 20,
     "metadata": {},
     "output_type": "execute_result"
    }
   ],
   "source": [
    "r3"
   ]
  },
  {
   "cell_type": "code",
   "execution_count": 21,
   "id": "89333a6c",
   "metadata": {},
   "outputs": [],
   "source": [
    "#simple model ensembling\n",
    "result = ((2*r1 + 2*r2 + r3)/5) #weighted_ensemble"
   ]
  },
  {
   "cell_type": "code",
   "execution_count": 22,
   "id": "051dd997",
   "metadata": {},
   "outputs": [
    {
     "data": {
      "text/plain": [
       "array([4274.50633722, 5871.98233885, 7235.4758909 , ..., 6506.50974447,\n",
       "       4421.60489086, 7265.94112132])"
      ]
     },
     "execution_count": 22,
     "metadata": {},
     "output_type": "execute_result"
    }
   ],
   "source": [
    "result"
   ]
  },
  {
   "cell_type": "code",
   "execution_count": 23,
   "id": "a753dfda",
   "metadata": {},
   "outputs": [],
   "source": [
    "pd.DataFrame({'id':test.id,'yield':result}).set_index('id').to_csv('catboost_lgbm_hgbr_ver2.csv')"
   ]
  },
  {
   "cell_type": "markdown",
   "id": "0d360142",
   "metadata": {},
   "source": [
    "- 341.48407"
   ]
  },
  {
   "cell_type": "code",
   "execution_count": 24,
   "id": "a144e672",
   "metadata": {},
   "outputs": [],
   "source": [
    "result = ((r1 + r2)/2) #ensemble"
   ]
  },
  {
   "cell_type": "code",
   "execution_count": 25,
   "id": "1cb9c50f",
   "metadata": {},
   "outputs": [
    {
     "data": {
      "text/plain": [
       "array([4268.72785471, 5872.5936499 , 7234.08977597, ..., 6506.86992832,\n",
       "       4421.13119145, 7263.88489307])"
      ]
     },
     "execution_count": 25,
     "metadata": {},
     "output_type": "execute_result"
    }
   ],
   "source": [
    "result"
   ]
  },
  {
   "cell_type": "code",
   "execution_count": 26,
   "id": "40c3b412",
   "metadata": {},
   "outputs": [],
   "source": [
    "pd.DataFrame({'id':test.id,'yield':result}).set_index('id').to_csv('catboost_lgbm_hgbr_ver2.5.csv')"
   ]
  }
 ],
 "metadata": {
  "kernelspec": {
   "display_name": "Python 3 (ipykernel)",
   "language": "python",
   "name": "python3"
  },
  "language_info": {
   "codemirror_mode": {
    "name": "ipython",
    "version": 3
   },
   "file_extension": ".py",
   "mimetype": "text/x-python",
   "name": "python",
   "nbconvert_exporter": "python",
   "pygments_lexer": "ipython3",
   "version": "3.9.7"
  }
 },
 "nbformat": 4,
 "nbformat_minor": 5
}
