{
 "cells": [
  {
   "cell_type": "code",
   "execution_count": 3,
   "id": "be1124ae",
   "metadata": {},
   "outputs": [],
   "source": [
    "import pandas as pd\n",
    "import numpy as np"
   ]
  },
  {
   "cell_type": "markdown",
   "id": "7babef19",
   "metadata": {},
   "source": [
    "## 1) Try to create an Ensembling model\n",
    "  - KNN + LogisticRegression "
   ]
  },
  {
   "cell_type": "code",
   "execution_count": 4,
   "id": "e09d2014",
   "metadata": {},
   "outputs": [],
   "source": [
    "def make_features(df):\n",
    "    df['num_ingredients'] = df.ingredients.apply(len) #长度\n",
    "    df['ingredients_length_mean'] = df.ingredients.apply(lambda x: np.mean([len(item) for item in x]))\n",
    "    df['ingredients_length_sum'] = df.ingredients.apply(lambda x: np.sum([len(item) for item in x])) \n",
    "    df['ingredients_str'] = df.ingredients.astype(str)\n",
    "    \n",
    "    return df"
   ]
  },
  {
   "cell_type": "code",
   "execution_count": 5,
   "id": "d8e0b04b",
   "metadata": {},
   "outputs": [
    {
     "data": {
      "text/html": [
       "<div>\n",
       "<style scoped>\n",
       "    .dataframe tbody tr th:only-of-type {\n",
       "        vertical-align: middle;\n",
       "    }\n",
       "\n",
       "    .dataframe tbody tr th {\n",
       "        vertical-align: top;\n",
       "    }\n",
       "\n",
       "    .dataframe thead th {\n",
       "        text-align: right;\n",
       "    }\n",
       "</style>\n",
       "<table border=\"1\" class=\"dataframe\">\n",
       "  <thead>\n",
       "    <tr style=\"text-align: right;\">\n",
       "      <th></th>\n",
       "      <th>id</th>\n",
       "      <th>cuisine</th>\n",
       "      <th>ingredients</th>\n",
       "      <th>num_ingredients</th>\n",
       "      <th>ingredients_length_mean</th>\n",
       "      <th>ingredients_length_sum</th>\n",
       "      <th>ingredients_str</th>\n",
       "    </tr>\n",
       "  </thead>\n",
       "  <tbody>\n",
       "    <tr>\n",
       "      <th>0</th>\n",
       "      <td>10259</td>\n",
       "      <td>greek</td>\n",
       "      <td>[romaine lettuce, black olives, grape tomatoes...</td>\n",
       "      <td>9</td>\n",
       "      <td>12.000000</td>\n",
       "      <td>108</td>\n",
       "      <td>['romaine lettuce', 'black olives', 'grape tom...</td>\n",
       "    </tr>\n",
       "    <tr>\n",
       "      <th>1</th>\n",
       "      <td>25693</td>\n",
       "      <td>southern_us</td>\n",
       "      <td>[plain flour, ground pepper, salt, tomatoes, g...</td>\n",
       "      <td>11</td>\n",
       "      <td>10.090909</td>\n",
       "      <td>111</td>\n",
       "      <td>['plain flour', 'ground pepper', 'salt', 'toma...</td>\n",
       "    </tr>\n",
       "    <tr>\n",
       "      <th>2</th>\n",
       "      <td>20130</td>\n",
       "      <td>filipino</td>\n",
       "      <td>[eggs, pepper, salt, mayonaise, cooking oil, g...</td>\n",
       "      <td>12</td>\n",
       "      <td>10.333333</td>\n",
       "      <td>124</td>\n",
       "      <td>['eggs', 'pepper', 'salt', 'mayonaise', 'cooki...</td>\n",
       "    </tr>\n",
       "    <tr>\n",
       "      <th>3</th>\n",
       "      <td>22213</td>\n",
       "      <td>indian</td>\n",
       "      <td>[water, vegetable oil, wheat, salt]</td>\n",
       "      <td>4</td>\n",
       "      <td>6.750000</td>\n",
       "      <td>27</td>\n",
       "      <td>['water', 'vegetable oil', 'wheat', 'salt']</td>\n",
       "    </tr>\n",
       "    <tr>\n",
       "      <th>4</th>\n",
       "      <td>13162</td>\n",
       "      <td>indian</td>\n",
       "      <td>[black pepper, shallots, cornflour, cayenne pe...</td>\n",
       "      <td>20</td>\n",
       "      <td>10.100000</td>\n",
       "      <td>202</td>\n",
       "      <td>['black pepper', 'shallots', 'cornflour', 'cay...</td>\n",
       "    </tr>\n",
       "  </tbody>\n",
       "</table>\n",
       "</div>"
      ],
      "text/plain": [
       "      id      cuisine                                        ingredients  \\\n",
       "0  10259        greek  [romaine lettuce, black olives, grape tomatoes...   \n",
       "1  25693  southern_us  [plain flour, ground pepper, salt, tomatoes, g...   \n",
       "2  20130     filipino  [eggs, pepper, salt, mayonaise, cooking oil, g...   \n",
       "3  22213       indian                [water, vegetable oil, wheat, salt]   \n",
       "4  13162       indian  [black pepper, shallots, cornflour, cayenne pe...   \n",
       "\n",
       "   num_ingredients  ingredients_length_mean  ingredients_length_sum  \\\n",
       "0                9                12.000000                     108   \n",
       "1               11                10.090909                     111   \n",
       "2               12                10.333333                     124   \n",
       "3                4                 6.750000                      27   \n",
       "4               20                10.100000                     202   \n",
       "\n",
       "                                     ingredients_str  \n",
       "0  ['romaine lettuce', 'black olives', 'grape tom...  \n",
       "1  ['plain flour', 'ground pepper', 'salt', 'toma...  \n",
       "2  ['eggs', 'pepper', 'salt', 'mayonaise', 'cooki...  \n",
       "3        ['water', 'vegetable oil', 'wheat', 'salt']  \n",
       "4  ['black pepper', 'shallots', 'cornflour', 'cay...  "
      ]
     },
     "execution_count": 5,
     "metadata": {},
     "output_type": "execute_result"
    }
   ],
   "source": [
    "train = make_features(pd.read_json(\"C:/Users/lijin/Desktop/ML-text-main/data/train.json\"))\n",
    "train.head()"
   ]
  },
  {
   "cell_type": "code",
   "execution_count": 6,
   "id": "65c1cad2",
   "metadata": {},
   "outputs": [
    {
     "data": {
      "text/html": [
       "<div>\n",
       "<style scoped>\n",
       "    .dataframe tbody tr th:only-of-type {\n",
       "        vertical-align: middle;\n",
       "    }\n",
       "\n",
       "    .dataframe tbody tr th {\n",
       "        vertical-align: top;\n",
       "    }\n",
       "\n",
       "    .dataframe thead th {\n",
       "        text-align: right;\n",
       "    }\n",
       "</style>\n",
       "<table border=\"1\" class=\"dataframe\">\n",
       "  <thead>\n",
       "    <tr style=\"text-align: right;\">\n",
       "      <th></th>\n",
       "      <th>id</th>\n",
       "      <th>ingredients</th>\n",
       "      <th>num_ingredients</th>\n",
       "      <th>ingredients_length_mean</th>\n",
       "      <th>ingredients_length_sum</th>\n",
       "      <th>ingredients_str</th>\n",
       "    </tr>\n",
       "  </thead>\n",
       "  <tbody>\n",
       "    <tr>\n",
       "      <th>0</th>\n",
       "      <td>18009</td>\n",
       "      <td>[baking powder, eggs, all-purpose flour, raisi...</td>\n",
       "      <td>6</td>\n",
       "      <td>9.333333</td>\n",
       "      <td>56</td>\n",
       "      <td>['baking powder', 'eggs', 'all-purpose flour',...</td>\n",
       "    </tr>\n",
       "    <tr>\n",
       "      <th>1</th>\n",
       "      <td>28583</td>\n",
       "      <td>[sugar, egg yolks, corn starch, cream of tarta...</td>\n",
       "      <td>11</td>\n",
       "      <td>10.272727</td>\n",
       "      <td>113</td>\n",
       "      <td>['sugar', 'egg yolks', 'corn starch', 'cream o...</td>\n",
       "    </tr>\n",
       "    <tr>\n",
       "      <th>2</th>\n",
       "      <td>41580</td>\n",
       "      <td>[sausage links, fennel bulb, fronds, olive oil...</td>\n",
       "      <td>6</td>\n",
       "      <td>9.666667</td>\n",
       "      <td>58</td>\n",
       "      <td>['sausage links', 'fennel bulb', 'fronds', 'ol...</td>\n",
       "    </tr>\n",
       "    <tr>\n",
       "      <th>3</th>\n",
       "      <td>29752</td>\n",
       "      <td>[meat cuts, file powder, smoked sausage, okra,...</td>\n",
       "      <td>21</td>\n",
       "      <td>12.000000</td>\n",
       "      <td>252</td>\n",
       "      <td>['meat cuts', 'file powder', 'smoked sausage',...</td>\n",
       "    </tr>\n",
       "    <tr>\n",
       "      <th>4</th>\n",
       "      <td>35687</td>\n",
       "      <td>[ground black pepper, salt, sausage casings, l...</td>\n",
       "      <td>8</td>\n",
       "      <td>13.000000</td>\n",
       "      <td>104</td>\n",
       "      <td>['ground black pepper', 'salt', 'sausage casin...</td>\n",
       "    </tr>\n",
       "  </tbody>\n",
       "</table>\n",
       "</div>"
      ],
      "text/plain": [
       "      id                                        ingredients  num_ingredients  \\\n",
       "0  18009  [baking powder, eggs, all-purpose flour, raisi...                6   \n",
       "1  28583  [sugar, egg yolks, corn starch, cream of tarta...               11   \n",
       "2  41580  [sausage links, fennel bulb, fronds, olive oil...                6   \n",
       "3  29752  [meat cuts, file powder, smoked sausage, okra,...               21   \n",
       "4  35687  [ground black pepper, salt, sausage casings, l...                8   \n",
       "\n",
       "   ingredients_length_mean  ingredients_length_sum  \\\n",
       "0                 9.333333                      56   \n",
       "1                10.272727                     113   \n",
       "2                 9.666667                      58   \n",
       "3                12.000000                     252   \n",
       "4                13.000000                     104   \n",
       "\n",
       "                                     ingredients_str  \n",
       "0  ['baking powder', 'eggs', 'all-purpose flour',...  \n",
       "1  ['sugar', 'egg yolks', 'corn starch', 'cream o...  \n",
       "2  ['sausage links', 'fennel bulb', 'fronds', 'ol...  \n",
       "3  ['meat cuts', 'file powder', 'smoked sausage',...  \n",
       "4  ['ground black pepper', 'salt', 'sausage casin...  "
      ]
     },
     "execution_count": 6,
     "metadata": {},
     "output_type": "execute_result"
    }
   ],
   "source": [
    "new = make_features(pd.read_json(\"C:/Users/lijin/Desktop/ML-text-main/data/test.json\"))\n",
    "new.head()"
   ]
  },
  {
   "cell_type": "markdown",
   "id": "c0c80c03",
   "metadata": {},
   "source": [
    "- Use 3 columns for KNN as part 1 of ensembling model and (CountVectorizer + LogisticRegression) as part 2 of ensembling model"
   ]
  },
  {
   "cell_type": "markdown",
   "id": "23198797",
   "metadata": {},
   "source": [
    "### model 1: KNN by using the self-created features"
   ]
  },
  {
   "cell_type": "code",
   "execution_count": 5,
   "id": "7cd6998f",
   "metadata": {},
   "outputs": [],
   "source": [
    "feature_cols = ['num_ingredients','ingredients_length_mean','ingredients_length_sum']\n",
    "X = train[feature_cols]\n",
    "y = train.cuisine"
   ]
  },
  {
   "cell_type": "code",
   "execution_count": 6,
   "id": "2fcc02c4",
   "metadata": {},
   "outputs": [],
   "source": [
    "from sklearn.neighbors import KNeighborsClassifier\n",
    "knn = KNeighborsClassifier(n_neighbors=1000)"
   ]
  },
  {
   "cell_type": "code",
   "execution_count": 7,
   "id": "d51f4c14",
   "metadata": {},
   "outputs": [
    {
     "data": {
      "text/plain": [
       "KNeighborsClassifier(n_neighbors=1000)"
      ]
     },
     "execution_count": 7,
     "metadata": {},
     "output_type": "execute_result"
    }
   ],
   "source": [
    "knn.fit(X,y)"
   ]
  },
  {
   "cell_type": "code",
   "execution_count": 8,
   "id": "e044ffcd",
   "metadata": {},
   "outputs": [],
   "source": [
    "X_new = new[feature_cols]"
   ]
  },
  {
   "cell_type": "code",
   "execution_count": 9,
   "id": "90b668fc",
   "metadata": {},
   "outputs": [
    {
     "data": {
      "text/plain": [
       "(9944, 20)"
      ]
     },
     "execution_count": 9,
     "metadata": {},
     "output_type": "execute_result"
    }
   ],
   "source": [
    "new_pred_prob_knn = knn.predict_proba(X_new)\n",
    "new_pred_prob_knn.shape"
   ]
  },
  {
   "cell_type": "code",
   "execution_count": 10,
   "id": "ec898ba0",
   "metadata": {},
   "outputs": [
    {
     "data": {
      "text/plain": [
       "array([0.031, 0.032, 0.017, 0.044, 0.027, 0.075, 0.03 , 0.069, 0.036,\n",
       "       0.149, 0.012, 0.08 , 0.02 , 0.132, 0.008, 0.014, 0.16 , 0.022,\n",
       "       0.023, 0.019])"
      ]
     },
     "execution_count": 10,
     "metadata": {},
     "output_type": "execute_result"
    }
   ],
   "source": [
    "#print predict probabilities for the first row only\n",
    "new_pred_prob_knn[0, :]"
   ]
  },
  {
   "cell_type": "markdown",
   "id": "a3ad337e",
   "metadata": {},
   "source": [
    "### model 2: LogisticRegression using the text_message"
   ]
  },
  {
   "cell_type": "code",
   "execution_count": 11,
   "id": "8ea5e541",
   "metadata": {},
   "outputs": [],
   "source": [
    "#引入通过ver1 找到的最好的参数\n",
    "from sklearn.pipeline import make_pipeline\n",
    "from sklearn.linear_model import LogisticRegression\n",
    "from sklearn.compose import make_column_transformer\n",
    "from sklearn.feature_extraction.text import CountVectorizer"
   ]
  },
  {
   "cell_type": "code",
   "execution_count": 12,
   "id": "22fe4332",
   "metadata": {},
   "outputs": [],
   "source": [
    "vect = CountVectorizer(token_pattern = r\"\\b\\w\\w+\\b\")"
   ]
  },
  {
   "cell_type": "code",
   "execution_count": 13,
   "id": "fcd6e9fa",
   "metadata": {},
   "outputs": [],
   "source": [
    "ct = make_column_transformer(\n",
    "    (vect, 'ingredients_str'), #这列要使用CountVectorizer()\n",
    "    remainder = 'drop' #其它列删除\n",
    "    )"
   ]
  },
  {
   "cell_type": "code",
   "execution_count": 14,
   "id": "0894dba3",
   "metadata": {},
   "outputs": [],
   "source": [
    "lg = LogisticRegression(C=1,solver='liblinear')"
   ]
  },
  {
   "cell_type": "code",
   "execution_count": 15,
   "id": "846c93b3",
   "metadata": {},
   "outputs": [
    {
     "data": {
      "text/plain": [
       "[('columntransformer',\n",
       "  ColumnTransformer(transformers=[('countvectorizer',\n",
       "                                   CountVectorizer(token_pattern='\\\\b\\\\w\\\\w+\\\\b'),\n",
       "                                   'ingredients_str')])),\n",
       " ('logisticregression', LogisticRegression(C=1, solver='liblinear'))]"
      ]
     },
     "execution_count": 15,
     "metadata": {},
     "output_type": "execute_result"
    }
   ],
   "source": [
    "pipe = make_pipeline(ct,lg)\n",
    "pipe.steps"
   ]
  },
  {
   "cell_type": "code",
   "execution_count": 16,
   "id": "b42f91c0",
   "metadata": {},
   "outputs": [
    {
     "data": {
      "text/plain": [
       "Pipeline(steps=[('columntransformer',\n",
       "                 ColumnTransformer(transformers=[('countvectorizer',\n",
       "                                                  CountVectorizer(token_pattern='\\\\b\\\\w\\\\w+\\\\b'),\n",
       "                                                  'ingredients_str')])),\n",
       "                ('logisticregression',\n",
       "                 LogisticRegression(C=1, solver='liblinear'))])"
      ]
     },
     "execution_count": 16,
     "metadata": {},
     "output_type": "execute_result"
    }
   ],
   "source": [
    "pipe.fit(train,y)"
   ]
  },
  {
   "cell_type": "code",
   "execution_count": 17,
   "id": "aba68f4d",
   "metadata": {},
   "outputs": [
    {
     "data": {
      "text/plain": [
       "(9944, 20)"
      ]
     },
     "execution_count": 17,
     "metadata": {},
     "output_type": "execute_result"
    }
   ],
   "source": [
    "X_new = new\n",
    "new_pred_prob_pipe = pipe.predict_proba(X_new)\n",
    "new_pred_prob_pipe.shape"
   ]
  },
  {
   "cell_type": "code",
   "execution_count": 18,
   "id": "ba5874ab",
   "metadata": {},
   "outputs": [
    {
     "data": {
      "text/plain": [
       "array([0.01153098, 0.24217574, 0.00429293, 0.01534188, 0.03570195,\n",
       "       0.01946003, 0.0103898 , 0.01656728, 0.18103444, 0.13768776,\n",
       "       0.00427356, 0.05440133, 0.00543845, 0.04880836, 0.00205379,\n",
       "       0.062607  , 0.11516431, 0.01353301, 0.01830388, 0.00123349])"
      ]
     },
     "execution_count": 18,
     "metadata": {},
     "output_type": "execute_result"
    }
   ],
   "source": [
    "new_pred_prob_pipe[0,:]"
   ]
  },
  {
   "cell_type": "markdown",
   "id": "1c5e34ca",
   "metadata": {},
   "source": [
    "### Ensembling these 2 models"
   ]
  },
  {
   "cell_type": "code",
   "execution_count": 19,
   "id": "9b0b6d65",
   "metadata": {},
   "outputs": [
    {
     "data": {
      "text/plain": [
       "array([0.02126549, 0.13708787, 0.01064647, 0.02967094, 0.03135098,\n",
       "       0.04723001, 0.0201949 , 0.04278364, 0.10851722, 0.14334388,\n",
       "       0.00813678, 0.06720066, 0.01271923, 0.09040418, 0.0050269 ,\n",
       "       0.0383035 , 0.13758215, 0.0177665 , 0.02065194, 0.01011675])"
      ]
     },
     "execution_count": 19,
     "metadata": {},
     "output_type": "execute_result"
    }
   ],
   "source": [
    "#e.g. : Calculate the mean of the predicted probabilities for the 1st row\n",
    "(new_pred_prob_knn[0, :] + new_pred_prob_pipe[0,:]) / 2"
   ]
  },
  {
   "cell_type": "code",
   "execution_count": 20,
   "id": "37664155",
   "metadata": {},
   "outputs": [
    {
     "data": {
      "text/html": [
       "<div>\n",
       "<style scoped>\n",
       "    .dataframe tbody tr th:only-of-type {\n",
       "        vertical-align: middle;\n",
       "    }\n",
       "\n",
       "    .dataframe tbody tr th {\n",
       "        vertical-align: top;\n",
       "    }\n",
       "\n",
       "    .dataframe thead th {\n",
       "        text-align: right;\n",
       "    }\n",
       "</style>\n",
       "<table border=\"1\" class=\"dataframe\">\n",
       "  <thead>\n",
       "    <tr style=\"text-align: right;\">\n",
       "      <th></th>\n",
       "      <th>brazilian</th>\n",
       "      <th>british</th>\n",
       "      <th>cajun_creole</th>\n",
       "      <th>chinese</th>\n",
       "      <th>filipino</th>\n",
       "      <th>french</th>\n",
       "      <th>greek</th>\n",
       "      <th>indian</th>\n",
       "      <th>irish</th>\n",
       "      <th>italian</th>\n",
       "      <th>jamaican</th>\n",
       "      <th>japanese</th>\n",
       "      <th>korean</th>\n",
       "      <th>mexican</th>\n",
       "      <th>moroccan</th>\n",
       "      <th>russian</th>\n",
       "      <th>southern_us</th>\n",
       "      <th>spanish</th>\n",
       "      <th>thai</th>\n",
       "      <th>vietnamese</th>\n",
       "    </tr>\n",
       "  </thead>\n",
       "  <tbody>\n",
       "    <tr>\n",
       "      <th>0</th>\n",
       "      <td>0.021265</td>\n",
       "      <td>0.137088</td>\n",
       "      <td>0.010646</td>\n",
       "      <td>0.029671</td>\n",
       "      <td>0.031351</td>\n",
       "      <td>0.047230</td>\n",
       "      <td>0.020195</td>\n",
       "      <td>0.042784</td>\n",
       "      <td>0.108517</td>\n",
       "      <td>0.143344</td>\n",
       "      <td>0.008137</td>\n",
       "      <td>0.067201</td>\n",
       "      <td>0.012719</td>\n",
       "      <td>0.090404</td>\n",
       "      <td>0.005027</td>\n",
       "      <td>0.038304</td>\n",
       "      <td>0.137582</td>\n",
       "      <td>0.017767</td>\n",
       "      <td>0.020652</td>\n",
       "      <td>0.010117</td>\n",
       "    </tr>\n",
       "    <tr>\n",
       "      <th>1</th>\n",
       "      <td>0.006942</td>\n",
       "      <td>0.017579</td>\n",
       "      <td>0.030135</td>\n",
       "      <td>0.044235</td>\n",
       "      <td>0.014836</td>\n",
       "      <td>0.083320</td>\n",
       "      <td>0.019354</td>\n",
       "      <td>0.049502</td>\n",
       "      <td>0.008575</td>\n",
       "      <td>0.086737</td>\n",
       "      <td>0.004588</td>\n",
       "      <td>0.024870</td>\n",
       "      <td>0.018008</td>\n",
       "      <td>0.071055</td>\n",
       "      <td>0.006501</td>\n",
       "      <td>0.006728</td>\n",
       "      <td>0.469239</td>\n",
       "      <td>0.009939</td>\n",
       "      <td>0.017003</td>\n",
       "      <td>0.010855</td>\n",
       "    </tr>\n",
       "    <tr>\n",
       "      <th>2</th>\n",
       "      <td>0.015878</td>\n",
       "      <td>0.023316</td>\n",
       "      <td>0.016630</td>\n",
       "      <td>0.031554</td>\n",
       "      <td>0.021177</td>\n",
       "      <td>0.043121</td>\n",
       "      <td>0.016797</td>\n",
       "      <td>0.040239</td>\n",
       "      <td>0.020185</td>\n",
       "      <td>0.466518</td>\n",
       "      <td>0.004965</td>\n",
       "      <td>0.037498</td>\n",
       "      <td>0.010944</td>\n",
       "      <td>0.082845</td>\n",
       "      <td>0.012474</td>\n",
       "      <td>0.012668</td>\n",
       "      <td>0.090205</td>\n",
       "      <td>0.022092</td>\n",
       "      <td>0.012543</td>\n",
       "      <td>0.018352</td>\n",
       "    </tr>\n",
       "    <tr>\n",
       "      <th>3</th>\n",
       "      <td>0.001673</td>\n",
       "      <td>0.003013</td>\n",
       "      <td>0.502568</td>\n",
       "      <td>0.042518</td>\n",
       "      <td>0.002031</td>\n",
       "      <td>0.023503</td>\n",
       "      <td>0.009002</td>\n",
       "      <td>0.063001</td>\n",
       "      <td>0.003001</td>\n",
       "      <td>0.077031</td>\n",
       "      <td>0.007860</td>\n",
       "      <td>0.003659</td>\n",
       "      <td>0.003001</td>\n",
       "      <td>0.114000</td>\n",
       "      <td>0.017511</td>\n",
       "      <td>0.004021</td>\n",
       "      <td>0.058251</td>\n",
       "      <td>0.010229</td>\n",
       "      <td>0.035501</td>\n",
       "      <td>0.018626</td>\n",
       "    </tr>\n",
       "    <tr>\n",
       "      <th>4</th>\n",
       "      <td>0.001871</td>\n",
       "      <td>0.013601</td>\n",
       "      <td>0.013857</td>\n",
       "      <td>0.024089</td>\n",
       "      <td>0.006017</td>\n",
       "      <td>0.051717</td>\n",
       "      <td>0.018266</td>\n",
       "      <td>0.015064</td>\n",
       "      <td>0.007974</td>\n",
       "      <td>0.594835</td>\n",
       "      <td>0.003124</td>\n",
       "      <td>0.013503</td>\n",
       "      <td>0.009092</td>\n",
       "      <td>0.080893</td>\n",
       "      <td>0.007350</td>\n",
       "      <td>0.003067</td>\n",
       "      <td>0.094900</td>\n",
       "      <td>0.022158</td>\n",
       "      <td>0.013018</td>\n",
       "      <td>0.005604</td>\n",
       "    </tr>\n",
       "  </tbody>\n",
       "</table>\n",
       "</div>"
      ],
      "text/plain": [
       "   brazilian   british  cajun_creole   chinese  filipino    french     greek  \\\n",
       "0   0.021265  0.137088      0.010646  0.029671  0.031351  0.047230  0.020195   \n",
       "1   0.006942  0.017579      0.030135  0.044235  0.014836  0.083320  0.019354   \n",
       "2   0.015878  0.023316      0.016630  0.031554  0.021177  0.043121  0.016797   \n",
       "3   0.001673  0.003013      0.502568  0.042518  0.002031  0.023503  0.009002   \n",
       "4   0.001871  0.013601      0.013857  0.024089  0.006017  0.051717  0.018266   \n",
       "\n",
       "     indian     irish   italian  jamaican  japanese    korean   mexican  \\\n",
       "0  0.042784  0.108517  0.143344  0.008137  0.067201  0.012719  0.090404   \n",
       "1  0.049502  0.008575  0.086737  0.004588  0.024870  0.018008  0.071055   \n",
       "2  0.040239  0.020185  0.466518  0.004965  0.037498  0.010944  0.082845   \n",
       "3  0.063001  0.003001  0.077031  0.007860  0.003659  0.003001  0.114000   \n",
       "4  0.015064  0.007974  0.594835  0.003124  0.013503  0.009092  0.080893   \n",
       "\n",
       "   moroccan   russian  southern_us   spanish      thai  vietnamese  \n",
       "0  0.005027  0.038304     0.137582  0.017767  0.020652    0.010117  \n",
       "1  0.006501  0.006728     0.469239  0.009939  0.017003    0.010855  \n",
       "2  0.012474  0.012668     0.090205  0.022092  0.012543    0.018352  \n",
       "3  0.017511  0.004021     0.058251  0.010229  0.035501    0.018626  \n",
       "4  0.007350  0.003067     0.094900  0.022158  0.013018    0.005604  "
      ]
     },
     "execution_count": 20,
     "metadata": {},
     "output_type": "execute_result"
    }
   ],
   "source": [
    "# calculate the mean of the predicted probabilities for all rows\n",
    "new_pred_prob = pd.DataFrame((new_pred_prob_knn + new_pred_prob_pipe) / 2, columns=knn.classes_) #调用knn.classes_进行类别查看\n",
    "new_pred_prob.head()"
   ]
  },
  {
   "cell_type": "code",
   "execution_count": 21,
   "id": "f8b0e52c",
   "metadata": {},
   "outputs": [
    {
     "data": {
      "text/plain": [
       "0         italian\n",
       "1     southern_us\n",
       "2         italian\n",
       "3    cajun_creole\n",
       "4         italian\n",
       "dtype: object"
      ]
     },
     "execution_count": 21,
     "metadata": {},
     "output_type": "execute_result"
    }
   ],
   "source": [
    "# for each row, find the column with the highest predicted probability\n",
    "new_pred_class = new_pred_prob.idxmax(axis=1)\n",
    "new_pred_class.head()"
   ]
  },
  {
   "cell_type": "code",
   "execution_count": 22,
   "id": "90a853e8",
   "metadata": {},
   "outputs": [],
   "source": [
    "# create a submission file (score: 0.77725)\n",
    "pd.DataFrame({'id':new.id, 'cuisine':new_pred_class}).set_index('id').to_csv('sub_samli_02.csv')"
   ]
  },
  {
   "cell_type": "markdown",
   "id": "4691365c",
   "metadata": {},
   "source": [
    "- By using the self-created features with KNN is not performed well\n",
    "- Try to create an ensembling model only based on the CountVectorizer by using SVC ,LogisticRegression,and RandomForest"
   ]
  },
  {
   "cell_type": "markdown",
   "id": "f9a676cd",
   "metadata": {},
   "source": [
    "## 2) Try to create the Ensembling model (VotingClassifier)"
   ]
  },
  {
   "cell_type": "markdown",
   "id": "7353960b",
   "metadata": {},
   "source": [
    "### model 1: svm.svc;model 2:random forest;model 3:logistic_regression"
   ]
  },
  {
   "cell_type": "code",
   "execution_count": 23,
   "id": "577ff87a",
   "metadata": {},
   "outputs": [],
   "source": [
    "from sklearn.svm import SVC\n",
    "from sklearn.ensemble import RandomForestClassifier"
   ]
  },
  {
   "cell_type": "code",
   "execution_count": 35,
   "id": "56339dfe",
   "metadata": {},
   "outputs": [],
   "source": [
    "svc = SVC(kernel='rbf', C=1.0, gamma='auto',probability=True)\n",
    "rfc = RandomForestClassifier(max_features=None)"
   ]
  },
  {
   "cell_type": "code",
   "execution_count": 36,
   "id": "09058fe3",
   "metadata": {},
   "outputs": [],
   "source": [
    "from sklearn.ensemble import VotingClassifier\n",
    "#vc = VotingClassifier([('clf1', svc),('clf2', rfc),('clf3', lg)])\n",
    "vc = VotingClassifier([('clf1', svc),('clf2', rfc),('clf3', lg)],voting='soft',weights=(2,1,1))"
   ]
  },
  {
   "cell_type": "code",
   "execution_count": 37,
   "id": "7b9ca7a4",
   "metadata": {},
   "outputs": [
    {
     "data": {
      "text/plain": [
       "[('columntransformer',\n",
       "  ColumnTransformer(transformers=[('countvectorizer',\n",
       "                                   CountVectorizer(token_pattern='\\\\b\\\\w\\\\w+\\\\b'),\n",
       "                                   'ingredients_str')])),\n",
       " ('votingclassifier',\n",
       "  VotingClassifier(estimators=[('clf1', SVC(gamma='auto', probability=True)),\n",
       "                               ('clf2',\n",
       "                                RandomForestClassifier(max_features=None)),\n",
       "                               ('clf3',\n",
       "                                LogisticRegression(C=1, solver='liblinear'))],\n",
       "                   voting='soft', weights=(2, 1, 1)))]"
      ]
     },
     "execution_count": 37,
     "metadata": {},
     "output_type": "execute_result"
    }
   ],
   "source": [
    "pipe = make_pipeline(ct,vc)\n",
    "pipe.steps"
   ]
  },
  {
   "cell_type": "code",
   "execution_count": 38,
   "id": "f69073e3",
   "metadata": {},
   "outputs": [
    {
     "name": "stdout",
     "output_type": "stream",
     "text": [
      "Wall time: 40min 36s\n"
     ]
    },
    {
     "data": {
      "text/plain": [
       "Pipeline(steps=[('columntransformer',\n",
       "                 ColumnTransformer(transformers=[('countvectorizer',\n",
       "                                                  CountVectorizer(token_pattern='\\\\b\\\\w\\\\w+\\\\b'),\n",
       "                                                  'ingredients_str')])),\n",
       "                ('votingclassifier',\n",
       "                 VotingClassifier(estimators=[('clf1',\n",
       "                                               SVC(gamma='auto',\n",
       "                                                   probability=True)),\n",
       "                                              ('clf2',\n",
       "                                               RandomForestClassifier(max_features=None)),\n",
       "                                              ('clf3',\n",
       "                                               LogisticRegression(C=1,\n",
       "                                                                  solver='liblinear'))],\n",
       "                                  voting='soft', weights=(2, 1, 1)))])"
      ]
     },
     "execution_count": 38,
     "metadata": {},
     "output_type": "execute_result"
    }
   ],
   "source": [
    "%time pipe.fit(train,y) #30+minutes ......"
   ]
  },
  {
   "cell_type": "code",
   "execution_count": 28,
   "id": "bf5bcfc7",
   "metadata": {},
   "outputs": [],
   "source": [
    "#from sklearn.model_selection import GridSearchCV"
   ]
  },
  {
   "cell_type": "code",
   "execution_count": 29,
   "id": "fd1cd333",
   "metadata": {},
   "outputs": [],
   "source": [
    "#if you would like to tune the params\n",
    "# param_grid = {}\n",
    "# param_grid['columntransformer__countvectorizer__token_pattern'] = [r\"\\b\\w\\w+\\b\", r\"'([a-z ]+)'\"]\n",
    "# param_grid['votingclassifier__voting'] = ['soft','hard']\n",
    "# param_grid['votingclassifier__weights'] = [(1,1,1),(2,1,1),(1,2,1),(1,1,2)]\n",
    "# param_grid"
   ]
  },
  {
   "cell_type": "code",
   "execution_count": 30,
   "id": "9c43cee3",
   "metadata": {},
   "outputs": [],
   "source": [
    "#grid = GridSearchCV(pipe, param_grid, cv=5, scoring='accuracy')"
   ]
  },
  {
   "cell_type": "code",
   "execution_count": 31,
   "id": "f3b10ff3",
   "metadata": {},
   "outputs": [],
   "source": [
    "#%time grid.fit(train,y)"
   ]
  },
  {
   "cell_type": "code",
   "execution_count": 32,
   "id": "fb785d31",
   "metadata": {},
   "outputs": [],
   "source": [
    "# print(grid.best_params_)\n",
    "# print(grid.best_score_)"
   ]
  },
  {
   "cell_type": "code",
   "execution_count": 33,
   "id": "f21e127b",
   "metadata": {},
   "outputs": [],
   "source": [
    "#grid.best_estimator_"
   ]
  },
  {
   "cell_type": "code",
   "execution_count": 39,
   "id": "c21035c6",
   "metadata": {},
   "outputs": [],
   "source": [
    "#predict for the new data\n",
    "#X_new_predict = grid.predict(X_new)\n",
    "X_new_predict = pipe.predict(X_new)"
   ]
  },
  {
   "cell_type": "code",
   "execution_count": 40,
   "id": "d2c381c3",
   "metadata": {},
   "outputs": [
    {
     "data": {
      "text/plain": [
       "array(['southern_us', 'southern_us', 'italian', ..., 'italian',\n",
       "       'southern_us', 'mexican'], dtype=object)"
      ]
     },
     "execution_count": 40,
     "metadata": {},
     "output_type": "execute_result"
    }
   ],
   "source": [
    "X_new_predict"
   ]
  },
  {
   "cell_type": "code",
   "execution_count": 41,
   "id": "6a52f3a4",
   "metadata": {},
   "outputs": [],
   "source": [
    "pd.DataFrame({'id':X_new.id,'cuisine':X_new_predict}).set_index('id').to_csv('sub_samli_03.csv')"
   ]
  },
  {
   "cell_type": "markdown",
   "id": "b1a7cbec",
   "metadata": {},
   "source": [
    "- 0.76297"
   ]
  },
  {
   "cell_type": "markdown",
   "id": "23c9087e",
   "metadata": {},
   "source": [
    "## 3) Try to model stacking"
   ]
  },
  {
   "cell_type": "markdown",
   "id": "f2b1a609",
   "metadata": {},
   "source": [
    "### Locating groups of similar cuisine"
   ]
  },
  {
   "cell_type": "code",
   "execution_count": 7,
   "id": "cc7a7366",
   "metadata": {},
   "outputs": [
    {
     "data": {
      "text/plain": [
       "0        ['romaine lettuce', 'black olives', 'grape tom...\n",
       "1        ['plain flour', 'ground pepper', 'salt', 'toma...\n",
       "2        ['eggs', 'pepper', 'salt', 'mayonaise', 'cooki...\n",
       "3              ['water', 'vegetable oil', 'wheat', 'salt']\n",
       "4        ['black pepper', 'shallots', 'cornflour', 'cay...\n",
       "                               ...                        \n",
       "39769    ['light brown sugar', 'granulated sugar', 'but...\n",
       "39770    ['KRAFT Zesty Italian Dressing', 'purple onion...\n",
       "39771    ['eggs', 'citrus fruit', 'raisins', 'sourdough...\n",
       "39772    ['boneless chicken skinless thigh', 'minced ga...\n",
       "39773    ['green chile', 'jalapeno chilies', 'onions', ...\n",
       "Name: ingredients_str, Length: 39774, dtype: object"
      ]
     },
     "execution_count": 7,
     "metadata": {},
     "output_type": "execute_result"
    }
   ],
   "source": [
    "train.ingredients_str"
   ]
  },
  {
   "cell_type": "code",
   "execution_count": 8,
   "id": "832eaae5",
   "metadata": {},
   "outputs": [
    {
     "data": {
      "text/plain": [
       "(20,)"
      ]
     },
     "execution_count": 8,
     "metadata": {},
     "output_type": "execute_result"
    }
   ],
   "source": [
    "#combine all of the recipes into a single string for each type of cuisine\n",
    "cuisine_ingredients = train.groupby('cuisine').ingredients_str.sum()\n",
    "cuisine_ingredients.shape #20类，所以有20组ingredients_str"
   ]
  },
  {
   "cell_type": "code",
   "execution_count": 9,
   "id": "f97f1f9a",
   "metadata": {},
   "outputs": [
    {
     "data": {
      "text/plain": [
       "(20, 3010)"
      ]
     },
     "execution_count": 9,
     "metadata": {},
     "output_type": "execute_result"
    }
   ],
   "source": [
    "#crate a document-term matrix from cuisine_ingredients\n",
    "from sklearn.feature_extraction.text import TfidfVectorizer #用了TFIDF，与CountVectorizer的区别是前者主要按某一token在单独句子中出现的频率和所有句子中出现的频率进行词频token数量的提取\n",
    "vect = TfidfVectorizer()\n",
    "cuisine_dtm = vect.fit_transform(cuisine_ingredients)\n",
    "cuisine_dtm.shape"
   ]
  },
  {
   "cell_type": "code",
   "execution_count": 10,
   "id": "316637f7",
   "metadata": {},
   "outputs": [],
   "source": [
    "# calculate the similarity between each cuisine and all other cuisines 【每个类别之间tokens的相关性】\n",
    "from sklearn import metrics\n",
    "cuisine_similarity = []\n",
    "for idx in range(cuisine_dtm.shape[0]):\n",
    "    similarity = metrics.pairwise.linear_kernel(cuisine_dtm[idx, :], cuisine_dtm).flatten()\n",
    "    cuisine_similarity.append(similarity)"
   ]
  },
  {
   "cell_type": "code",
   "execution_count": 11,
   "id": "d9d9c6de",
   "metadata": {},
   "outputs": [
    {
     "data": {
      "text/html": [
       "<div>\n",
       "<style scoped>\n",
       "    .dataframe tbody tr th:only-of-type {\n",
       "        vertical-align: middle;\n",
       "    }\n",
       "\n",
       "    .dataframe tbody tr th {\n",
       "        vertical-align: top;\n",
       "    }\n",
       "\n",
       "    .dataframe thead th {\n",
       "        text-align: right;\n",
       "    }\n",
       "</style>\n",
       "<table border=\"1\" class=\"dataframe\">\n",
       "  <thead>\n",
       "    <tr style=\"text-align: right;\">\n",
       "      <th>cuisine</th>\n",
       "      <th>brazilian</th>\n",
       "      <th>british</th>\n",
       "      <th>cajun_creole</th>\n",
       "      <th>chinese</th>\n",
       "      <th>filipino</th>\n",
       "      <th>french</th>\n",
       "      <th>greek</th>\n",
       "      <th>indian</th>\n",
       "      <th>irish</th>\n",
       "      <th>italian</th>\n",
       "      <th>jamaican</th>\n",
       "      <th>japanese</th>\n",
       "      <th>korean</th>\n",
       "      <th>mexican</th>\n",
       "      <th>moroccan</th>\n",
       "      <th>russian</th>\n",
       "      <th>southern_us</th>\n",
       "      <th>spanish</th>\n",
       "      <th>thai</th>\n",
       "      <th>vietnamese</th>\n",
       "    </tr>\n",
       "    <tr>\n",
       "      <th>cuisine</th>\n",
       "      <th></th>\n",
       "      <th></th>\n",
       "      <th></th>\n",
       "      <th></th>\n",
       "      <th></th>\n",
       "      <th></th>\n",
       "      <th></th>\n",
       "      <th></th>\n",
       "      <th></th>\n",
       "      <th></th>\n",
       "      <th></th>\n",
       "      <th></th>\n",
       "      <th></th>\n",
       "      <th></th>\n",
       "      <th></th>\n",
       "      <th></th>\n",
       "      <th></th>\n",
       "      <th></th>\n",
       "      <th></th>\n",
       "      <th></th>\n",
       "    </tr>\n",
       "  </thead>\n",
       "  <tbody>\n",
       "    <tr>\n",
       "      <th>brazilian</th>\n",
       "      <td>1.000000</td>\n",
       "      <td>0.660232</td>\n",
       "      <td>0.742324</td>\n",
       "      <td>0.580756</td>\n",
       "      <td>0.769216</td>\n",
       "      <td>0.756392</td>\n",
       "      <td>0.695692</td>\n",
       "      <td>0.687271</td>\n",
       "      <td>0.665713</td>\n",
       "      <td>0.740527</td>\n",
       "      <td>0.778320</td>\n",
       "      <td>0.555601</td>\n",
       "      <td>0.571440</td>\n",
       "      <td>0.743736</td>\n",
       "      <td>0.669009</td>\n",
       "      <td>0.706087</td>\n",
       "      <td>0.743156</td>\n",
       "      <td>0.807694</td>\n",
       "      <td>0.685539</td>\n",
       "      <td>0.653801</td>\n",
       "    </tr>\n",
       "    <tr>\n",
       "      <th>british</th>\n",
       "      <td>0.660232</td>\n",
       "      <td>1.000000</td>\n",
       "      <td>0.591230</td>\n",
       "      <td>0.467640</td>\n",
       "      <td>0.631356</td>\n",
       "      <td>0.859609</td>\n",
       "      <td>0.562750</td>\n",
       "      <td>0.560349</td>\n",
       "      <td>0.926682</td>\n",
       "      <td>0.632618</td>\n",
       "      <td>0.662057</td>\n",
       "      <td>0.508296</td>\n",
       "      <td>0.447177</td>\n",
       "      <td>0.560446</td>\n",
       "      <td>0.543260</td>\n",
       "      <td>0.909551</td>\n",
       "      <td>0.911271</td>\n",
       "      <td>0.604000</td>\n",
       "      <td>0.445518</td>\n",
       "      <td>0.478901</td>\n",
       "    </tr>\n",
       "    <tr>\n",
       "      <th>cajun_creole</th>\n",
       "      <td>0.742324</td>\n",
       "      <td>0.591230</td>\n",
       "      <td>1.000000</td>\n",
       "      <td>0.605581</td>\n",
       "      <td>0.746151</td>\n",
       "      <td>0.708849</td>\n",
       "      <td>0.688391</td>\n",
       "      <td>0.618955</td>\n",
       "      <td>0.635197</td>\n",
       "      <td>0.738159</td>\n",
       "      <td>0.780897</td>\n",
       "      <td>0.532394</td>\n",
       "      <td>0.578645</td>\n",
       "      <td>0.724877</td>\n",
       "      <td>0.649831</td>\n",
       "      <td>0.657802</td>\n",
       "      <td>0.747480</td>\n",
       "      <td>0.803637</td>\n",
       "      <td>0.590103</td>\n",
       "      <td>0.605224</td>\n",
       "    </tr>\n",
       "    <tr>\n",
       "      <th>chinese</th>\n",
       "      <td>0.580756</td>\n",
       "      <td>0.467640</td>\n",
       "      <td>0.605581</td>\n",
       "      <td>1.000000</td>\n",
       "      <td>0.839803</td>\n",
       "      <td>0.540446</td>\n",
       "      <td>0.496090</td>\n",
       "      <td>0.553532</td>\n",
       "      <td>0.460746</td>\n",
       "      <td>0.555504</td>\n",
       "      <td>0.635953</td>\n",
       "      <td>0.835587</td>\n",
       "      <td>0.866828</td>\n",
       "      <td>0.561837</td>\n",
       "      <td>0.505655</td>\n",
       "      <td>0.521844</td>\n",
       "      <td>0.558514</td>\n",
       "      <td>0.603526</td>\n",
       "      <td>0.755813</td>\n",
       "      <td>0.817005</td>\n",
       "    </tr>\n",
       "    <tr>\n",
       "      <th>filipino</th>\n",
       "      <td>0.769216</td>\n",
       "      <td>0.631356</td>\n",
       "      <td>0.746151</td>\n",
       "      <td>0.839803</td>\n",
       "      <td>1.000000</td>\n",
       "      <td>0.682939</td>\n",
       "      <td>0.607436</td>\n",
       "      <td>0.655934</td>\n",
       "      <td>0.641010</td>\n",
       "      <td>0.670628</td>\n",
       "      <td>0.792723</td>\n",
       "      <td>0.748558</td>\n",
       "      <td>0.782623</td>\n",
       "      <td>0.678302</td>\n",
       "      <td>0.614984</td>\n",
       "      <td>0.697000</td>\n",
       "      <td>0.720368</td>\n",
       "      <td>0.727409</td>\n",
       "      <td>0.741512</td>\n",
       "      <td>0.806833</td>\n",
       "    </tr>\n",
       "    <tr>\n",
       "      <th>french</th>\n",
       "      <td>0.756392</td>\n",
       "      <td>0.859609</td>\n",
       "      <td>0.708849</td>\n",
       "      <td>0.540446</td>\n",
       "      <td>0.682939</td>\n",
       "      <td>1.000000</td>\n",
       "      <td>0.759936</td>\n",
       "      <td>0.624868</td>\n",
       "      <td>0.837384</td>\n",
       "      <td>0.835272</td>\n",
       "      <td>0.723225</td>\n",
       "      <td>0.540279</td>\n",
       "      <td>0.502205</td>\n",
       "      <td>0.666830</td>\n",
       "      <td>0.685384</td>\n",
       "      <td>0.881173</td>\n",
       "      <td>0.862062</td>\n",
       "      <td>0.817541</td>\n",
       "      <td>0.548375</td>\n",
       "      <td>0.570925</td>\n",
       "    </tr>\n",
       "    <tr>\n",
       "      <th>greek</th>\n",
       "      <td>0.695692</td>\n",
       "      <td>0.562750</td>\n",
       "      <td>0.688391</td>\n",
       "      <td>0.496090</td>\n",
       "      <td>0.607436</td>\n",
       "      <td>0.759936</td>\n",
       "      <td>1.000000</td>\n",
       "      <td>0.640297</td>\n",
       "      <td>0.583675</td>\n",
       "      <td>0.859270</td>\n",
       "      <td>0.681281</td>\n",
       "      <td>0.469465</td>\n",
       "      <td>0.479835</td>\n",
       "      <td>0.696644</td>\n",
       "      <td>0.769412</td>\n",
       "      <td>0.649530</td>\n",
       "      <td>0.641229</td>\n",
       "      <td>0.837448</td>\n",
       "      <td>0.519004</td>\n",
       "      <td>0.538683</td>\n",
       "    </tr>\n",
       "    <tr>\n",
       "      <th>indian</th>\n",
       "      <td>0.687271</td>\n",
       "      <td>0.560349</td>\n",
       "      <td>0.618955</td>\n",
       "      <td>0.553532</td>\n",
       "      <td>0.655934</td>\n",
       "      <td>0.624868</td>\n",
       "      <td>0.640297</td>\n",
       "      <td>1.000000</td>\n",
       "      <td>0.577338</td>\n",
       "      <td>0.616211</td>\n",
       "      <td>0.734926</td>\n",
       "      <td>0.567993</td>\n",
       "      <td>0.538853</td>\n",
       "      <td>0.708621</td>\n",
       "      <td>0.795271</td>\n",
       "      <td>0.607432</td>\n",
       "      <td>0.617278</td>\n",
       "      <td>0.678865</td>\n",
       "      <td>0.627460</td>\n",
       "      <td>0.605162</td>\n",
       "    </tr>\n",
       "    <tr>\n",
       "      <th>irish</th>\n",
       "      <td>0.665713</td>\n",
       "      <td>0.926682</td>\n",
       "      <td>0.635197</td>\n",
       "      <td>0.460746</td>\n",
       "      <td>0.641010</td>\n",
       "      <td>0.837384</td>\n",
       "      <td>0.583675</td>\n",
       "      <td>0.577338</td>\n",
       "      <td>1.000000</td>\n",
       "      <td>0.649878</td>\n",
       "      <td>0.680914</td>\n",
       "      <td>0.494762</td>\n",
       "      <td>0.458798</td>\n",
       "      <td>0.591718</td>\n",
       "      <td>0.563303</td>\n",
       "      <td>0.892428</td>\n",
       "      <td>0.902850</td>\n",
       "      <td>0.630921</td>\n",
       "      <td>0.449931</td>\n",
       "      <td>0.481712</td>\n",
       "    </tr>\n",
       "    <tr>\n",
       "      <th>italian</th>\n",
       "      <td>0.740527</td>\n",
       "      <td>0.632618</td>\n",
       "      <td>0.738159</td>\n",
       "      <td>0.555504</td>\n",
       "      <td>0.670628</td>\n",
       "      <td>0.835272</td>\n",
       "      <td>0.859270</td>\n",
       "      <td>0.616211</td>\n",
       "      <td>0.649878</td>\n",
       "      <td>1.000000</td>\n",
       "      <td>0.695768</td>\n",
       "      <td>0.510280</td>\n",
       "      <td>0.522568</td>\n",
       "      <td>0.733959</td>\n",
       "      <td>0.709827</td>\n",
       "      <td>0.697593</td>\n",
       "      <td>0.718945</td>\n",
       "      <td>0.858166</td>\n",
       "      <td>0.555088</td>\n",
       "      <td>0.571096</td>\n",
       "    </tr>\n",
       "    <tr>\n",
       "      <th>jamaican</th>\n",
       "      <td>0.778320</td>\n",
       "      <td>0.662057</td>\n",
       "      <td>0.780897</td>\n",
       "      <td>0.635953</td>\n",
       "      <td>0.792723</td>\n",
       "      <td>0.723225</td>\n",
       "      <td>0.681281</td>\n",
       "      <td>0.734926</td>\n",
       "      <td>0.680914</td>\n",
       "      <td>0.695768</td>\n",
       "      <td>1.000000</td>\n",
       "      <td>0.584689</td>\n",
       "      <td>0.609203</td>\n",
       "      <td>0.731859</td>\n",
       "      <td>0.757462</td>\n",
       "      <td>0.684492</td>\n",
       "      <td>0.752862</td>\n",
       "      <td>0.751672</td>\n",
       "      <td>0.650898</td>\n",
       "      <td>0.664175</td>\n",
       "    </tr>\n",
       "    <tr>\n",
       "      <th>japanese</th>\n",
       "      <td>0.555601</td>\n",
       "      <td>0.508296</td>\n",
       "      <td>0.532394</td>\n",
       "      <td>0.835587</td>\n",
       "      <td>0.748558</td>\n",
       "      <td>0.540279</td>\n",
       "      <td>0.469465</td>\n",
       "      <td>0.567993</td>\n",
       "      <td>0.494762</td>\n",
       "      <td>0.510280</td>\n",
       "      <td>0.584689</td>\n",
       "      <td>1.000000</td>\n",
       "      <td>0.819828</td>\n",
       "      <td>0.506539</td>\n",
       "      <td>0.477401</td>\n",
       "      <td>0.557275</td>\n",
       "      <td>0.554022</td>\n",
       "      <td>0.547336</td>\n",
       "      <td>0.682604</td>\n",
       "      <td>0.738413</td>\n",
       "    </tr>\n",
       "    <tr>\n",
       "      <th>korean</th>\n",
       "      <td>0.571440</td>\n",
       "      <td>0.447177</td>\n",
       "      <td>0.578645</td>\n",
       "      <td>0.866828</td>\n",
       "      <td>0.782623</td>\n",
       "      <td>0.502205</td>\n",
       "      <td>0.479835</td>\n",
       "      <td>0.538853</td>\n",
       "      <td>0.458798</td>\n",
       "      <td>0.522568</td>\n",
       "      <td>0.609203</td>\n",
       "      <td>0.819828</td>\n",
       "      <td>1.000000</td>\n",
       "      <td>0.516461</td>\n",
       "      <td>0.477964</td>\n",
       "      <td>0.517680</td>\n",
       "      <td>0.516811</td>\n",
       "      <td>0.582969</td>\n",
       "      <td>0.671054</td>\n",
       "      <td>0.747119</td>\n",
       "    </tr>\n",
       "    <tr>\n",
       "      <th>mexican</th>\n",
       "      <td>0.743736</td>\n",
       "      <td>0.560446</td>\n",
       "      <td>0.724877</td>\n",
       "      <td>0.561837</td>\n",
       "      <td>0.678302</td>\n",
       "      <td>0.666830</td>\n",
       "      <td>0.696644</td>\n",
       "      <td>0.708621</td>\n",
       "      <td>0.591718</td>\n",
       "      <td>0.733959</td>\n",
       "      <td>0.731859</td>\n",
       "      <td>0.506539</td>\n",
       "      <td>0.516461</td>\n",
       "      <td>1.000000</td>\n",
       "      <td>0.697442</td>\n",
       "      <td>0.630541</td>\n",
       "      <td>0.691398</td>\n",
       "      <td>0.739874</td>\n",
       "      <td>0.617627</td>\n",
       "      <td>0.623531</td>\n",
       "    </tr>\n",
       "    <tr>\n",
       "      <th>moroccan</th>\n",
       "      <td>0.669009</td>\n",
       "      <td>0.543260</td>\n",
       "      <td>0.649831</td>\n",
       "      <td>0.505655</td>\n",
       "      <td>0.614984</td>\n",
       "      <td>0.685384</td>\n",
       "      <td>0.769412</td>\n",
       "      <td>0.795271</td>\n",
       "      <td>0.563303</td>\n",
       "      <td>0.709827</td>\n",
       "      <td>0.757462</td>\n",
       "      <td>0.477401</td>\n",
       "      <td>0.477964</td>\n",
       "      <td>0.697442</td>\n",
       "      <td>1.000000</td>\n",
       "      <td>0.608343</td>\n",
       "      <td>0.605958</td>\n",
       "      <td>0.784612</td>\n",
       "      <td>0.533128</td>\n",
       "      <td>0.553375</td>\n",
       "    </tr>\n",
       "    <tr>\n",
       "      <th>russian</th>\n",
       "      <td>0.706087</td>\n",
       "      <td>0.909551</td>\n",
       "      <td>0.657802</td>\n",
       "      <td>0.521844</td>\n",
       "      <td>0.697000</td>\n",
       "      <td>0.881173</td>\n",
       "      <td>0.649530</td>\n",
       "      <td>0.607432</td>\n",
       "      <td>0.892428</td>\n",
       "      <td>0.697593</td>\n",
       "      <td>0.684492</td>\n",
       "      <td>0.557275</td>\n",
       "      <td>0.517680</td>\n",
       "      <td>0.630541</td>\n",
       "      <td>0.608343</td>\n",
       "      <td>1.000000</td>\n",
       "      <td>0.877901</td>\n",
       "      <td>0.702752</td>\n",
       "      <td>0.494331</td>\n",
       "      <td>0.539100</td>\n",
       "    </tr>\n",
       "    <tr>\n",
       "      <th>southern_us</th>\n",
       "      <td>0.743156</td>\n",
       "      <td>0.911271</td>\n",
       "      <td>0.747480</td>\n",
       "      <td>0.558514</td>\n",
       "      <td>0.720368</td>\n",
       "      <td>0.862062</td>\n",
       "      <td>0.641229</td>\n",
       "      <td>0.617278</td>\n",
       "      <td>0.902850</td>\n",
       "      <td>0.718945</td>\n",
       "      <td>0.752862</td>\n",
       "      <td>0.554022</td>\n",
       "      <td>0.516811</td>\n",
       "      <td>0.691398</td>\n",
       "      <td>0.605958</td>\n",
       "      <td>0.877901</td>\n",
       "      <td>1.000000</td>\n",
       "      <td>0.707774</td>\n",
       "      <td>0.536965</td>\n",
       "      <td>0.562359</td>\n",
       "    </tr>\n",
       "    <tr>\n",
       "      <th>spanish</th>\n",
       "      <td>0.807694</td>\n",
       "      <td>0.604000</td>\n",
       "      <td>0.803637</td>\n",
       "      <td>0.603526</td>\n",
       "      <td>0.727409</td>\n",
       "      <td>0.817541</td>\n",
       "      <td>0.837448</td>\n",
       "      <td>0.678865</td>\n",
       "      <td>0.630921</td>\n",
       "      <td>0.858166</td>\n",
       "      <td>0.751672</td>\n",
       "      <td>0.547336</td>\n",
       "      <td>0.582969</td>\n",
       "      <td>0.739874</td>\n",
       "      <td>0.784612</td>\n",
       "      <td>0.702752</td>\n",
       "      <td>0.707774</td>\n",
       "      <td>1.000000</td>\n",
       "      <td>0.606200</td>\n",
       "      <td>0.614200</td>\n",
       "    </tr>\n",
       "    <tr>\n",
       "      <th>thai</th>\n",
       "      <td>0.685539</td>\n",
       "      <td>0.445518</td>\n",
       "      <td>0.590103</td>\n",
       "      <td>0.755813</td>\n",
       "      <td>0.741512</td>\n",
       "      <td>0.548375</td>\n",
       "      <td>0.519004</td>\n",
       "      <td>0.627460</td>\n",
       "      <td>0.449931</td>\n",
       "      <td>0.555088</td>\n",
       "      <td>0.650898</td>\n",
       "      <td>0.682604</td>\n",
       "      <td>0.671054</td>\n",
       "      <td>0.617627</td>\n",
       "      <td>0.533128</td>\n",
       "      <td>0.494331</td>\n",
       "      <td>0.536965</td>\n",
       "      <td>0.606200</td>\n",
       "      <td>1.000000</td>\n",
       "      <td>0.914986</td>\n",
       "    </tr>\n",
       "    <tr>\n",
       "      <th>vietnamese</th>\n",
       "      <td>0.653801</td>\n",
       "      <td>0.478901</td>\n",
       "      <td>0.605224</td>\n",
       "      <td>0.817005</td>\n",
       "      <td>0.806833</td>\n",
       "      <td>0.570925</td>\n",
       "      <td>0.538683</td>\n",
       "      <td>0.605162</td>\n",
       "      <td>0.481712</td>\n",
       "      <td>0.571096</td>\n",
       "      <td>0.664175</td>\n",
       "      <td>0.738413</td>\n",
       "      <td>0.747119</td>\n",
       "      <td>0.623531</td>\n",
       "      <td>0.553375</td>\n",
       "      <td>0.539100</td>\n",
       "      <td>0.562359</td>\n",
       "      <td>0.614200</td>\n",
       "      <td>0.914986</td>\n",
       "      <td>1.000000</td>\n",
       "    </tr>\n",
       "  </tbody>\n",
       "</table>\n",
       "</div>"
      ],
      "text/plain": [
       "cuisine       brazilian   british  cajun_creole   chinese  filipino    french  \\\n",
       "cuisine                                                                         \n",
       "brazilian      1.000000  0.660232      0.742324  0.580756  0.769216  0.756392   \n",
       "british        0.660232  1.000000      0.591230  0.467640  0.631356  0.859609   \n",
       "cajun_creole   0.742324  0.591230      1.000000  0.605581  0.746151  0.708849   \n",
       "chinese        0.580756  0.467640      0.605581  1.000000  0.839803  0.540446   \n",
       "filipino       0.769216  0.631356      0.746151  0.839803  1.000000  0.682939   \n",
       "french         0.756392  0.859609      0.708849  0.540446  0.682939  1.000000   \n",
       "greek          0.695692  0.562750      0.688391  0.496090  0.607436  0.759936   \n",
       "indian         0.687271  0.560349      0.618955  0.553532  0.655934  0.624868   \n",
       "irish          0.665713  0.926682      0.635197  0.460746  0.641010  0.837384   \n",
       "italian        0.740527  0.632618      0.738159  0.555504  0.670628  0.835272   \n",
       "jamaican       0.778320  0.662057      0.780897  0.635953  0.792723  0.723225   \n",
       "japanese       0.555601  0.508296      0.532394  0.835587  0.748558  0.540279   \n",
       "korean         0.571440  0.447177      0.578645  0.866828  0.782623  0.502205   \n",
       "mexican        0.743736  0.560446      0.724877  0.561837  0.678302  0.666830   \n",
       "moroccan       0.669009  0.543260      0.649831  0.505655  0.614984  0.685384   \n",
       "russian        0.706087  0.909551      0.657802  0.521844  0.697000  0.881173   \n",
       "southern_us    0.743156  0.911271      0.747480  0.558514  0.720368  0.862062   \n",
       "spanish        0.807694  0.604000      0.803637  0.603526  0.727409  0.817541   \n",
       "thai           0.685539  0.445518      0.590103  0.755813  0.741512  0.548375   \n",
       "vietnamese     0.653801  0.478901      0.605224  0.817005  0.806833  0.570925   \n",
       "\n",
       "cuisine          greek    indian     irish   italian  jamaican  japanese  \\\n",
       "cuisine                                                                    \n",
       "brazilian     0.695692  0.687271  0.665713  0.740527  0.778320  0.555601   \n",
       "british       0.562750  0.560349  0.926682  0.632618  0.662057  0.508296   \n",
       "cajun_creole  0.688391  0.618955  0.635197  0.738159  0.780897  0.532394   \n",
       "chinese       0.496090  0.553532  0.460746  0.555504  0.635953  0.835587   \n",
       "filipino      0.607436  0.655934  0.641010  0.670628  0.792723  0.748558   \n",
       "french        0.759936  0.624868  0.837384  0.835272  0.723225  0.540279   \n",
       "greek         1.000000  0.640297  0.583675  0.859270  0.681281  0.469465   \n",
       "indian        0.640297  1.000000  0.577338  0.616211  0.734926  0.567993   \n",
       "irish         0.583675  0.577338  1.000000  0.649878  0.680914  0.494762   \n",
       "italian       0.859270  0.616211  0.649878  1.000000  0.695768  0.510280   \n",
       "jamaican      0.681281  0.734926  0.680914  0.695768  1.000000  0.584689   \n",
       "japanese      0.469465  0.567993  0.494762  0.510280  0.584689  1.000000   \n",
       "korean        0.479835  0.538853  0.458798  0.522568  0.609203  0.819828   \n",
       "mexican       0.696644  0.708621  0.591718  0.733959  0.731859  0.506539   \n",
       "moroccan      0.769412  0.795271  0.563303  0.709827  0.757462  0.477401   \n",
       "russian       0.649530  0.607432  0.892428  0.697593  0.684492  0.557275   \n",
       "southern_us   0.641229  0.617278  0.902850  0.718945  0.752862  0.554022   \n",
       "spanish       0.837448  0.678865  0.630921  0.858166  0.751672  0.547336   \n",
       "thai          0.519004  0.627460  0.449931  0.555088  0.650898  0.682604   \n",
       "vietnamese    0.538683  0.605162  0.481712  0.571096  0.664175  0.738413   \n",
       "\n",
       "cuisine         korean   mexican  moroccan   russian  southern_us   spanish  \\\n",
       "cuisine                                                                       \n",
       "brazilian     0.571440  0.743736  0.669009  0.706087     0.743156  0.807694   \n",
       "british       0.447177  0.560446  0.543260  0.909551     0.911271  0.604000   \n",
       "cajun_creole  0.578645  0.724877  0.649831  0.657802     0.747480  0.803637   \n",
       "chinese       0.866828  0.561837  0.505655  0.521844     0.558514  0.603526   \n",
       "filipino      0.782623  0.678302  0.614984  0.697000     0.720368  0.727409   \n",
       "french        0.502205  0.666830  0.685384  0.881173     0.862062  0.817541   \n",
       "greek         0.479835  0.696644  0.769412  0.649530     0.641229  0.837448   \n",
       "indian        0.538853  0.708621  0.795271  0.607432     0.617278  0.678865   \n",
       "irish         0.458798  0.591718  0.563303  0.892428     0.902850  0.630921   \n",
       "italian       0.522568  0.733959  0.709827  0.697593     0.718945  0.858166   \n",
       "jamaican      0.609203  0.731859  0.757462  0.684492     0.752862  0.751672   \n",
       "japanese      0.819828  0.506539  0.477401  0.557275     0.554022  0.547336   \n",
       "korean        1.000000  0.516461  0.477964  0.517680     0.516811  0.582969   \n",
       "mexican       0.516461  1.000000  0.697442  0.630541     0.691398  0.739874   \n",
       "moroccan      0.477964  0.697442  1.000000  0.608343     0.605958  0.784612   \n",
       "russian       0.517680  0.630541  0.608343  1.000000     0.877901  0.702752   \n",
       "southern_us   0.516811  0.691398  0.605958  0.877901     1.000000  0.707774   \n",
       "spanish       0.582969  0.739874  0.784612  0.702752     0.707774  1.000000   \n",
       "thai          0.671054  0.617627  0.533128  0.494331     0.536965  0.606200   \n",
       "vietnamese    0.747119  0.623531  0.553375  0.539100     0.562359  0.614200   \n",
       "\n",
       "cuisine           thai  vietnamese  \n",
       "cuisine                             \n",
       "brazilian     0.685539    0.653801  \n",
       "british       0.445518    0.478901  \n",
       "cajun_creole  0.590103    0.605224  \n",
       "chinese       0.755813    0.817005  \n",
       "filipino      0.741512    0.806833  \n",
       "french        0.548375    0.570925  \n",
       "greek         0.519004    0.538683  \n",
       "indian        0.627460    0.605162  \n",
       "irish         0.449931    0.481712  \n",
       "italian       0.555088    0.571096  \n",
       "jamaican      0.650898    0.664175  \n",
       "japanese      0.682604    0.738413  \n",
       "korean        0.671054    0.747119  \n",
       "mexican       0.617627    0.623531  \n",
       "moroccan      0.533128    0.553375  \n",
       "russian       0.494331    0.539100  \n",
       "southern_us   0.536965    0.562359  \n",
       "spanish       0.606200    0.614200  \n",
       "thai          1.000000    0.914986  \n",
       "vietnamese    0.914986    1.000000  "
      ]
     },
     "execution_count": 11,
     "metadata": {},
     "output_type": "execute_result"
    }
   ],
   "source": [
    "# convert the results to a DataFrame\n",
    "cuisine_list = cuisine_ingredients.index\n",
    "cuisine_similarity = pd.DataFrame(cuisine_similarity, index=cuisine_list, columns=cuisine_list)\n",
    "cuisine_similarity"
   ]
  },
  {
   "cell_type": "code",
   "execution_count": 19,
   "id": "8100b6b3",
   "metadata": {},
   "outputs": [
    {
     "data": {
      "text/plain": [
       "<AxesSubplot:xlabel='cuisine', ylabel='cuisine'>"
      ]
     },
     "execution_count": 19,
     "metadata": {},
     "output_type": "execute_result"
    },
    {
     "data": {
      "image/png": "[encoded data removed]",
      "text/plain": [
       "<Figure size 640x480 with 2 Axes>"
      ]
     },
     "metadata": {},
     "output_type": "display_data"
    }
   ],
   "source": [
    "# create a heatmap\n",
    "%matplotlib inline\n",
    "import seaborn as sns\n",
    "sns.heatmap(cuisine_similarity, cmap='Purples')"
   ]
  },
  {
   "cell_type": "markdown",
   "id": "59c1f29e",
   "metadata": {},
   "source": [
    "- 颜色越深，代表相关性越高"
   ]
  },
  {
   "cell_type": "code",
   "execution_count": 20,
   "id": "b6ebac24",
   "metadata": {},
   "outputs": [],
   "source": [
    "#根据上图相关性，大致手动分出来4组\n",
    "group_1 = ['chinese', 'filipino', 'japanese', 'korean', 'thai', 'vietnamese']\n",
    "group_2 = ['british', 'french', 'irish', 'russian', 'southern_us']\n",
    "group_3 = ['greek', 'italian', 'moroccan', 'spanish']\n",
    "group_4 = ['brazilian', 'cajun_creole', 'indian', 'jamaican', 'mexican']"
   ]
  },
  {
   "cell_type": "code",
   "execution_count": 21,
   "id": "646c744c",
   "metadata": {},
   "outputs": [
    {
     "data": {
      "text/plain": [
       "{'chinese': 1,\n",
       " 'filipino': 1,\n",
       " 'japanese': 1,\n",
       " 'korean': 1,\n",
       " 'thai': 1,\n",
       " 'vietnamese': 1,\n",
       " 'british': 2,\n",
       " 'french': 2,\n",
       " 'irish': 2,\n",
       " 'russian': 2,\n",
       " 'southern_us': 2,\n",
       " 'greek': 3,\n",
       " 'italian': 3,\n",
       " 'moroccan': 3,\n",
       " 'spanish': 3,\n",
       " 'brazilian': 4,\n",
       " 'cajun_creole': 4,\n",
       " 'indian': 4,\n",
       " 'jamaican': 4,\n",
       " 'mexican': 4}"
      ]
     },
     "execution_count": 21,
     "metadata": {},
     "output_type": "execute_result"
    }
   ],
   "source": [
    "# create a dictionary that maps each cuisine to its group number 用于在原df中标号\n",
    "cuisines = group_1 + group_2 + group_3 + group_4\n",
    "group_numbers = [1]*len(group_1) + [2]*len(group_2) + [3]*len(group_3) + [4]*len(group_4)\n",
    "cuisine_to_group = dict(zip(cuisines, group_numbers))\n",
    "cuisine_to_group"
   ]
  },
  {
   "cell_type": "code",
   "execution_count": 22,
   "id": "99ee12d4",
   "metadata": {},
   "outputs": [
    {
     "data": {
      "text/html": [
       "<div>\n",
       "<style scoped>\n",
       "    .dataframe tbody tr th:only-of-type {\n",
       "        vertical-align: middle;\n",
       "    }\n",
       "\n",
       "    .dataframe tbody tr th {\n",
       "        vertical-align: top;\n",
       "    }\n",
       "\n",
       "    .dataframe thead th {\n",
       "        text-align: right;\n",
       "    }\n",
       "</style>\n",
       "<table border=\"1\" class=\"dataframe\">\n",
       "  <thead>\n",
       "    <tr style=\"text-align: right;\">\n",
       "      <th></th>\n",
       "      <th>id</th>\n",
       "      <th>cuisine</th>\n",
       "      <th>ingredients</th>\n",
       "      <th>num_ingredients</th>\n",
       "      <th>ingredients_length_mean</th>\n",
       "      <th>ingredients_length_sum</th>\n",
       "      <th>ingredients_str</th>\n",
       "      <th>group</th>\n",
       "    </tr>\n",
       "  </thead>\n",
       "  <tbody>\n",
       "    <tr>\n",
       "      <th>0</th>\n",
       "      <td>10259</td>\n",
       "      <td>greek</td>\n",
       "      <td>[romaine lettuce, black olives, grape tomatoes...</td>\n",
       "      <td>9</td>\n",
       "      <td>12.000000</td>\n",
       "      <td>108</td>\n",
       "      <td>['romaine lettuce', 'black olives', 'grape tom...</td>\n",
       "      <td>3</td>\n",
       "    </tr>\n",
       "    <tr>\n",
       "      <th>1</th>\n",
       "      <td>25693</td>\n",
       "      <td>southern_us</td>\n",
       "      <td>[plain flour, ground pepper, salt, tomatoes, g...</td>\n",
       "      <td>11</td>\n",
       "      <td>10.090909</td>\n",
       "      <td>111</td>\n",
       "      <td>['plain flour', 'ground pepper', 'salt', 'toma...</td>\n",
       "      <td>2</td>\n",
       "    </tr>\n",
       "    <tr>\n",
       "      <th>2</th>\n",
       "      <td>20130</td>\n",
       "      <td>filipino</td>\n",
       "      <td>[eggs, pepper, salt, mayonaise, cooking oil, g...</td>\n",
       "      <td>12</td>\n",
       "      <td>10.333333</td>\n",
       "      <td>124</td>\n",
       "      <td>['eggs', 'pepper', 'salt', 'mayonaise', 'cooki...</td>\n",
       "      <td>1</td>\n",
       "    </tr>\n",
       "    <tr>\n",
       "      <th>3</th>\n",
       "      <td>22213</td>\n",
       "      <td>indian</td>\n",
       "      <td>[water, vegetable oil, wheat, salt]</td>\n",
       "      <td>4</td>\n",
       "      <td>6.750000</td>\n",
       "      <td>27</td>\n",
       "      <td>['water', 'vegetable oil', 'wheat', 'salt']</td>\n",
       "      <td>4</td>\n",
       "    </tr>\n",
       "    <tr>\n",
       "      <th>4</th>\n",
       "      <td>13162</td>\n",
       "      <td>indian</td>\n",
       "      <td>[black pepper, shallots, cornflour, cayenne pe...</td>\n",
       "      <td>20</td>\n",
       "      <td>10.100000</td>\n",
       "      <td>202</td>\n",
       "      <td>['black pepper', 'shallots', 'cornflour', 'cay...</td>\n",
       "      <td>4</td>\n",
       "    </tr>\n",
       "  </tbody>\n",
       "</table>\n",
       "</div>"
      ],
      "text/plain": [
       "      id      cuisine                                        ingredients  \\\n",
       "0  10259        greek  [romaine lettuce, black olives, grape tomatoes...   \n",
       "1  25693  southern_us  [plain flour, ground pepper, salt, tomatoes, g...   \n",
       "2  20130     filipino  [eggs, pepper, salt, mayonaise, cooking oil, g...   \n",
       "3  22213       indian                [water, vegetable oil, wheat, salt]   \n",
       "4  13162       indian  [black pepper, shallots, cornflour, cayenne pe...   \n",
       "\n",
       "   num_ingredients  ingredients_length_mean  ingredients_length_sum  \\\n",
       "0                9                12.000000                     108   \n",
       "1               11                10.090909                     111   \n",
       "2               12                10.333333                     124   \n",
       "3                4                 6.750000                      27   \n",
       "4               20                10.100000                     202   \n",
       "\n",
       "                                     ingredients_str  group  \n",
       "0  ['romaine lettuce', 'black olives', 'grape tom...      3  \n",
       "1  ['plain flour', 'ground pepper', 'salt', 'toma...      2  \n",
       "2  ['eggs', 'pepper', 'salt', 'mayonaise', 'cooki...      1  \n",
       "3        ['water', 'vegetable oil', 'wheat', 'salt']      4  \n",
       "4  ['black pepper', 'shallots', 'cornflour', 'cay...      4  "
      ]
     },
     "execution_count": 22,
     "metadata": {},
     "output_type": "execute_result"
    }
   ],
   "source": [
    "#map the cuisines to their group numbers\n",
    "train['group'] = train.cuisine.map(cuisine_to_group)\n",
    "train.head()"
   ]
  },
  {
   "cell_type": "code",
   "execution_count": 23,
   "id": "3459face",
   "metadata": {},
   "outputs": [
    {
     "data": {
      "text/plain": [
       "0"
      ]
     },
     "execution_count": 23,
     "metadata": {},
     "output_type": "execute_result"
    }
   ],
   "source": [
    "train.group.isnull().sum() #检查是不是都已经被成功分组了"
   ]
  },
  {
   "cell_type": "markdown",
   "id": "1e31dfd1",
   "metadata": {},
   "source": [
    "- 任务1：用ingredients_str列的CountVectorizer之后，预测which group (1,2,3,4)"
   ]
  },
  {
   "cell_type": "code",
   "execution_count": 91,
   "id": "9871c02c",
   "metadata": {},
   "outputs": [
    {
     "data": {
      "text/plain": [
       "[('countvectorizer', CountVectorizer()),\n",
       " ('logisticregression', LogisticRegression(solver='liblinear'))]"
      ]
     },
     "execution_count": 91,
     "metadata": {},
     "output_type": "execute_result"
    }
   ],
   "source": [
    "from sklearn.pipeline import make_pipeline\n",
    "from sklearn.feature_extraction.text import CountVectorizer\n",
    "from sklearn.linear_model import LogisticRegression\n",
    "from sklearn.model_selection import cross_val_score\n",
    "X = train.ingredients_str #这里不再用整体进行train了\n",
    "y = train.group\n",
    "pipe_main = make_pipeline(CountVectorizer(), LogisticRegression(solver='liblinear'))\n",
    "\n",
    "pipe_main.steps"
   ]
  },
  {
   "cell_type": "code",
   "execution_count": 55,
   "id": "a1921c0d",
   "metadata": {},
   "outputs": [
    {
     "name": "stderr",
     "output_type": "stream",
     "text": [
      "D:\\anaconda\\lib\\site-packages\\sklearn\\linear_model\\_logistic.py:814: ConvergenceWarning: lbfgs failed to converge (status=1):\n",
      "STOP: TOTAL NO. of ITERATIONS REACHED LIMIT.\n",
      "\n",
      "Increase the number of iterations (max_iter) or scale the data as shown in:\n",
      "    https://scikit-learn.org/stable/modules/preprocessing.html\n",
      "Please also refer to the documentation for alternative solver options:\n",
      "    https://scikit-learn.org/stable/modules/linear_model.html#logistic-regression\n",
      "  n_iter_i = _check_optimize_result(\n",
      "D:\\anaconda\\lib\\site-packages\\sklearn\\linear_model\\_logistic.py:814: ConvergenceWarning: lbfgs failed to converge (status=1):\n",
      "STOP: TOTAL NO. of ITERATIONS REACHED LIMIT.\n",
      "\n",
      "Increase the number of iterations (max_iter) or scale the data as shown in:\n",
      "    https://scikit-learn.org/stable/modules/preprocessing.html\n",
      "Please also refer to the documentation for alternative solver options:\n",
      "    https://scikit-learn.org/stable/modules/linear_model.html#logistic-regression\n",
      "  n_iter_i = _check_optimize_result(\n",
      "D:\\anaconda\\lib\\site-packages\\sklearn\\linear_model\\_logistic.py:814: ConvergenceWarning: lbfgs failed to converge (status=1):\n",
      "STOP: TOTAL NO. of ITERATIONS REACHED LIMIT.\n",
      "\n",
      "Increase the number of iterations (max_iter) or scale the data as shown in:\n",
      "    https://scikit-learn.org/stable/modules/preprocessing.html\n",
      "Please also refer to the documentation for alternative solver options:\n",
      "    https://scikit-learn.org/stable/modules/linear_model.html#logistic-regression\n",
      "  n_iter_i = _check_optimize_result(\n",
      "D:\\anaconda\\lib\\site-packages\\sklearn\\linear_model\\_logistic.py:814: ConvergenceWarning: lbfgs failed to converge (status=1):\n",
      "STOP: TOTAL NO. of ITERATIONS REACHED LIMIT.\n",
      "\n",
      "Increase the number of iterations (max_iter) or scale the data as shown in:\n",
      "    https://scikit-learn.org/stable/modules/preprocessing.html\n",
      "Please also refer to the documentation for alternative solver options:\n",
      "    https://scikit-learn.org/stable/modules/linear_model.html#logistic-regression\n",
      "  n_iter_i = _check_optimize_result(\n",
      "D:\\anaconda\\lib\\site-packages\\sklearn\\linear_model\\_logistic.py:814: ConvergenceWarning: lbfgs failed to converge (status=1):\n",
      "STOP: TOTAL NO. of ITERATIONS REACHED LIMIT.\n",
      "\n",
      "Increase the number of iterations (max_iter) or scale the data as shown in:\n",
      "    https://scikit-learn.org/stable/modules/preprocessing.html\n",
      "Please also refer to the documentation for alternative solver options:\n",
      "    https://scikit-learn.org/stable/modules/linear_model.html#logistic-regression\n",
      "  n_iter_i = _check_optimize_result(\n",
      "D:\\anaconda\\lib\\site-packages\\sklearn\\linear_model\\_logistic.py:814: ConvergenceWarning: lbfgs failed to converge (status=1):\n",
      "STOP: TOTAL NO. of ITERATIONS REACHED LIMIT.\n",
      "\n",
      "Increase the number of iterations (max_iter) or scale the data as shown in:\n",
      "    https://scikit-learn.org/stable/modules/preprocessing.html\n",
      "Please also refer to the documentation for alternative solver options:\n",
      "    https://scikit-learn.org/stable/modules/linear_model.html#logistic-regression\n",
      "  n_iter_i = _check_optimize_result(\n",
      "D:\\anaconda\\lib\\site-packages\\sklearn\\linear_model\\_logistic.py:814: ConvergenceWarning: lbfgs failed to converge (status=1):\n",
      "STOP: TOTAL NO. of ITERATIONS REACHED LIMIT.\n",
      "\n",
      "Increase the number of iterations (max_iter) or scale the data as shown in:\n",
      "    https://scikit-learn.org/stable/modules/preprocessing.html\n",
      "Please also refer to the documentation for alternative solver options:\n",
      "    https://scikit-learn.org/stable/modules/linear_model.html#logistic-regression\n",
      "  n_iter_i = _check_optimize_result(\n",
      "D:\\anaconda\\lib\\site-packages\\sklearn\\linear_model\\_logistic.py:814: ConvergenceWarning: lbfgs failed to converge (status=1):\n",
      "STOP: TOTAL NO. of ITERATIONS REACHED LIMIT.\n",
      "\n",
      "Increase the number of iterations (max_iter) or scale the data as shown in:\n",
      "    https://scikit-learn.org/stable/modules/preprocessing.html\n",
      "Please also refer to the documentation for alternative solver options:\n",
      "    https://scikit-learn.org/stable/modules/linear_model.html#logistic-regression\n",
      "  n_iter_i = _check_optimize_result(\n",
      "D:\\anaconda\\lib\\site-packages\\sklearn\\linear_model\\_logistic.py:814: ConvergenceWarning: lbfgs failed to converge (status=1):\n",
      "STOP: TOTAL NO. of ITERATIONS REACHED LIMIT.\n",
      "\n",
      "Increase the number of iterations (max_iter) or scale the data as shown in:\n",
      "    https://scikit-learn.org/stable/modules/preprocessing.html\n",
      "Please also refer to the documentation for alternative solver options:\n",
      "    https://scikit-learn.org/stable/modules/linear_model.html#logistic-regression\n",
      "  n_iter_i = _check_optimize_result(\n",
      "D:\\anaconda\\lib\\site-packages\\sklearn\\linear_model\\_logistic.py:814: ConvergenceWarning: lbfgs failed to converge (status=1):\n",
      "STOP: TOTAL NO. of ITERATIONS REACHED LIMIT.\n",
      "\n",
      "Increase the number of iterations (max_iter) or scale the data as shown in:\n",
      "    https://scikit-learn.org/stable/modules/preprocessing.html\n",
      "Please also refer to the documentation for alternative solver options:\n",
      "    https://scikit-learn.org/stable/modules/linear_model.html#logistic-regression\n",
      "  n_iter_i = _check_optimize_result(\n",
      "D:\\anaconda\\lib\\site-packages\\sklearn\\linear_model\\_logistic.py:814: ConvergenceWarning: lbfgs failed to converge (status=1):\n",
      "STOP: TOTAL NO. of ITERATIONS REACHED LIMIT.\n",
      "\n",
      "Increase the number of iterations (max_iter) or scale the data as shown in:\n",
      "    https://scikit-learn.org/stable/modules/preprocessing.html\n",
      "Please also refer to the documentation for alternative solver options:\n",
      "    https://scikit-learn.org/stable/modules/linear_model.html#logistic-regression\n",
      "  n_iter_i = _check_optimize_result(\n",
      "D:\\anaconda\\lib\\site-packages\\sklearn\\linear_model\\_logistic.py:814: ConvergenceWarning: lbfgs failed to converge (status=1):\n",
      "STOP: TOTAL NO. of ITERATIONS REACHED LIMIT.\n",
      "\n",
      "Increase the number of iterations (max_iter) or scale the data as shown in:\n",
      "    https://scikit-learn.org/stable/modules/preprocessing.html\n",
      "Please also refer to the documentation for alternative solver options:\n",
      "    https://scikit-learn.org/stable/modules/linear_model.html#logistic-regression\n",
      "  n_iter_i = _check_optimize_result(\n",
      "D:\\anaconda\\lib\\site-packages\\sklearn\\linear_model\\_logistic.py:814: ConvergenceWarning: lbfgs failed to converge (status=1):\n",
      "STOP: TOTAL NO. of ITERATIONS REACHED LIMIT.\n",
      "\n",
      "Increase the number of iterations (max_iter) or scale the data as shown in:\n",
      "    https://scikit-learn.org/stable/modules/preprocessing.html\n",
      "Please also refer to the documentation for alternative solver options:\n",
      "    https://scikit-learn.org/stable/modules/linear_model.html#logistic-regression\n",
      "  n_iter_i = _check_optimize_result(\n",
      "D:\\anaconda\\lib\\site-packages\\sklearn\\linear_model\\_logistic.py:814: ConvergenceWarning: lbfgs failed to converge (status=1):\n",
      "STOP: TOTAL NO. of ITERATIONS REACHED LIMIT.\n",
      "\n",
      "Increase the number of iterations (max_iter) or scale the data as shown in:\n",
      "    https://scikit-learn.org/stable/modules/preprocessing.html\n",
      "Please also refer to the documentation for alternative solver options:\n",
      "    https://scikit-learn.org/stable/modules/linear_model.html#logistic-regression\n",
      "  n_iter_i = _check_optimize_result(\n",
      "D:\\anaconda\\lib\\site-packages\\sklearn\\linear_model\\_logistic.py:814: ConvergenceWarning: lbfgs failed to converge (status=1):\n",
      "STOP: TOTAL NO. of ITERATIONS REACHED LIMIT.\n",
      "\n",
      "Increase the number of iterations (max_iter) or scale the data as shown in:\n",
      "    https://scikit-learn.org/stable/modules/preprocessing.html\n",
      "Please also refer to the documentation for alternative solver options:\n",
      "    https://scikit-learn.org/stable/modules/linear_model.html#logistic-regression\n",
      "  n_iter_i = _check_optimize_result(\n",
      "D:\\anaconda\\lib\\site-packages\\sklearn\\linear_model\\_logistic.py:814: ConvergenceWarning: lbfgs failed to converge (status=1):\n",
      "STOP: TOTAL NO. of ITERATIONS REACHED LIMIT.\n",
      "\n",
      "Increase the number of iterations (max_iter) or scale the data as shown in:\n",
      "    https://scikit-learn.org/stable/modules/preprocessing.html\n",
      "Please also refer to the documentation for alternative solver options:\n",
      "    https://scikit-learn.org/stable/modules/linear_model.html#logistic-regression\n",
      "  n_iter_i = _check_optimize_result(\n",
      "D:\\anaconda\\lib\\site-packages\\sklearn\\linear_model\\_logistic.py:814: ConvergenceWarning: lbfgs failed to converge (status=1):\n",
      "STOP: TOTAL NO. of ITERATIONS REACHED LIMIT.\n",
      "\n",
      "Increase the number of iterations (max_iter) or scale the data as shown in:\n",
      "    https://scikit-learn.org/stable/modules/preprocessing.html\n",
      "Please also refer to the documentation for alternative solver options:\n",
      "    https://scikit-learn.org/stable/modules/linear_model.html#logistic-regression\n",
      "  n_iter_i = _check_optimize_result(\n"
     ]
    },
    {
     "name": "stderr",
     "output_type": "stream",
     "text": [
      "D:\\anaconda\\lib\\site-packages\\sklearn\\linear_model\\_logistic.py:814: ConvergenceWarning: lbfgs failed to converge (status=1):\n",
      "STOP: TOTAL NO. of ITERATIONS REACHED LIMIT.\n",
      "\n",
      "Increase the number of iterations (max_iter) or scale the data as shown in:\n",
      "    https://scikit-learn.org/stable/modules/preprocessing.html\n",
      "Please also refer to the documentation for alternative solver options:\n",
      "    https://scikit-learn.org/stable/modules/linear_model.html#logistic-regression\n",
      "  n_iter_i = _check_optimize_result(\n",
      "D:\\anaconda\\lib\\site-packages\\sklearn\\linear_model\\_logistic.py:814: ConvergenceWarning: lbfgs failed to converge (status=1):\n",
      "STOP: TOTAL NO. of ITERATIONS REACHED LIMIT.\n",
      "\n",
      "Increase the number of iterations (max_iter) or scale the data as shown in:\n",
      "    https://scikit-learn.org/stable/modules/preprocessing.html\n",
      "Please also refer to the documentation for alternative solver options:\n",
      "    https://scikit-learn.org/stable/modules/linear_model.html#logistic-regression\n",
      "  n_iter_i = _check_optimize_result(\n",
      "D:\\anaconda\\lib\\site-packages\\sklearn\\linear_model\\_logistic.py:814: ConvergenceWarning: lbfgs failed to converge (status=1):\n",
      "STOP: TOTAL NO. of ITERATIONS REACHED LIMIT.\n",
      "\n",
      "Increase the number of iterations (max_iter) or scale the data as shown in:\n",
      "    https://scikit-learn.org/stable/modules/preprocessing.html\n",
      "Please also refer to the documentation for alternative solver options:\n",
      "    https://scikit-learn.org/stable/modules/linear_model.html#logistic-regression\n",
      "  n_iter_i = _check_optimize_result(\n",
      "D:\\anaconda\\lib\\site-packages\\sklearn\\linear_model\\_logistic.py:814: ConvergenceWarning: lbfgs failed to converge (status=1):\n",
      "STOP: TOTAL NO. of ITERATIONS REACHED LIMIT.\n",
      "\n",
      "Increase the number of iterations (max_iter) or scale the data as shown in:\n",
      "    https://scikit-learn.org/stable/modules/preprocessing.html\n",
      "Please also refer to the documentation for alternative solver options:\n",
      "    https://scikit-learn.org/stable/modules/linear_model.html#logistic-regression\n",
      "  n_iter_i = _check_optimize_result(\n"
     ]
    },
    {
     "data": {
      "text/plain": [
       "GridSearchCV(cv=5,\n",
       "             estimator=Pipeline(steps=[('countvectorizer', CountVectorizer()),\n",
       "                                       ('logisticregression',\n",
       "                                        LogisticRegression())]),\n",
       "             param_grid={'countvectorizer__token_pattern': ['\\\\b\\\\w\\\\w+\\\\b',\n",
       "                                                            \"'([a-z ]+)'\"],\n",
       "                         'logisticregression__C': [0.5, 1]},\n",
       "             scoring='accuracy')"
      ]
     },
     "execution_count": 55,
     "metadata": {},
     "output_type": "execute_result"
    }
   ],
   "source": [
    "#简单调个参\n",
    "from sklearn.model_selection import GridSearchCV\n",
    "param_grid = {}\n",
    "param_grid['countvectorizer__token_pattern'] = [r\"\\b\\w\\w+\\b\", r\"'([a-z ]+)'\"]\n",
    "param_grid['logisticregression__C'] = [0.5,1]\n",
    "\n",
    "grid = GridSearchCV(pipe_main, param_grid, cv=5, scoring='accuracy')\n",
    "grid.fit(X,y)"
   ]
  },
  {
   "cell_type": "code",
   "execution_count": 56,
   "id": "8ce2d932",
   "metadata": {},
   "outputs": [
    {
     "name": "stdout",
     "output_type": "stream",
     "text": [
      "{'countvectorizer__token_pattern': '\\\\b\\\\w\\\\w+\\\\b', 'logisticregression__C': 0.5}\n",
      "0.8694373730028746\n"
     ]
    }
   ],
   "source": [
    "print(grid.best_params_)\n",
    "print(grid.best_score_)"
   ]
  },
  {
   "cell_type": "code",
   "execution_count": 57,
   "id": "103d0e19",
   "metadata": {},
   "outputs": [
    {
     "data": {
      "text/plain": [
       "Pipeline(steps=[('countvectorizer',\n",
       "                 CountVectorizer(token_pattern='\\\\b\\\\w\\\\w+\\\\b')),\n",
       "                ('logisticregression', LogisticRegression(C=0.5))])"
      ]
     },
     "execution_count": 57,
     "metadata": {},
     "output_type": "execute_result"
    }
   ],
   "source": [
    "grid.best_estimator_"
   ]
  },
  {
   "cell_type": "code",
   "execution_count": 92,
   "id": "ea3d5a5b",
   "metadata": {},
   "outputs": [
    {
     "data": {
      "text/plain": [
       "{'countvectorizer__token_pattern': ['\\\\b\\\\w\\\\w+\\\\b', \"'([a-z ]+)'\"],\n",
       " 'logisticregression__C': <scipy.stats._distn_infrastructure.rv_continuous_frozen at 0x203c2fe4c10>}"
      ]
     },
     "execution_count": 92,
     "metadata": {},
     "output_type": "execute_result"
    }
   ],
   "source": [
    "#试试RandomizedSearchCV\n",
    "from sklearn.model_selection import RandomizedSearchCV\n",
    "import scipy as sp\n",
    "param_grid = {}\n",
    "param_grid['countvectorizer__token_pattern'] = [r\"\\b\\w\\w+\\b\", r\"'([a-z ]+)'\"]\n",
    "param_grid['logisticregression__C'] = sp.stats.uniform(scale=1)\n",
    "param_grid"
   ]
  },
  {
   "cell_type": "code",
   "execution_count": 93,
   "id": "1a218fb2",
   "metadata": {},
   "outputs": [],
   "source": [
    "np.random.seed(1)"
   ]
  },
  {
   "cell_type": "code",
   "execution_count": 94,
   "id": "9f40bcfa",
   "metadata": {},
   "outputs": [],
   "source": [
    "rand = RandomizedSearchCV(pipe_main, param_grid, cv=5, scoring='accuracy', n_iter=5, random_state=1)"
   ]
  },
  {
   "cell_type": "code",
   "execution_count": 95,
   "id": "c4269cdb",
   "metadata": {},
   "outputs": [
    {
     "name": "stdout",
     "output_type": "stream",
     "text": [
      "Wall time: 21.7 s\n"
     ]
    },
    {
     "data": {
      "text/plain": [
       "RandomizedSearchCV(cv=5,\n",
       "                   estimator=Pipeline(steps=[('countvectorizer',\n",
       "                                              CountVectorizer()),\n",
       "                                             ('logisticregression',\n",
       "                                              LogisticRegression(solver='liblinear'))]),\n",
       "                   n_iter=5,\n",
       "                   param_distributions={'countvectorizer__token_pattern': ['\\\\b\\\\w\\\\w+\\\\b',\n",
       "                                                                           \"'([a-z \"\n",
       "                                                                           \"]+)'\"],\n",
       "                                        'logisticregression__C': <scipy.stats._distn_infrastructure.rv_continuous_frozen object at 0x00000203C2FE4C10>},\n",
       "                   random_state=1, scoring='accuracy')"
      ]
     },
     "execution_count": 95,
     "metadata": {},
     "output_type": "execute_result"
    }
   ],
   "source": [
    "%time rand.fit(X, y)"
   ]
  },
  {
   "cell_type": "code",
   "execution_count": 96,
   "id": "3dbc590e",
   "metadata": {},
   "outputs": [
    {
     "name": "stdout",
     "output_type": "stream",
     "text": [
      "0.8700659085151312\n",
      "{'countvectorizer__token_pattern': '\\\\b\\\\w\\\\w+\\\\b', 'logisticregression__C': 0.3879107411620074}\n"
     ]
    }
   ],
   "source": [
    "print(rand.best_score_)\n",
    "print(rand.best_params_)"
   ]
  },
  {
   "cell_type": "code",
   "execution_count": null,
   "id": "4c7f39f3",
   "metadata": {},
   "outputs": [],
   "source": []
  },
  {
   "cell_type": "markdown",
   "id": "d0b4da43",
   "metadata": {},
   "source": [
    "- 任务2：再在每组中预测exact type"
   ]
  },
  {
   "cell_type": "code",
   "execution_count": 58,
   "id": "d0bb2659",
   "metadata": {},
   "outputs": [],
   "source": [
    "# define an X and y for each cuisine group\n",
    "X1 = train.loc[train.group==1, 'ingredients_str']\n",
    "y1 = train.loc[train.group==1, 'cuisine']\n",
    "X2 = train.loc[train.group==2, 'ingredients_str']\n",
    "y2 = train.loc[train.group==2, 'cuisine']\n",
    "X3 = train.loc[train.group==3, 'ingredients_str']\n",
    "y3 = train.loc[train.group==3, 'cuisine']\n",
    "X4 = train.loc[train.group==4, 'ingredients_str']\n",
    "y4 = train.loc[train.group==4, 'cuisine']"
   ]
  },
  {
   "cell_type": "code",
   "execution_count": 98,
   "id": "783490a0",
   "metadata": {},
   "outputs": [],
   "source": [
    "# define a pipeline for each cuisine group\n",
    "pipe_1 = make_pipeline(CountVectorizer(token_pattern='\\\\b\\\\w\\\\w+\\\\b'), LogisticRegression(C=1,solver='liblinear'))\n",
    "pipe_2 = make_pipeline(CountVectorizer(token_pattern='\\\\b\\\\w\\\\w+\\\\b'), LogisticRegression(C=1,solver='liblinear'))\n",
    "pipe_3 = make_pipeline(CountVectorizer(token_pattern='\\\\b\\\\w\\\\w+\\\\b'), LogisticRegression(C=1,solver='liblinear'))\n",
    "pipe_4 = make_pipeline(CountVectorizer(token_pattern='\\\\b\\\\w\\\\w+\\\\b'), LogisticRegression(C=1,solver='liblinear'))"
   ]
  },
  {
   "cell_type": "code",
   "execution_count": 101,
   "id": "bc39e980",
   "metadata": {},
   "outputs": [
    {
     "data": {
      "text/plain": [
       "GridSearchCV(cv=5,\n",
       "             estimator=Pipeline(steps=[('countvectorizer',\n",
       "                                        CountVectorizer(token_pattern='\\\\b\\\\w\\\\w+\\\\b')),\n",
       "                                       ('logisticregression',\n",
       "                                        LogisticRegression(C=1,\n",
       "                                                           solver='liblinear'))]),\n",
       "             param_grid={'countvectorizer__token_pattern': ['\\\\b\\\\w\\\\w+\\\\b',\n",
       "                                                            \"'([a-z ]+)'\"],\n",
       "                         'logisticregression__C': [0.5, 1]},\n",
       "             scoring='accuracy')"
      ]
     },
     "execution_count": 101,
     "metadata": {},
     "output_type": "execute_result"
    }
   ],
   "source": [
    "param_grid = {}\n",
    "param_grid['countvectorizer__token_pattern'] = [r\"\\b\\w\\w+\\b\", r\"'([a-z ]+)'\"]\n",
    "param_grid['logisticregression__C'] = [0.5,1]\n",
    "\n",
    "grid_1 = GridSearchCV(pipe_1, param_grid, cv=5, scoring='accuracy')\n",
    "grid_1.fit(X1,y1)\n",
    "\n",
    "param_grid = {}\n",
    "param_grid['countvectorizer__token_pattern'] = [r\"\\b\\w\\w+\\b\", r\"'([a-z ]+)'\"]\n",
    "param_grid['logisticregression__C'] = [0.5,1]\n",
    "\n",
    "grid_2 = GridSearchCV(pipe_2, param_grid, cv=5, scoring='accuracy')\n",
    "grid_2.fit(X2,y2)\n",
    "\n",
    "param_grid = {}\n",
    "param_grid['countvectorizer__token_pattern'] = [r\"\\b\\w\\w+\\b\", r\"'([a-z ]+)'\"]\n",
    "param_grid['logisticregression__C'] = [0.5,1]\n",
    "\n",
    "grid_3 = GridSearchCV(pipe_3, param_grid, cv=5, scoring='accuracy')\n",
    "grid_3.fit(X3,y3)\n",
    "\n",
    "param_grid = {}\n",
    "param_grid['countvectorizer__token_pattern'] = [r\"\\b\\w\\w+\\b\", r\"'([a-z ]+)'\"]\n",
    "param_grid['logisticregression__C'] = [0.5,1]\n",
    "\n",
    "grid_4 = GridSearchCV(pipe_4, param_grid, cv=5, scoring='accuracy')\n",
    "grid_4.fit(X4,y4)"
   ]
  },
  {
   "cell_type": "code",
   "execution_count": 99,
   "id": "be2cf385",
   "metadata": {},
   "outputs": [
    {
     "data": {
      "text/plain": [
       "RandomizedSearchCV(cv=5,\n",
       "                   estimator=Pipeline(steps=[('countvectorizer',\n",
       "                                              CountVectorizer(token_pattern='\\\\b\\\\w\\\\w+\\\\b')),\n",
       "                                             ('logisticregression',\n",
       "                                              LogisticRegression(C=1,\n",
       "                                                                 solver='liblinear'))]),\n",
       "                   n_iter=5,\n",
       "                   param_distributions={'countvectorizer__token_pattern': ['\\\\b\\\\w\\\\w+\\\\b',\n",
       "                                                                           \"'([a-z \"\n",
       "                                                                           \"]+)'\"],\n",
       "                                        'logisticregression__C': <scipy.stats._distn_infrastructure.rv_continuous_frozen object at 0x00000203C3563550>},\n",
       "                   random_state=1, scoring='accuracy')"
      ]
     },
     "execution_count": 99,
     "metadata": {},
     "output_type": "execute_result"
    }
   ],
   "source": [
    "param_grid = {}\n",
    "param_grid['countvectorizer__token_pattern'] = [r\"\\b\\w\\w+\\b\", r\"'([a-z ]+)'\"]\n",
    "param_grid['logisticregression__C'] = sp.stats.uniform(scale=1)\n",
    "\n",
    "rand_1 = RandomizedSearchCV(pipe_1, param_grid, cv=5, scoring='accuracy', n_iter=5, random_state=1)\n",
    "rand_1.fit(X1,y1)\n",
    "\n",
    "rand_2 = RandomizedSearchCV(pipe_2, param_grid, cv=5, scoring='accuracy', n_iter=5, random_state=1)\n",
    "rand_2.fit(X2,y2)\n",
    "\n",
    "rand_3 = RandomizedSearchCV(pipe_3, param_grid, cv=5, scoring='accuracy', n_iter=5, random_state=1)\n",
    "rand_3.fit(X3,y3)\n",
    "\n",
    "rand_4 = RandomizedSearchCV(pipe_4, param_grid, cv=5, scoring='accuracy', n_iter=5, random_state=1)\n",
    "rand_4.fit(X4,y4)"
   ]
  },
  {
   "cell_type": "code",
   "execution_count": 102,
   "id": "d50f1aac",
   "metadata": {},
   "outputs": [
    {
     "name": "stdout",
     "output_type": "stream",
     "text": [
      "{'countvectorizer__token_pattern': '\\\\b\\\\w\\\\w+\\\\b', 'logisticregression__C': 1}\n",
      "0.8037290242386576\n",
      "{'countvectorizer__token_pattern': '\\\\b\\\\w\\\\w+\\\\b', 'logisticregression__C': 1}\n",
      "0.801927283791456\n",
      "{'countvectorizer__token_pattern': '\\\\b\\\\w\\\\w+\\\\b', 'logisticregression__C': 1}\n",
      "0.9073256692550362\n",
      "{'countvectorizer__token_pattern': '\\\\b\\\\w\\\\w+\\\\b', 'logisticregression__C': 1}\n",
      "0.9435726210350583\n"
     ]
    }
   ],
   "source": [
    "print(grid_1.best_params_)\n",
    "print(grid_1.best_score_)\n",
    "print(grid_2.best_params_)\n",
    "print(grid_2.best_score_)\n",
    "print(grid_3.best_params_)\n",
    "print(grid_3.best_score_)\n",
    "print(grid_4.best_params_)\n",
    "print(grid_4.best_score_)"
   ]
  },
  {
   "cell_type": "code",
   "execution_count": 100,
   "id": "438ecc31",
   "metadata": {},
   "outputs": [
    {
     "name": "stdout",
     "output_type": "stream",
     "text": [
      "{'countvectorizer__token_pattern': '\\\\b\\\\w\\\\w+\\\\b', 'logisticregression__C': 0.3879107411620074}\n",
      "0.800994406463642\n",
      "{'countvectorizer__token_pattern': '\\\\b\\\\w\\\\w+\\\\b', 'logisticregression__C': 0.3879107411620074}\n",
      "0.7957661362417306\n",
      "{'countvectorizer__token_pattern': '\\\\b\\\\w\\\\w+\\\\b', 'logisticregression__C': 0.3879107411620074}\n",
      "0.9048310587271027\n",
      "{'countvectorizer__token_pattern': '\\\\b\\\\w\\\\w+\\\\b', 'logisticregression__C': 0.3879107411620074}\n",
      "0.9413188647746245\n"
     ]
    }
   ],
   "source": [
    "print(rand_1.best_params_)\n",
    "print(rand_1.best_score_)\n",
    "print(rand_2.best_params_)\n",
    "print(rand_2.best_score_)\n",
    "print(rand_3.best_params_)\n",
    "print(rand_3.best_score_)\n",
    "print(rand_4.best_params_)\n",
    "print(rand_4.best_score_)"
   ]
  },
  {
   "cell_type": "code",
   "execution_count": 36,
   "id": "cfb2bd72",
   "metadata": {},
   "outputs": [
    {
     "name": "stdout",
     "output_type": "stream",
     "text": [
      "0.8037290242386576\n",
      "0.801927283791456\n",
      "0.9073256692550362\n",
      "0.9435726210350583\n"
     ]
    }
   ],
   "source": [
    "# within each cuisine group, calculate the cross-validated accuracy\n",
    "print(cross_val_score(pipe_1, X1, y1, cv=5, scoring='accuracy').mean())\n",
    "print(cross_val_score(pipe_2, X2, y2, cv=5, scoring='accuracy').mean())\n",
    "print(cross_val_score(pipe_3, X3, y3, cv=5, scoring='accuracy').mean())\n",
    "print(cross_val_score(pipe_4, X4, y4, cv=5, scoring='accuracy').mean())"
   ]
  },
  {
   "cell_type": "markdown",
   "id": "839bff37",
   "metadata": {},
   "source": [
    "### making predictions for the new data"
   ]
  },
  {
   "cell_type": "code",
   "execution_count": 37,
   "id": "f54ddd5e",
   "metadata": {},
   "outputs": [
    {
     "data": {
      "text/plain": [
       "Pipeline(steps=[('countvectorizer',\n",
       "                 CountVectorizer(token_pattern='\\\\b\\\\w\\\\w+\\\\b')),\n",
       "                ('logisticregression',\n",
       "                 LogisticRegression(C=1, solver='liblinear'))])"
      ]
     },
     "execution_count": 37,
     "metadata": {},
     "output_type": "execute_result"
    }
   ],
   "source": [
    "# fit each pipeline with the relevant X and y\n",
    "pipe_main.fit(X, y) #task 1\n",
    "pipe_1.fit(X1, y1) #task 2.1\n",
    "pipe_2.fit(X2, y2) #task 2.2\n",
    "pipe_3.fit(X3, y3) #task 2.3\n",
    "pipe_4.fit(X4, y4) #task 2.4"
   ]
  },
  {
   "cell_type": "code",
   "execution_count": 62,
   "id": "4c4b5ee0",
   "metadata": {},
   "outputs": [
    {
     "name": "stderr",
     "output_type": "stream",
     "text": [
      "D:\\anaconda\\lib\\site-packages\\sklearn\\linear_model\\_logistic.py:814: ConvergenceWarning: lbfgs failed to converge (status=1):\n",
      "STOP: TOTAL NO. of ITERATIONS REACHED LIMIT.\n",
      "\n",
      "Increase the number of iterations (max_iter) or scale the data as shown in:\n",
      "    https://scikit-learn.org/stable/modules/preprocessing.html\n",
      "Please also refer to the documentation for alternative solver options:\n",
      "    https://scikit-learn.org/stable/modules/linear_model.html#logistic-regression\n",
      "  n_iter_i = _check_optimize_result(\n",
      "D:\\anaconda\\lib\\site-packages\\sklearn\\linear_model\\_logistic.py:814: ConvergenceWarning: lbfgs failed to converge (status=1):\n",
      "STOP: TOTAL NO. of ITERATIONS REACHED LIMIT.\n",
      "\n",
      "Increase the number of iterations (max_iter) or scale the data as shown in:\n",
      "    https://scikit-learn.org/stable/modules/preprocessing.html\n",
      "Please also refer to the documentation for alternative solver options:\n",
      "    https://scikit-learn.org/stable/modules/linear_model.html#logistic-regression\n",
      "  n_iter_i = _check_optimize_result(\n",
      "D:\\anaconda\\lib\\site-packages\\sklearn\\linear_model\\_logistic.py:814: ConvergenceWarning: lbfgs failed to converge (status=1):\n",
      "STOP: TOTAL NO. of ITERATIONS REACHED LIMIT.\n",
      "\n",
      "Increase the number of iterations (max_iter) or scale the data as shown in:\n",
      "    https://scikit-learn.org/stable/modules/preprocessing.html\n",
      "Please also refer to the documentation for alternative solver options:\n",
      "    https://scikit-learn.org/stable/modules/linear_model.html#logistic-regression\n",
      "  n_iter_i = _check_optimize_result(\n",
      "D:\\anaconda\\lib\\site-packages\\sklearn\\linear_model\\_logistic.py:814: ConvergenceWarning: lbfgs failed to converge (status=1):\n",
      "STOP: TOTAL NO. of ITERATIONS REACHED LIMIT.\n",
      "\n",
      "Increase the number of iterations (max_iter) or scale the data as shown in:\n",
      "    https://scikit-learn.org/stable/modules/preprocessing.html\n",
      "Please also refer to the documentation for alternative solver options:\n",
      "    https://scikit-learn.org/stable/modules/linear_model.html#logistic-regression\n",
      "  n_iter_i = _check_optimize_result(\n",
      "D:\\anaconda\\lib\\site-packages\\sklearn\\linear_model\\_logistic.py:814: ConvergenceWarning: lbfgs failed to converge (status=1):\n",
      "STOP: TOTAL NO. of ITERATIONS REACHED LIMIT.\n",
      "\n",
      "Increase the number of iterations (max_iter) or scale the data as shown in:\n",
      "    https://scikit-learn.org/stable/modules/preprocessing.html\n",
      "Please also refer to the documentation for alternative solver options:\n",
      "    https://scikit-learn.org/stable/modules/linear_model.html#logistic-regression\n",
      "  n_iter_i = _check_optimize_result(\n",
      "D:\\anaconda\\lib\\site-packages\\sklearn\\linear_model\\_logistic.py:814: ConvergenceWarning: lbfgs failed to converge (status=1):\n",
      "STOP: TOTAL NO. of ITERATIONS REACHED LIMIT.\n",
      "\n",
      "Increase the number of iterations (max_iter) or scale the data as shown in:\n",
      "    https://scikit-learn.org/stable/modules/preprocessing.html\n",
      "Please also refer to the documentation for alternative solver options:\n",
      "    https://scikit-learn.org/stable/modules/linear_model.html#logistic-regression\n",
      "  n_iter_i = _check_optimize_result(\n",
      "D:\\anaconda\\lib\\site-packages\\sklearn\\linear_model\\_logistic.py:814: ConvergenceWarning: lbfgs failed to converge (status=1):\n",
      "STOP: TOTAL NO. of ITERATIONS REACHED LIMIT.\n",
      "\n",
      "Increase the number of iterations (max_iter) or scale the data as shown in:\n",
      "    https://scikit-learn.org/stable/modules/preprocessing.html\n",
      "Please also refer to the documentation for alternative solver options:\n",
      "    https://scikit-learn.org/stable/modules/linear_model.html#logistic-regression\n",
      "  n_iter_i = _check_optimize_result(\n",
      "D:\\anaconda\\lib\\site-packages\\sklearn\\linear_model\\_logistic.py:814: ConvergenceWarning: lbfgs failed to converge (status=1):\n",
      "STOP: TOTAL NO. of ITERATIONS REACHED LIMIT.\n",
      "\n",
      "Increase the number of iterations (max_iter) or scale the data as shown in:\n",
      "    https://scikit-learn.org/stable/modules/preprocessing.html\n",
      "Please also refer to the documentation for alternative solver options:\n",
      "    https://scikit-learn.org/stable/modules/linear_model.html#logistic-regression\n",
      "  n_iter_i = _check_optimize_result(\n",
      "D:\\anaconda\\lib\\site-packages\\sklearn\\linear_model\\_logistic.py:814: ConvergenceWarning: lbfgs failed to converge (status=1):\n",
      "STOP: TOTAL NO. of ITERATIONS REACHED LIMIT.\n",
      "\n",
      "Increase the number of iterations (max_iter) or scale the data as shown in:\n",
      "    https://scikit-learn.org/stable/modules/preprocessing.html\n",
      "Please also refer to the documentation for alternative solver options:\n",
      "    https://scikit-learn.org/stable/modules/linear_model.html#logistic-regression\n",
      "  n_iter_i = _check_optimize_result(\n",
      "D:\\anaconda\\lib\\site-packages\\sklearn\\linear_model\\_logistic.py:814: ConvergenceWarning: lbfgs failed to converge (status=1):\n",
      "STOP: TOTAL NO. of ITERATIONS REACHED LIMIT.\n",
      "\n",
      "Increase the number of iterations (max_iter) or scale the data as shown in:\n",
      "    https://scikit-learn.org/stable/modules/preprocessing.html\n",
      "Please also refer to the documentation for alternative solver options:\n",
      "    https://scikit-learn.org/stable/modules/linear_model.html#logistic-regression\n",
      "  n_iter_i = _check_optimize_result(\n",
      "D:\\anaconda\\lib\\site-packages\\sklearn\\linear_model\\_logistic.py:814: ConvergenceWarning: lbfgs failed to converge (status=1):\n",
      "STOP: TOTAL NO. of ITERATIONS REACHED LIMIT.\n",
      "\n",
      "Increase the number of iterations (max_iter) or scale the data as shown in:\n",
      "    https://scikit-learn.org/stable/modules/preprocessing.html\n",
      "Please also refer to the documentation for alternative solver options:\n",
      "    https://scikit-learn.org/stable/modules/linear_model.html#logistic-regression\n",
      "  n_iter_i = _check_optimize_result(\n",
      "D:\\anaconda\\lib\\site-packages\\sklearn\\linear_model\\_logistic.py:814: ConvergenceWarning: lbfgs failed to converge (status=1):\n",
      "STOP: TOTAL NO. of ITERATIONS REACHED LIMIT.\n",
      "\n",
      "Increase the number of iterations (max_iter) or scale the data as shown in:\n",
      "    https://scikit-learn.org/stable/modules/preprocessing.html\n",
      "Please also refer to the documentation for alternative solver options:\n",
      "    https://scikit-learn.org/stable/modules/linear_model.html#logistic-regression\n",
      "  n_iter_i = _check_optimize_result(\n",
      "D:\\anaconda\\lib\\site-packages\\sklearn\\linear_model\\_logistic.py:814: ConvergenceWarning: lbfgs failed to converge (status=1):\n",
      "STOP: TOTAL NO. of ITERATIONS REACHED LIMIT.\n",
      "\n",
      "Increase the number of iterations (max_iter) or scale the data as shown in:\n",
      "    https://scikit-learn.org/stable/modules/preprocessing.html\n",
      "Please also refer to the documentation for alternative solver options:\n",
      "    https://scikit-learn.org/stable/modules/linear_model.html#logistic-regression\n",
      "  n_iter_i = _check_optimize_result(\n",
      "D:\\anaconda\\lib\\site-packages\\sklearn\\linear_model\\_logistic.py:814: ConvergenceWarning: lbfgs failed to converge (status=1):\n",
      "STOP: TOTAL NO. of ITERATIONS REACHED LIMIT.\n",
      "\n",
      "Increase the number of iterations (max_iter) or scale the data as shown in:\n",
      "    https://scikit-learn.org/stable/modules/preprocessing.html\n",
      "Please also refer to the documentation for alternative solver options:\n",
      "    https://scikit-learn.org/stable/modules/linear_model.html#logistic-regression\n",
      "  n_iter_i = _check_optimize_result(\n",
      "D:\\anaconda\\lib\\site-packages\\sklearn\\linear_model\\_logistic.py:814: ConvergenceWarning: lbfgs failed to converge (status=1):\n",
      "STOP: TOTAL NO. of ITERATIONS REACHED LIMIT.\n",
      "\n",
      "Increase the number of iterations (max_iter) or scale the data as shown in:\n",
      "    https://scikit-learn.org/stable/modules/preprocessing.html\n",
      "Please also refer to the documentation for alternative solver options:\n",
      "    https://scikit-learn.org/stable/modules/linear_model.html#logistic-regression\n",
      "  n_iter_i = _check_optimize_result(\n",
      "D:\\anaconda\\lib\\site-packages\\sklearn\\linear_model\\_logistic.py:814: ConvergenceWarning: lbfgs failed to converge (status=1):\n",
      "STOP: TOTAL NO. of ITERATIONS REACHED LIMIT.\n",
      "\n",
      "Increase the number of iterations (max_iter) or scale the data as shown in:\n",
      "    https://scikit-learn.org/stable/modules/preprocessing.html\n",
      "Please also refer to the documentation for alternative solver options:\n",
      "    https://scikit-learn.org/stable/modules/linear_model.html#logistic-regression\n",
      "  n_iter_i = _check_optimize_result(\n",
      "D:\\anaconda\\lib\\site-packages\\sklearn\\linear_model\\_logistic.py:814: ConvergenceWarning: lbfgs failed to converge (status=1):\n",
      "STOP: TOTAL NO. of ITERATIONS REACHED LIMIT.\n",
      "\n",
      "Increase the number of iterations (max_iter) or scale the data as shown in:\n",
      "    https://scikit-learn.org/stable/modules/preprocessing.html\n",
      "Please also refer to the documentation for alternative solver options:\n",
      "    https://scikit-learn.org/stable/modules/linear_model.html#logistic-regression\n",
      "  n_iter_i = _check_optimize_result(\n"
     ]
    },
    {
     "name": "stderr",
     "output_type": "stream",
     "text": [
      "D:\\anaconda\\lib\\site-packages\\sklearn\\linear_model\\_logistic.py:814: ConvergenceWarning: lbfgs failed to converge (status=1):\n",
      "STOP: TOTAL NO. of ITERATIONS REACHED LIMIT.\n",
      "\n",
      "Increase the number of iterations (max_iter) or scale the data as shown in:\n",
      "    https://scikit-learn.org/stable/modules/preprocessing.html\n",
      "Please also refer to the documentation for alternative solver options:\n",
      "    https://scikit-learn.org/stable/modules/linear_model.html#logistic-regression\n",
      "  n_iter_i = _check_optimize_result(\n",
      "D:\\anaconda\\lib\\site-packages\\sklearn\\linear_model\\_logistic.py:814: ConvergenceWarning: lbfgs failed to converge (status=1):\n",
      "STOP: TOTAL NO. of ITERATIONS REACHED LIMIT.\n",
      "\n",
      "Increase the number of iterations (max_iter) or scale the data as shown in:\n",
      "    https://scikit-learn.org/stable/modules/preprocessing.html\n",
      "Please also refer to the documentation for alternative solver options:\n",
      "    https://scikit-learn.org/stable/modules/linear_model.html#logistic-regression\n",
      "  n_iter_i = _check_optimize_result(\n",
      "D:\\anaconda\\lib\\site-packages\\sklearn\\linear_model\\_logistic.py:814: ConvergenceWarning: lbfgs failed to converge (status=1):\n",
      "STOP: TOTAL NO. of ITERATIONS REACHED LIMIT.\n",
      "\n",
      "Increase the number of iterations (max_iter) or scale the data as shown in:\n",
      "    https://scikit-learn.org/stable/modules/preprocessing.html\n",
      "Please also refer to the documentation for alternative solver options:\n",
      "    https://scikit-learn.org/stable/modules/linear_model.html#logistic-regression\n",
      "  n_iter_i = _check_optimize_result(\n",
      "D:\\anaconda\\lib\\site-packages\\sklearn\\linear_model\\_logistic.py:814: ConvergenceWarning: lbfgs failed to converge (status=1):\n",
      "STOP: TOTAL NO. of ITERATIONS REACHED LIMIT.\n",
      "\n",
      "Increase the number of iterations (max_iter) or scale the data as shown in:\n",
      "    https://scikit-learn.org/stable/modules/preprocessing.html\n",
      "Please also refer to the documentation for alternative solver options:\n",
      "    https://scikit-learn.org/stable/modules/linear_model.html#logistic-regression\n",
      "  n_iter_i = _check_optimize_result(\n"
     ]
    },
    {
     "data": {
      "text/plain": [
       "GridSearchCV(cv=5,\n",
       "             estimator=Pipeline(steps=[('countvectorizer',\n",
       "                                        CountVectorizer(token_pattern='\\\\b\\\\w\\\\w+\\\\b')),\n",
       "                                       ('logisticregression',\n",
       "                                        LogisticRegression(C=1,\n",
       "                                                           solver='liblinear'))]),\n",
       "             param_grid={'countvectorizer__token_pattern': ['\\\\b\\\\w\\\\w+\\\\b',\n",
       "                                                            \"'([a-z ]+)'\"],\n",
       "                         'logisticregression__C': [0.5, 1]},\n",
       "             scoring='accuracy')"
      ]
     },
     "execution_count": 62,
     "metadata": {},
     "output_type": "execute_result"
    }
   ],
   "source": [
    "grid.fit(X, y) #task 1\n",
    "grid_1.fit(X1, y1) #task 2.1\n",
    "grid_2.fit(X2, y2) #task 2.2\n",
    "grid_3.fit(X3, y3) #task 2.3\n",
    "grid_4.fit(X4, y4) #task 2.4"
   ]
  },
  {
   "cell_type": "markdown",
   "id": "34beab54",
   "metadata": {},
   "source": [
    "- rand 分X，y；grid_n分X1,y1"
   ]
  },
  {
   "cell_type": "code",
   "execution_count": 103,
   "id": "4aa0b4a7",
   "metadata": {},
   "outputs": [
    {
     "data": {
      "text/plain": [
       "GridSearchCV(cv=5,\n",
       "             estimator=Pipeline(steps=[('countvectorizer',\n",
       "                                        CountVectorizer(token_pattern='\\\\b\\\\w\\\\w+\\\\b')),\n",
       "                                       ('logisticregression',\n",
       "                                        LogisticRegression(C=1,\n",
       "                                                           solver='liblinear'))]),\n",
       "             param_grid={'countvectorizer__token_pattern': ['\\\\b\\\\w\\\\w+\\\\b',\n",
       "                                                            \"'([a-z ]+)'\"],\n",
       "                         'logisticregression__C': [0.5, 1]},\n",
       "             scoring='accuracy')"
      ]
     },
     "execution_count": 103,
     "metadata": {},
     "output_type": "execute_result"
    }
   ],
   "source": [
    "rand.fit(X, y) #task 1\n",
    "grid_1.fit(X1, y1) #task 2.1\n",
    "grid_2.fit(X2, y2) #task 2.2\n",
    "grid_3.fit(X3, y3) #task 2.3\n",
    "grid_4.fit(X4, y4) #task 2.4"
   ]
  },
  {
   "cell_type": "markdown",
   "id": "c8ba7ae7",
   "metadata": {},
   "source": [
    "- step 1 :predict which group are each test_data"
   ]
  },
  {
   "cell_type": "code",
   "execution_count": 104,
   "id": "f6ce596b",
   "metadata": {},
   "outputs": [
    {
     "data": {
      "text/plain": [
       "array([2, 2, 3, ..., 3, 2, 4], dtype=int64)"
      ]
     },
     "execution_count": 104,
     "metadata": {},
     "output_type": "execute_result"
    }
   ],
   "source": [
    "# for the new data, first make cuisine group predictions\n",
    "X_new = new.ingredients_str\n",
    "new_pred_group = rand.predict(X_new)\n",
    "new_pred_group"
   ]
  },
  {
   "cell_type": "code",
   "execution_count": 63,
   "id": "1161779f",
   "metadata": {},
   "outputs": [
    {
     "data": {
      "text/plain": [
       "array([2, 2, 3, ..., 3, 2, 4], dtype=int64)"
      ]
     },
     "execution_count": 63,
     "metadata": {},
     "output_type": "execute_result"
    }
   ],
   "source": [
    "X_new = new.ingredients_str\n",
    "new_pred_group = grid.predict(X_new)\n",
    "new_pred_group"
   ]
  },
  {
   "cell_type": "markdown",
   "id": "f1b26380",
   "metadata": {},
   "source": [
    "- step 2: predict which exact type for the data in each group"
   ]
  },
  {
   "cell_type": "code",
   "execution_count": 105,
   "id": "6f4c0a7d",
   "metadata": {},
   "outputs": [
    {
     "name": "stdout",
     "output_type": "stream",
     "text": [
      "['chinese' 'japanese' 'vietnamese' ... 'thai' 'chinese' 'thai']\n",
      "['british' 'southern_us' 'southern_us' ... 'french' 'southern_us'\n",
      " 'southern_us']\n",
      "['italian' 'italian' 'italian' ... 'italian' 'italian' 'italian']\n",
      "['cajun_creole' 'mexican' 'indian' ... 'mexican' 'indian' 'mexican']\n"
     ]
    }
   ],
   "source": [
    "'''\n",
    "new_pred_class_1 = pipe_1.predict(X_new[new_pred_group==1])\n",
    "new_pred_class_2 = pipe_2.predict(X_new[new_pred_group==2])\n",
    "new_pred_class_3 = pipe_3.predict(X_new[new_pred_group==3])\n",
    "new_pred_class_4 = pipe_4.predict(X_new[new_pred_group==4])\n",
    "print(new_pred_class_1)\n",
    "print(new_pred_class_2)\n",
    "print(new_pred_class_3)\n",
    "print(new_pred_class_4)\n",
    "'''\n",
    "new_pred_class_1 = grid_1.predict(X_new[new_pred_group==1])\n",
    "new_pred_class_2 = grid_2.predict(X_new[new_pred_group==2])\n",
    "new_pred_class_3 = grid_3.predict(X_new[new_pred_group==3])\n",
    "new_pred_class_4 = grid_4.predict(X_new[new_pred_group==4])\n",
    "print(new_pred_class_1)\n",
    "print(new_pred_class_2)\n",
    "print(new_pred_class_3)\n",
    "print(new_pred_class_4)"
   ]
  },
  {
   "cell_type": "code",
   "execution_count": 106,
   "id": "382751de",
   "metadata": {},
   "outputs": [],
   "source": [
    "# add the cuisine predictions to the DataFrame of new data\n",
    "new.loc[new_pred_group==1, 'pred_class'] = new_pred_class_1\n",
    "new.loc[new_pred_group==2, 'pred_class'] = new_pred_class_2\n",
    "new.loc[new_pred_group==3, 'pred_class'] = new_pred_class_3\n",
    "new.loc[new_pred_group==4, 'pred_class'] = new_pred_class_4"
   ]
  },
  {
   "cell_type": "code",
   "execution_count": 107,
   "id": "a7ebe9a3",
   "metadata": {},
   "outputs": [
    {
     "data": {
      "text/html": [
       "<div>\n",
       "<style scoped>\n",
       "    .dataframe tbody tr th:only-of-type {\n",
       "        vertical-align: middle;\n",
       "    }\n",
       "\n",
       "    .dataframe tbody tr th {\n",
       "        vertical-align: top;\n",
       "    }\n",
       "\n",
       "    .dataframe thead th {\n",
       "        text-align: right;\n",
       "    }\n",
       "</style>\n",
       "<table border=\"1\" class=\"dataframe\">\n",
       "  <thead>\n",
       "    <tr style=\"text-align: right;\">\n",
       "      <th></th>\n",
       "      <th>id</th>\n",
       "      <th>ingredients</th>\n",
       "      <th>num_ingredients</th>\n",
       "      <th>ingredients_length_mean</th>\n",
       "      <th>ingredients_length_sum</th>\n",
       "      <th>ingredients_str</th>\n",
       "      <th>pred_class</th>\n",
       "    </tr>\n",
       "  </thead>\n",
       "  <tbody>\n",
       "    <tr>\n",
       "      <th>0</th>\n",
       "      <td>18009</td>\n",
       "      <td>[baking powder, eggs, all-purpose flour, raisi...</td>\n",
       "      <td>6</td>\n",
       "      <td>9.333333</td>\n",
       "      <td>56</td>\n",
       "      <td>['baking powder', 'eggs', 'all-purpose flour',...</td>\n",
       "      <td>british</td>\n",
       "    </tr>\n",
       "    <tr>\n",
       "      <th>1</th>\n",
       "      <td>28583</td>\n",
       "      <td>[sugar, egg yolks, corn starch, cream of tarta...</td>\n",
       "      <td>11</td>\n",
       "      <td>10.272727</td>\n",
       "      <td>113</td>\n",
       "      <td>['sugar', 'egg yolks', 'corn starch', 'cream o...</td>\n",
       "      <td>southern_us</td>\n",
       "    </tr>\n",
       "    <tr>\n",
       "      <th>2</th>\n",
       "      <td>41580</td>\n",
       "      <td>[sausage links, fennel bulb, fronds, olive oil...</td>\n",
       "      <td>6</td>\n",
       "      <td>9.666667</td>\n",
       "      <td>58</td>\n",
       "      <td>['sausage links', 'fennel bulb', 'fronds', 'ol...</td>\n",
       "      <td>italian</td>\n",
       "    </tr>\n",
       "    <tr>\n",
       "      <th>3</th>\n",
       "      <td>29752</td>\n",
       "      <td>[meat cuts, file powder, smoked sausage, okra,...</td>\n",
       "      <td>21</td>\n",
       "      <td>12.000000</td>\n",
       "      <td>252</td>\n",
       "      <td>['meat cuts', 'file powder', 'smoked sausage',...</td>\n",
       "      <td>cajun_creole</td>\n",
       "    </tr>\n",
       "    <tr>\n",
       "      <th>4</th>\n",
       "      <td>35687</td>\n",
       "      <td>[ground black pepper, salt, sausage casings, l...</td>\n",
       "      <td>8</td>\n",
       "      <td>13.000000</td>\n",
       "      <td>104</td>\n",
       "      <td>['ground black pepper', 'salt', 'sausage casin...</td>\n",
       "      <td>italian</td>\n",
       "    </tr>\n",
       "  </tbody>\n",
       "</table>\n",
       "</div>"
      ],
      "text/plain": [
       "      id                                        ingredients  num_ingredients  \\\n",
       "0  18009  [baking powder, eggs, all-purpose flour, raisi...                6   \n",
       "1  28583  [sugar, egg yolks, corn starch, cream of tarta...               11   \n",
       "2  41580  [sausage links, fennel bulb, fronds, olive oil...                6   \n",
       "3  29752  [meat cuts, file powder, smoked sausage, okra,...               21   \n",
       "4  35687  [ground black pepper, salt, sausage casings, l...                8   \n",
       "\n",
       "   ingredients_length_mean  ingredients_length_sum  \\\n",
       "0                 9.333333                      56   \n",
       "1                10.272727                     113   \n",
       "2                 9.666667                      58   \n",
       "3                12.000000                     252   \n",
       "4                13.000000                     104   \n",
       "\n",
       "                                     ingredients_str    pred_class  \n",
       "0  ['baking powder', 'eggs', 'all-purpose flour',...       british  \n",
       "1  ['sugar', 'egg yolks', 'corn starch', 'cream o...   southern_us  \n",
       "2  ['sausage links', 'fennel bulb', 'fronds', 'ol...       italian  \n",
       "3  ['meat cuts', 'file powder', 'smoked sausage',...  cajun_creole  \n",
       "4  ['ground black pepper', 'salt', 'sausage casin...       italian  "
      ]
     },
     "execution_count": 107,
     "metadata": {},
     "output_type": "execute_result"
    }
   ],
   "source": [
    "new.head()"
   ]
  },
  {
   "cell_type": "code",
   "execution_count": 68,
   "id": "8c136009",
   "metadata": {},
   "outputs": [],
   "source": [
    "pd.DataFrame({'id':new.id, 'cuisine':new.pred_class}).set_index('id').to_csv('sub_samli_04.csv')"
   ]
  },
  {
   "cell_type": "code",
   "execution_count": 108,
   "id": "340f3837",
   "metadata": {},
   "outputs": [],
   "source": [
    "pd.DataFrame({'id':new.id, 'cuisine':new.pred_class}).set_index('id').to_csv('sub_samli_06.csv') #combine randomSearch and gridSearch based on linear regression"
   ]
  },
  {
   "cell_type": "markdown",
   "id": "9648edea",
   "metadata": {},
   "source": [
    "### 换成linearSVC分类器呢？"
   ]
  },
  {
   "cell_type": "code",
   "execution_count": 69,
   "id": "9a49f1cd",
   "metadata": {},
   "outputs": [
    {
     "data": {
      "text/plain": [
       "[('countvectorizer', CountVectorizer()),\n",
       " ('linearsvc', LinearSVC(C=0.78, random_state=0))]"
      ]
     },
     "execution_count": 69,
     "metadata": {},
     "output_type": "execute_result"
    }
   ],
   "source": [
    "from sklearn.svm import LinearSVC\n",
    "pipe_main = make_pipeline(CountVectorizer(), LinearSVC(C=0.78, penalty='l2', loss='squared_hinge', dual=True, max_iter=1000, random_state=0))\n",
    "pipe_main.steps"
   ]
  },
  {
   "cell_type": "code",
   "execution_count": 70,
   "id": "0ace0a13",
   "metadata": {},
   "outputs": [
    {
     "name": "stderr",
     "output_type": "stream",
     "text": [
      "D:\\anaconda\\lib\\site-packages\\sklearn\\svm\\_base.py:1206: ConvergenceWarning: Liblinear failed to converge, increase the number of iterations.\n",
      "  warnings.warn(\n",
      "D:\\anaconda\\lib\\site-packages\\sklearn\\svm\\_base.py:1206: ConvergenceWarning: Liblinear failed to converge, increase the number of iterations.\n",
      "  warnings.warn(\n",
      "D:\\anaconda\\lib\\site-packages\\sklearn\\svm\\_base.py:1206: ConvergenceWarning: Liblinear failed to converge, increase the number of iterations.\n",
      "  warnings.warn(\n",
      "D:\\anaconda\\lib\\site-packages\\sklearn\\svm\\_base.py:1206: ConvergenceWarning: Liblinear failed to converge, increase the number of iterations.\n",
      "  warnings.warn(\n",
      "D:\\anaconda\\lib\\site-packages\\sklearn\\svm\\_base.py:1206: ConvergenceWarning: Liblinear failed to converge, increase the number of iterations.\n",
      "  warnings.warn(\n",
      "D:\\anaconda\\lib\\site-packages\\sklearn\\svm\\_base.py:1206: ConvergenceWarning: Liblinear failed to converge, increase the number of iterations.\n",
      "  warnings.warn(\n"
     ]
    },
    {
     "data": {
      "text/plain": [
       "GridSearchCV(cv=5,\n",
       "             estimator=Pipeline(steps=[('countvectorizer', CountVectorizer()),\n",
       "                                       ('linearsvc',\n",
       "                                        LinearSVC(C=0.78, random_state=0))]),\n",
       "             param_grid={'countvectorizer__token_pattern': ['\\\\b\\\\w\\\\w+\\\\b',\n",
       "                                                            \"'([a-z ]+)'\"]},\n",
       "             scoring='accuracy')"
      ]
     },
     "execution_count": 70,
     "metadata": {},
     "output_type": "execute_result"
    }
   ],
   "source": [
    "param_grid = {}\n",
    "param_grid['countvectorizer__token_pattern'] = [r\"\\b\\w\\w+\\b\", r\"'([a-z ]+)'\"]\n",
    "grid_main = GridSearchCV(pipe_main, param_grid, cv=5, scoring='accuracy')\n",
    "grid_main.fit(X,y)"
   ]
  },
  {
   "cell_type": "code",
   "execution_count": 72,
   "id": "c8df2335",
   "metadata": {},
   "outputs": [
    {
     "name": "stdout",
     "output_type": "stream",
     "text": [
      "{'countvectorizer__token_pattern': '\\\\b\\\\w\\\\w+\\\\b'}\n",
      "0.8685323103128976\n"
     ]
    }
   ],
   "source": [
    "print(grid_main.best_params_)\n",
    "print(grid_main.best_score_)"
   ]
  },
  {
   "cell_type": "code",
   "execution_count": 73,
   "id": "9352cb6d",
   "metadata": {},
   "outputs": [],
   "source": [
    "pipe_1 = make_pipeline(CountVectorizer(), LinearSVC(C=0.78, penalty='l2', loss='squared_hinge', dual=True, max_iter=1000, random_state=0))\n",
    "pipe_2 = make_pipeline(CountVectorizer(), LinearSVC(C=0.78, penalty='l2', loss='squared_hinge', dual=True, max_iter=1000, random_state=0))\n",
    "pipe_3 = make_pipeline(CountVectorizer(), LinearSVC(C=0.78, penalty='l2', loss='squared_hinge', dual=True, max_iter=1000, random_state=0))\n",
    "pipe_4 = make_pipeline(CountVectorizer(), LinearSVC(C=0.78, penalty='l2', loss='squared_hinge', dual=True, max_iter=1000, random_state=0))"
   ]
  },
  {
   "cell_type": "code",
   "execution_count": 74,
   "id": "54b8ddd7",
   "metadata": {},
   "outputs": [
    {
     "name": "stderr",
     "output_type": "stream",
     "text": [
      "D:\\anaconda\\lib\\site-packages\\sklearn\\svm\\_base.py:1206: ConvergenceWarning: Liblinear failed to converge, increase the number of iterations.\n",
      "  warnings.warn(\n",
      "D:\\anaconda\\lib\\site-packages\\sklearn\\svm\\_base.py:1206: ConvergenceWarning: Liblinear failed to converge, increase the number of iterations.\n",
      "  warnings.warn(\n",
      "D:\\anaconda\\lib\\site-packages\\sklearn\\svm\\_base.py:1206: ConvergenceWarning: Liblinear failed to converge, increase the number of iterations.\n",
      "  warnings.warn(\n",
      "D:\\anaconda\\lib\\site-packages\\sklearn\\svm\\_base.py:1206: ConvergenceWarning: Liblinear failed to converge, increase the number of iterations.\n",
      "  warnings.warn(\n",
      "D:\\anaconda\\lib\\site-packages\\sklearn\\svm\\_base.py:1206: ConvergenceWarning: Liblinear failed to converge, increase the number of iterations.\n",
      "  warnings.warn(\n",
      "D:\\anaconda\\lib\\site-packages\\sklearn\\svm\\_base.py:1206: ConvergenceWarning: Liblinear failed to converge, increase the number of iterations.\n",
      "  warnings.warn(\n",
      "D:\\anaconda\\lib\\site-packages\\sklearn\\svm\\_base.py:1206: ConvergenceWarning: Liblinear failed to converge, increase the number of iterations.\n",
      "  warnings.warn(\n",
      "D:\\anaconda\\lib\\site-packages\\sklearn\\svm\\_base.py:1206: ConvergenceWarning: Liblinear failed to converge, increase the number of iterations.\n",
      "  warnings.warn(\n",
      "D:\\anaconda\\lib\\site-packages\\sklearn\\svm\\_base.py:1206: ConvergenceWarning: Liblinear failed to converge, increase the number of iterations.\n",
      "  warnings.warn(\n",
      "D:\\anaconda\\lib\\site-packages\\sklearn\\svm\\_base.py:1206: ConvergenceWarning: Liblinear failed to converge, increase the number of iterations.\n",
      "  warnings.warn(\n",
      "D:\\anaconda\\lib\\site-packages\\sklearn\\svm\\_base.py:1206: ConvergenceWarning: Liblinear failed to converge, increase the number of iterations.\n",
      "  warnings.warn(\n",
      "D:\\anaconda\\lib\\site-packages\\sklearn\\svm\\_base.py:1206: ConvergenceWarning: Liblinear failed to converge, increase the number of iterations.\n",
      "  warnings.warn(\n",
      "D:\\anaconda\\lib\\site-packages\\sklearn\\svm\\_base.py:1206: ConvergenceWarning: Liblinear failed to converge, increase the number of iterations.\n",
      "  warnings.warn(\n",
      "D:\\anaconda\\lib\\site-packages\\sklearn\\svm\\_base.py:1206: ConvergenceWarning: Liblinear failed to converge, increase the number of iterations.\n",
      "  warnings.warn(\n",
      "D:\\anaconda\\lib\\site-packages\\sklearn\\svm\\_base.py:1206: ConvergenceWarning: Liblinear failed to converge, increase the number of iterations.\n",
      "  warnings.warn(\n",
      "D:\\anaconda\\lib\\site-packages\\sklearn\\svm\\_base.py:1206: ConvergenceWarning: Liblinear failed to converge, increase the number of iterations.\n",
      "  warnings.warn(\n",
      "D:\\anaconda\\lib\\site-packages\\sklearn\\svm\\_base.py:1206: ConvergenceWarning: Liblinear failed to converge, increase the number of iterations.\n",
      "  warnings.warn(\n",
      "D:\\anaconda\\lib\\site-packages\\sklearn\\svm\\_base.py:1206: ConvergenceWarning: Liblinear failed to converge, increase the number of iterations.\n",
      "  warnings.warn(\n"
     ]
    },
    {
     "data": {
      "text/plain": [
       "GridSearchCV(cv=5,\n",
       "             estimator=Pipeline(steps=[('countvectorizer', CountVectorizer()),\n",
       "                                       ('linearsvc',\n",
       "                                        LinearSVC(C=0.78, random_state=0))]),\n",
       "             param_grid={'countvectorizer__token_pattern': ['\\\\b\\\\w\\\\w+\\\\b',\n",
       "                                                            \"'([a-z ]+)'\"]},\n",
       "             scoring='accuracy')"
      ]
     },
     "execution_count": 74,
     "metadata": {},
     "output_type": "execute_result"
    }
   ],
   "source": [
    "param_grid = {}\n",
    "param_grid['countvectorizer__token_pattern'] = [r\"\\b\\w\\w+\\b\", r\"'([a-z ]+)'\"]\n",
    "\n",
    "grid_1 = GridSearchCV(pipe_1, param_grid, cv=5, scoring='accuracy')\n",
    "grid_1.fit(X1,y1)\n",
    "\n",
    "param_grid = {}\n",
    "param_grid['countvectorizer__token_pattern'] = [r\"\\b\\w\\w+\\b\", r\"'([a-z ]+)'\"]\n",
    "\n",
    "grid_2 = GridSearchCV(pipe_2, param_grid, cv=5, scoring='accuracy')\n",
    "grid_2.fit(X2,y2)\n",
    "\n",
    "param_grid = {}\n",
    "param_grid['countvectorizer__token_pattern'] = [r\"\\b\\w\\w+\\b\", r\"'([a-z ]+)'\"]\n",
    "\n",
    "grid_3 = GridSearchCV(pipe_3, param_grid, cv=5, scoring='accuracy')\n",
    "grid_3.fit(X3,y3)\n",
    "\n",
    "param_grid = {}\n",
    "param_grid['countvectorizer__token_pattern'] = [r\"\\b\\w\\w+\\b\", r\"'([a-z ]+)'\"]\n",
    "\n",
    "grid_4 = GridSearchCV(pipe_4, param_grid, cv=5, scoring='accuracy')\n",
    "grid_4.fit(X4,y4)"
   ]
  },
  {
   "cell_type": "code",
   "execution_count": 75,
   "id": "daa8ef37",
   "metadata": {},
   "outputs": [
    {
     "name": "stdout",
     "output_type": "stream",
     "text": [
      "{'countvectorizer__token_pattern': '\\\\b\\\\w\\\\w+\\\\b'}\n",
      "0.791547545059043\n",
      "{'countvectorizer__token_pattern': '\\\\b\\\\w\\\\w+\\\\b'}\n",
      "0.7890434471661004\n",
      "{'countvectorizer__token_pattern': '\\\\b\\\\w\\\\w+\\\\b'}\n",
      "0.9007655398223289\n",
      "{'countvectorizer__token_pattern': '\\\\b\\\\w\\\\w+\\\\b'}\n",
      "0.9380634390651086\n"
     ]
    }
   ],
   "source": [
    "print(grid_1.best_params_)\n",
    "print(grid_1.best_score_)\n",
    "print(grid_2.best_params_)\n",
    "print(grid_2.best_score_)\n",
    "print(grid_3.best_params_)\n",
    "print(grid_3.best_score_)\n",
    "print(grid_4.best_params_)\n",
    "print(grid_4.best_score_)"
   ]
  },
  {
   "cell_type": "code",
   "execution_count": 76,
   "id": "be42cc2c",
   "metadata": {},
   "outputs": [
    {
     "name": "stderr",
     "output_type": "stream",
     "text": [
      "D:\\anaconda\\lib\\site-packages\\sklearn\\svm\\_base.py:1206: ConvergenceWarning: Liblinear failed to converge, increase the number of iterations.\n",
      "  warnings.warn(\n",
      "D:\\anaconda\\lib\\site-packages\\sklearn\\svm\\_base.py:1206: ConvergenceWarning: Liblinear failed to converge, increase the number of iterations.\n",
      "  warnings.warn(\n",
      "D:\\anaconda\\lib\\site-packages\\sklearn\\svm\\_base.py:1206: ConvergenceWarning: Liblinear failed to converge, increase the number of iterations.\n",
      "  warnings.warn(\n",
      "D:\\anaconda\\lib\\site-packages\\sklearn\\svm\\_base.py:1206: ConvergenceWarning: Liblinear failed to converge, increase the number of iterations.\n",
      "  warnings.warn(\n",
      "D:\\anaconda\\lib\\site-packages\\sklearn\\svm\\_base.py:1206: ConvergenceWarning: Liblinear failed to converge, increase the number of iterations.\n",
      "  warnings.warn(\n",
      "D:\\anaconda\\lib\\site-packages\\sklearn\\svm\\_base.py:1206: ConvergenceWarning: Liblinear failed to converge, increase the number of iterations.\n",
      "  warnings.warn(\n",
      "D:\\anaconda\\lib\\site-packages\\sklearn\\svm\\_base.py:1206: ConvergenceWarning: Liblinear failed to converge, increase the number of iterations.\n",
      "  warnings.warn(\n",
      "D:\\anaconda\\lib\\site-packages\\sklearn\\svm\\_base.py:1206: ConvergenceWarning: Liblinear failed to converge, increase the number of iterations.\n",
      "  warnings.warn(\n",
      "D:\\anaconda\\lib\\site-packages\\sklearn\\svm\\_base.py:1206: ConvergenceWarning: Liblinear failed to converge, increase the number of iterations.\n",
      "  warnings.warn(\n",
      "D:\\anaconda\\lib\\site-packages\\sklearn\\svm\\_base.py:1206: ConvergenceWarning: Liblinear failed to converge, increase the number of iterations.\n",
      "  warnings.warn(\n",
      "D:\\anaconda\\lib\\site-packages\\sklearn\\svm\\_base.py:1206: ConvergenceWarning: Liblinear failed to converge, increase the number of iterations.\n",
      "  warnings.warn(\n",
      "D:\\anaconda\\lib\\site-packages\\sklearn\\svm\\_base.py:1206: ConvergenceWarning: Liblinear failed to converge, increase the number of iterations.\n",
      "  warnings.warn(\n",
      "D:\\anaconda\\lib\\site-packages\\sklearn\\svm\\_base.py:1206: ConvergenceWarning: Liblinear failed to converge, increase the number of iterations.\n",
      "  warnings.warn(\n",
      "D:\\anaconda\\lib\\site-packages\\sklearn\\svm\\_base.py:1206: ConvergenceWarning: Liblinear failed to converge, increase the number of iterations.\n",
      "  warnings.warn(\n",
      "D:\\anaconda\\lib\\site-packages\\sklearn\\svm\\_base.py:1206: ConvergenceWarning: Liblinear failed to converge, increase the number of iterations.\n",
      "  warnings.warn(\n",
      "D:\\anaconda\\lib\\site-packages\\sklearn\\svm\\_base.py:1206: ConvergenceWarning: Liblinear failed to converge, increase the number of iterations.\n",
      "  warnings.warn(\n",
      "D:\\anaconda\\lib\\site-packages\\sklearn\\svm\\_base.py:1206: ConvergenceWarning: Liblinear failed to converge, increase the number of iterations.\n",
      "  warnings.warn(\n",
      "D:\\anaconda\\lib\\site-packages\\sklearn\\svm\\_base.py:1206: ConvergenceWarning: Liblinear failed to converge, increase the number of iterations.\n",
      "  warnings.warn(\n",
      "D:\\anaconda\\lib\\site-packages\\sklearn\\svm\\_base.py:1206: ConvergenceWarning: Liblinear failed to converge, increase the number of iterations.\n",
      "  warnings.warn(\n",
      "D:\\anaconda\\lib\\site-packages\\sklearn\\svm\\_base.py:1206: ConvergenceWarning: Liblinear failed to converge, increase the number of iterations.\n",
      "  warnings.warn(\n",
      "D:\\anaconda\\lib\\site-packages\\sklearn\\svm\\_base.py:1206: ConvergenceWarning: Liblinear failed to converge, increase the number of iterations.\n",
      "  warnings.warn(\n",
      "D:\\anaconda\\lib\\site-packages\\sklearn\\svm\\_base.py:1206: ConvergenceWarning: Liblinear failed to converge, increase the number of iterations.\n",
      "  warnings.warn(\n",
      "D:\\anaconda\\lib\\site-packages\\sklearn\\svm\\_base.py:1206: ConvergenceWarning: Liblinear failed to converge, increase the number of iterations.\n",
      "  warnings.warn(\n",
      "D:\\anaconda\\lib\\site-packages\\sklearn\\svm\\_base.py:1206: ConvergenceWarning: Liblinear failed to converge, increase the number of iterations.\n",
      "  warnings.warn(\n"
     ]
    },
    {
     "data": {
      "text/plain": [
       "GridSearchCV(cv=5,\n",
       "             estimator=Pipeline(steps=[('countvectorizer', CountVectorizer()),\n",
       "                                       ('linearsvc',\n",
       "                                        LinearSVC(C=0.78, random_state=0))]),\n",
       "             param_grid={'countvectorizer__token_pattern': ['\\\\b\\\\w\\\\w+\\\\b',\n",
       "                                                            \"'([a-z ]+)'\"]},\n",
       "             scoring='accuracy')"
      ]
     },
     "execution_count": 76,
     "metadata": {},
     "output_type": "execute_result"
    }
   ],
   "source": [
    "grid_main.fit(X, y) #task 1\n",
    "grid_1.fit(X1, y1) #task 2.1\n",
    "grid_2.fit(X2, y2) #task 2.2\n",
    "grid_3.fit(X3, y3) #task 2.3\n",
    "grid_4.fit(X4, y4) #task 2.4"
   ]
  },
  {
   "cell_type": "code",
   "execution_count": 77,
   "id": "649c0fda",
   "metadata": {},
   "outputs": [
    {
     "data": {
      "text/plain": [
       "array([2, 2, 3, ..., 3, 2, 4], dtype=int64)"
      ]
     },
     "execution_count": 77,
     "metadata": {},
     "output_type": "execute_result"
    }
   ],
   "source": [
    "X_new = new.ingredients_str\n",
    "new_pred_group = grid_main.predict(X_new)\n",
    "new_pred_group"
   ]
  },
  {
   "cell_type": "code",
   "execution_count": 78,
   "id": "17c86ed6",
   "metadata": {},
   "outputs": [
    {
     "name": "stdout",
     "output_type": "stream",
     "text": [
      "['chinese' 'japanese' 'vietnamese' ... 'thai' 'chinese' 'chinese']\n",
      "['irish' 'southern_us' 'southern_us' ... 'french' 'southern_us'\n",
      " 'southern_us']\n",
      "['italian' 'italian' 'italian' ... 'italian' 'italian' 'italian']\n",
      "['cajun_creole' 'mexican' 'indian' ... 'mexican' 'indian' 'mexican']\n"
     ]
    }
   ],
   "source": [
    "new_pred_class_1 = grid_1.predict(X_new[new_pred_group==1])\n",
    "new_pred_class_2 = grid_2.predict(X_new[new_pred_group==2])\n",
    "new_pred_class_3 = grid_3.predict(X_new[new_pred_group==3])\n",
    "new_pred_class_4 = grid_4.predict(X_new[new_pred_group==4])\n",
    "print(new_pred_class_1)\n",
    "print(new_pred_class_2)\n",
    "print(new_pred_class_3)\n",
    "print(new_pred_class_4)"
   ]
  },
  {
   "cell_type": "code",
   "execution_count": 79,
   "id": "23cb1c32",
   "metadata": {},
   "outputs": [],
   "source": [
    "new.loc[new_pred_group==1, 'pred_class'] = new_pred_class_1\n",
    "new.loc[new_pred_group==2, 'pred_class'] = new_pred_class_2\n",
    "new.loc[new_pred_group==3, 'pred_class'] = new_pred_class_3\n",
    "new.loc[new_pred_group==4, 'pred_class'] = new_pred_class_4"
   ]
  },
  {
   "cell_type": "code",
   "execution_count": 80,
   "id": "1624a57b",
   "metadata": {},
   "outputs": [],
   "source": [
    "pd.DataFrame({'id':new.id, 'cuisine':new.pred_class}).set_index('id').to_csv('sub_samli_05.csv')"
   ]
  },
  {
   "cell_type": "code",
   "execution_count": null,
   "id": "482d533e",
   "metadata": {},
   "outputs": [],
   "source": []
  }
 ],
 "metadata": {
  "kernelspec": {
   "display_name": "Python 3 (ipykernel)",
   "language": "python",
   "name": "python3"
  },
  "language_info": {
   "codemirror_mode": {
    "name": "ipython",
    "version": 3
   },
   "file_extension": ".py",
   "mimetype": "text/x-python",
   "name": "python",
   "nbconvert_exporter": "python",
   "pygments_lexer": "ipython3",
   "version": "3.9.7"
  }
 },
 "nbformat": 4,
 "nbformat_minor": 5
}
