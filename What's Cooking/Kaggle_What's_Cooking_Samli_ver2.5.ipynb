{
 "cells": [
  {
   "cell_type": "code",
   "execution_count": 1,
   "id": "be1124ae",
   "metadata": {},
   "outputs": [],
   "source": [
    "import pandas as pd\n",
    "import numpy as np"
   ]
  },
  {
   "cell_type": "markdown",
   "id": "7babef19",
   "metadata": {},
   "source": [
    "## 1) Try to create an Ensembling model\n",
    "  - KNN + LogisticRegression "
   ]
  },
  {
   "cell_type": "code",
   "execution_count": 2,
   "id": "e09d2014",
   "metadata": {},
   "outputs": [],
   "source": [
    "def make_features(df):\n",
    "    df['num_ingredients'] = df.ingredients.apply(len) #长度\n",
    "    df['ingredients_length_mean'] = df.ingredients.apply(lambda x: np.mean([len(item) for item in x]))\n",
    "    df['ingredients_length_sum'] = df.ingredients.apply(lambda x: np.sum([len(item) for item in x])) \n",
    "    df['ingredients_str'] = df.ingredients.astype(str)\n",
    "    \n",
    "    return df"
   ]
  },
  {
   "cell_type": "code",
   "execution_count": 3,
   "id": "d8e0b04b",
   "metadata": {},
   "outputs": [
    {
     "data": {
      "text/html": [
       "<div>\n",
       "<style scoped>\n",
       "    .dataframe tbody tr th:only-of-type {\n",
       "        vertical-align: middle;\n",
       "    }\n",
       "\n",
       "    .dataframe tbody tr th {\n",
       "        vertical-align: top;\n",
       "    }\n",
       "\n",
       "    .dataframe thead th {\n",
       "        text-align: right;\n",
       "    }\n",
       "</style>\n",
       "<table border=\"1\" class=\"dataframe\">\n",
       "  <thead>\n",
       "    <tr style=\"text-align: right;\">\n",
       "      <th></th>\n",
       "      <th>id</th>\n",
       "      <th>cuisine</th>\n",
       "      <th>ingredients</th>\n",
       "      <th>num_ingredients</th>\n",
       "      <th>ingredients_length_mean</th>\n",
       "      <th>ingredients_length_sum</th>\n",
       "      <th>ingredients_str</th>\n",
       "    </tr>\n",
       "  </thead>\n",
       "  <tbody>\n",
       "    <tr>\n",
       "      <th>0</th>\n",
       "      <td>10259</td>\n",
       "      <td>greek</td>\n",
       "      <td>[romaine lettuce, black olives, grape tomatoes...</td>\n",
       "      <td>9</td>\n",
       "      <td>12.000000</td>\n",
       "      <td>108</td>\n",
       "      <td>['romaine lettuce', 'black olives', 'grape tom...</td>\n",
       "    </tr>\n",
       "    <tr>\n",
       "      <th>1</th>\n",
       "      <td>25693</td>\n",
       "      <td>southern_us</td>\n",
       "      <td>[plain flour, ground pepper, salt, tomatoes, g...</td>\n",
       "      <td>11</td>\n",
       "      <td>10.090909</td>\n",
       "      <td>111</td>\n",
       "      <td>['plain flour', 'ground pepper', 'salt', 'toma...</td>\n",
       "    </tr>\n",
       "    <tr>\n",
       "      <th>2</th>\n",
       "      <td>20130</td>\n",
       "      <td>filipino</td>\n",
       "      <td>[eggs, pepper, salt, mayonaise, cooking oil, g...</td>\n",
       "      <td>12</td>\n",
       "      <td>10.333333</td>\n",
       "      <td>124</td>\n",
       "      <td>['eggs', 'pepper', 'salt', 'mayonaise', 'cooki...</td>\n",
       "    </tr>\n",
       "    <tr>\n",
       "      <th>3</th>\n",
       "      <td>22213</td>\n",
       "      <td>indian</td>\n",
       "      <td>[water, vegetable oil, wheat, salt]</td>\n",
       "      <td>4</td>\n",
       "      <td>6.750000</td>\n",
       "      <td>27</td>\n",
       "      <td>['water', 'vegetable oil', 'wheat', 'salt']</td>\n",
       "    </tr>\n",
       "    <tr>\n",
       "      <th>4</th>\n",
       "      <td>13162</td>\n",
       "      <td>indian</td>\n",
       "      <td>[black pepper, shallots, cornflour, cayenne pe...</td>\n",
       "      <td>20</td>\n",
       "      <td>10.100000</td>\n",
       "      <td>202</td>\n",
       "      <td>['black pepper', 'shallots', 'cornflour', 'cay...</td>\n",
       "    </tr>\n",
       "  </tbody>\n",
       "</table>\n",
       "</div>"
      ],
      "text/plain": [
       "      id      cuisine                                        ingredients  \\\n",
       "0  10259        greek  [romaine lettuce, black olives, grape tomatoes...   \n",
       "1  25693  southern_us  [plain flour, ground pepper, salt, tomatoes, g...   \n",
       "2  20130     filipino  [eggs, pepper, salt, mayonaise, cooking oil, g...   \n",
       "3  22213       indian                [water, vegetable oil, wheat, salt]   \n",
       "4  13162       indian  [black pepper, shallots, cornflour, cayenne pe...   \n",
       "\n",
       "   num_ingredients  ingredients_length_mean  ingredients_length_sum  \\\n",
       "0                9                12.000000                     108   \n",
       "1               11                10.090909                     111   \n",
       "2               12                10.333333                     124   \n",
       "3                4                 6.750000                      27   \n",
       "4               20                10.100000                     202   \n",
       "\n",
       "                                     ingredients_str  \n",
       "0  ['romaine lettuce', 'black olives', 'grape tom...  \n",
       "1  ['plain flour', 'ground pepper', 'salt', 'toma...  \n",
       "2  ['eggs', 'pepper', 'salt', 'mayonaise', 'cooki...  \n",
       "3        ['water', 'vegetable oil', 'wheat', 'salt']  \n",
       "4  ['black pepper', 'shallots', 'cornflour', 'cay...  "
      ]
     },
     "execution_count": 3,
     "metadata": {},
     "output_type": "execute_result"
    }
   ],
   "source": [
    "train = make_features(pd.read_json(\"C:/Users/lijin/Desktop/ML-text-main/data/train.json\"))\n",
    "train.head()"
   ]
  },
  {
   "cell_type": "code",
   "execution_count": 4,
   "id": "d2f180c2",
   "metadata": {},
   "outputs": [],
   "source": [
    "y = train.cuisine"
   ]
  },
  {
   "cell_type": "code",
   "execution_count": 5,
   "id": "65c1cad2",
   "metadata": {},
   "outputs": [
    {
     "data": {
      "text/html": [
       "<div>\n",
       "<style scoped>\n",
       "    .dataframe tbody tr th:only-of-type {\n",
       "        vertical-align: middle;\n",
       "    }\n",
       "\n",
       "    .dataframe tbody tr th {\n",
       "        vertical-align: top;\n",
       "    }\n",
       "\n",
       "    .dataframe thead th {\n",
       "        text-align: right;\n",
       "    }\n",
       "</style>\n",
       "<table border=\"1\" class=\"dataframe\">\n",
       "  <thead>\n",
       "    <tr style=\"text-align: right;\">\n",
       "      <th></th>\n",
       "      <th>id</th>\n",
       "      <th>ingredients</th>\n",
       "      <th>num_ingredients</th>\n",
       "      <th>ingredients_length_mean</th>\n",
       "      <th>ingredients_length_sum</th>\n",
       "      <th>ingredients_str</th>\n",
       "    </tr>\n",
       "  </thead>\n",
       "  <tbody>\n",
       "    <tr>\n",
       "      <th>0</th>\n",
       "      <td>18009</td>\n",
       "      <td>[baking powder, eggs, all-purpose flour, raisi...</td>\n",
       "      <td>6</td>\n",
       "      <td>9.333333</td>\n",
       "      <td>56</td>\n",
       "      <td>['baking powder', 'eggs', 'all-purpose flour',...</td>\n",
       "    </tr>\n",
       "    <tr>\n",
       "      <th>1</th>\n",
       "      <td>28583</td>\n",
       "      <td>[sugar, egg yolks, corn starch, cream of tarta...</td>\n",
       "      <td>11</td>\n",
       "      <td>10.272727</td>\n",
       "      <td>113</td>\n",
       "      <td>['sugar', 'egg yolks', 'corn starch', 'cream o...</td>\n",
       "    </tr>\n",
       "    <tr>\n",
       "      <th>2</th>\n",
       "      <td>41580</td>\n",
       "      <td>[sausage links, fennel bulb, fronds, olive oil...</td>\n",
       "      <td>6</td>\n",
       "      <td>9.666667</td>\n",
       "      <td>58</td>\n",
       "      <td>['sausage links', 'fennel bulb', 'fronds', 'ol...</td>\n",
       "    </tr>\n",
       "    <tr>\n",
       "      <th>3</th>\n",
       "      <td>29752</td>\n",
       "      <td>[meat cuts, file powder, smoked sausage, okra,...</td>\n",
       "      <td>21</td>\n",
       "      <td>12.000000</td>\n",
       "      <td>252</td>\n",
       "      <td>['meat cuts', 'file powder', 'smoked sausage',...</td>\n",
       "    </tr>\n",
       "    <tr>\n",
       "      <th>4</th>\n",
       "      <td>35687</td>\n",
       "      <td>[ground black pepper, salt, sausage casings, l...</td>\n",
       "      <td>8</td>\n",
       "      <td>13.000000</td>\n",
       "      <td>104</td>\n",
       "      <td>['ground black pepper', 'salt', 'sausage casin...</td>\n",
       "    </tr>\n",
       "  </tbody>\n",
       "</table>\n",
       "</div>"
      ],
      "text/plain": [
       "      id                                        ingredients  num_ingredients  \\\n",
       "0  18009  [baking powder, eggs, all-purpose flour, raisi...                6   \n",
       "1  28583  [sugar, egg yolks, corn starch, cream of tarta...               11   \n",
       "2  41580  [sausage links, fennel bulb, fronds, olive oil...                6   \n",
       "3  29752  [meat cuts, file powder, smoked sausage, okra,...               21   \n",
       "4  35687  [ground black pepper, salt, sausage casings, l...                8   \n",
       "\n",
       "   ingredients_length_mean  ingredients_length_sum  \\\n",
       "0                 9.333333                      56   \n",
       "1                10.272727                     113   \n",
       "2                 9.666667                      58   \n",
       "3                12.000000                     252   \n",
       "4                13.000000                     104   \n",
       "\n",
       "                                     ingredients_str  \n",
       "0  ['baking powder', 'eggs', 'all-purpose flour',...  \n",
       "1  ['sugar', 'egg yolks', 'corn starch', 'cream o...  \n",
       "2  ['sausage links', 'fennel bulb', 'fronds', 'ol...  \n",
       "3  ['meat cuts', 'file powder', 'smoked sausage',...  \n",
       "4  ['ground black pepper', 'salt', 'sausage casin...  "
      ]
     },
     "execution_count": 5,
     "metadata": {},
     "output_type": "execute_result"
    }
   ],
   "source": [
    "new = make_features(pd.read_json(\"C:/Users/lijin/Desktop/ML-text-main/data/test.json\"))\n",
    "new.head()"
   ]
  },
  {
   "cell_type": "markdown",
   "id": "c0c80c03",
   "metadata": {},
   "source": [
    "- Use 3 columns for KNN as part 1 of ensembling model and (CountVectorizer + LogisticRegression) as part 2 of ensembling model"
   ]
  },
  {
   "cell_type": "markdown",
   "id": "23198797",
   "metadata": {},
   "source": [
    "### model 1: KNN by using the self-created features"
   ]
  },
  {
   "cell_type": "code",
   "execution_count": 6,
   "id": "8ea5e541",
   "metadata": {},
   "outputs": [],
   "source": [
    "#引入通过ver1 找到的最好的参数\n",
    "from sklearn.pipeline import make_pipeline\n",
    "from sklearn.linear_model import LogisticRegression\n",
    "from sklearn.compose import make_column_transformer\n",
    "from sklearn.feature_extraction.text import CountVectorizer"
   ]
  },
  {
   "cell_type": "code",
   "execution_count": 7,
   "id": "22fe4332",
   "metadata": {},
   "outputs": [],
   "source": [
    "vect = CountVectorizer(token_pattern = r\"\\b\\w\\w+\\b\")"
   ]
  },
  {
   "cell_type": "code",
   "execution_count": 8,
   "id": "fcd6e9fa",
   "metadata": {},
   "outputs": [],
   "source": [
    "ct = make_column_transformer(\n",
    "    (vect, 'ingredients_str'), #这列要使用CountVectorizer()\n",
    "    remainder = 'drop' #其它列删除\n",
    "    )"
   ]
  },
  {
   "cell_type": "code",
   "execution_count": 9,
   "id": "0894dba3",
   "metadata": {},
   "outputs": [],
   "source": [
    "lg = LogisticRegression(C=1,solver='liblinear')"
   ]
  },
  {
   "cell_type": "markdown",
   "id": "f9a676cd",
   "metadata": {},
   "source": [
    "## 2) Try to create the Ensembling model (VotingClassifier)"
   ]
  },
  {
   "cell_type": "markdown",
   "id": "7353960b",
   "metadata": {},
   "source": [
    "### model 1: svm.svc;model 2:random forest;model 3:logistic_regression"
   ]
  },
  {
   "cell_type": "code",
   "execution_count": 10,
   "id": "577ff87a",
   "metadata": {},
   "outputs": [],
   "source": [
    "from sklearn.svm import SVC\n",
    "from sklearn.ensemble import RandomForestClassifier"
   ]
  },
  {
   "cell_type": "code",
   "execution_count": 11,
   "id": "56339dfe",
   "metadata": {},
   "outputs": [],
   "source": [
    "svc = SVC(kernel='rbf', C=1.0, gamma='auto',probability=True)\n",
    "rfc = RandomForestClassifier(max_features=None)"
   ]
  },
  {
   "cell_type": "code",
   "execution_count": 12,
   "id": "09058fe3",
   "metadata": {},
   "outputs": [],
   "source": [
    "from sklearn.ensemble import VotingClassifier\n",
    "#vc = VotingClassifier([('clf1', svc),('clf2', rfc),('clf3', lg)])\n",
    "vc = VotingClassifier([('clf1', svc),('clf2', rfc),('clf3', lg)],voting='soft',weights=(1,1,2))"
   ]
  },
  {
   "cell_type": "code",
   "execution_count": 13,
   "id": "7b9ca7a4",
   "metadata": {},
   "outputs": [
    {
     "data": {
      "text/plain": [
       "[('columntransformer',\n",
       "  ColumnTransformer(transformers=[('countvectorizer',\n",
       "                                   CountVectorizer(token_pattern='\\\\b\\\\w\\\\w+\\\\b'),\n",
       "                                   'ingredients_str')])),\n",
       " ('votingclassifier',\n",
       "  VotingClassifier(estimators=[('clf1', SVC(gamma='auto', probability=True)),\n",
       "                               ('clf2',\n",
       "                                RandomForestClassifier(max_features=None)),\n",
       "                               ('clf3',\n",
       "                                LogisticRegression(C=1, solver='liblinear'))],\n",
       "                   voting='soft', weights=(1, 1, 2)))]"
      ]
     },
     "execution_count": 13,
     "metadata": {},
     "output_type": "execute_result"
    }
   ],
   "source": [
    "pipe = make_pipeline(ct,vc)\n",
    "pipe.steps"
   ]
  },
  {
   "cell_type": "code",
   "execution_count": 14,
   "id": "e4359fb4",
   "metadata": {},
   "outputs": [
    {
     "name": "stdout",
     "output_type": "stream",
     "text": [
      "Wall time: 59min 38s\n"
     ]
    },
    {
     "data": {
      "text/plain": [
       "Pipeline(steps=[('columntransformer',\n",
       "                 ColumnTransformer(transformers=[('countvectorizer',\n",
       "                                                  CountVectorizer(token_pattern='\\\\b\\\\w\\\\w+\\\\b'),\n",
       "                                                  'ingredients_str')])),\n",
       "                ('votingclassifier',\n",
       "                 VotingClassifier(estimators=[('clf1',\n",
       "                                               SVC(gamma='auto',\n",
       "                                                   probability=True)),\n",
       "                                              ('clf2',\n",
       "                                               RandomForestClassifier(max_features=None)),\n",
       "                                              ('clf3',\n",
       "                                               LogisticRegression(C=1,\n",
       "                                                                  solver='liblinear'))],\n",
       "                                  voting='soft', weights=(1, 1, 2)))])"
      ]
     },
     "execution_count": 14,
     "metadata": {},
     "output_type": "execute_result"
    }
   ],
   "source": [
    "%time pipe.fit(train,y)"
   ]
  },
  {
   "cell_type": "code",
   "execution_count": 19,
   "id": "c21035c6",
   "metadata": {},
   "outputs": [],
   "source": [
    "X_new = new\n",
    "X_new_predict = pipe.predict(X_new)"
   ]
  },
  {
   "cell_type": "code",
   "execution_count": 20,
   "id": "d2c381c3",
   "metadata": {},
   "outputs": [
    {
     "data": {
      "text/plain": [
       "array(['southern_us', 'southern_us', 'italian', ..., 'italian',\n",
       "       'southern_us', 'mexican'], dtype=object)"
      ]
     },
     "execution_count": 20,
     "metadata": {},
     "output_type": "execute_result"
    }
   ],
   "source": [
    "X_new_predict"
   ]
  },
  {
   "cell_type": "code",
   "execution_count": 21,
   "id": "6a52f3a4",
   "metadata": {},
   "outputs": [],
   "source": [
    "pd.DataFrame({'id':X_new.id,'cuisine':X_new_predict}).set_index('id').to_csv('sub_samli_03_gridsearch.csv')"
   ]
  },
  {
   "cell_type": "markdown",
   "id": "b1a7cbec",
   "metadata": {},
   "source": [
    "- 0.76297"
   ]
  },
  {
   "cell_type": "code",
   "execution_count": 18,
   "id": "482d533e",
   "metadata": {},
   "outputs": [
    {
     "name": "stdout",
     "output_type": "stream",
     "text": [
      "a\n"
     ]
    }
   ],
   "source": [
    "print('a')"
   ]
  },
  {
   "cell_type": "code",
   "execution_count": null,
   "id": "d8707fcd",
   "metadata": {},
   "outputs": [],
   "source": []
  }
 ],
 "metadata": {
  "kernelspec": {
   "display_name": "Python 3 (ipykernel)",
   "language": "python",
   "name": "python3"
  },
  "language_info": {
   "codemirror_mode": {
    "name": "ipython",
    "version": 3
   },
   "file_extension": ".py",
   "mimetype": "text/x-python",
   "name": "python",
   "nbconvert_exporter": "python",
   "pygments_lexer": "ipython3",
   "version": "3.9.7"
  }
 },
 "nbformat": 4,
 "nbformat_minor": 5
}
